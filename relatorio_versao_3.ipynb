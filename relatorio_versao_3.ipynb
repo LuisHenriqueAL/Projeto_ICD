{
 "cells": [
  {
   "cell_type": "markdown",
   "id": "90ea2b1a",
   "metadata": {},
   "source": [
    "# TED TALKS\n",
    "\n",
    "### Uma análise dos vídeos criados ao longo de 52 anos"
   ]
  },
  {
   "cell_type": "markdown",
   "id": "cd6127d7",
   "metadata": {},
   "source": [
    "Desde seu surgimento o TED Talks tem o propósito de disseminar ideias por meio de conferências feitas na Europa, Ásia e Américas, de forma que além das conferências, existem os vídeos, a fim de possibilitar mais ainda a disseminação das ideias que merecem sê-las, conforme seu próprio slogan.\n",
    "\n",
    "Esta análise tem como objetivo verificar como os vídeos do TED Talks se comportaram ao longo dos anos, em relação às visualizações, likes e quantidade de vídeos postados, bem como a progressão dos maiores autores sobre as ditas variáveis.\n",
    "\n",
    "##### Discentes: Luís Henrique Augustoo de Lima e Rafael Barboza de Almeida"
   ]
  },
  {
   "cell_type": "markdown",
   "id": "67f68ca5",
   "metadata": {},
   "source": [
    "Inicialmente vamos importar as bibliotecas necessárias para o projeto e inicializar o dataset original."
   ]
  },
  {
   "cell_type": "code",
   "execution_count": 1,
   "id": "f3446ca2",
   "metadata": {},
   "outputs": [],
   "source": [
    "import pandas as pd\n",
    "import seaborn as sns\n",
    "import numpy as np\n",
    "import matplotlib.pyplot as plt\n",
    "import matplotlib as mpl\n",
    "from sklearn.cluster import KMeans\n",
    "from scipy.stats import linregress\n",
    "from sklearn.feature_extraction.text import CountVectorizer\n",
    "from sklearn.decomposition import TruncatedSVD\n",
    "\n"
   ]
  },
  {
   "cell_type": "code",
   "execution_count": 2,
   "id": "9d8d7dfd",
   "metadata": {},
   "outputs": [
    {
     "data": {
      "text/html": [
       "<div>\n",
       "<style scoped>\n",
       "    .dataframe tbody tr th:only-of-type {\n",
       "        vertical-align: middle;\n",
       "    }\n",
       "\n",
       "    .dataframe tbody tr th {\n",
       "        vertical-align: top;\n",
       "    }\n",
       "\n",
       "    .dataframe thead th {\n",
       "        text-align: right;\n",
       "    }\n",
       "</style>\n",
       "<table border=\"1\" class=\"dataframe\">\n",
       "  <thead>\n",
       "    <tr style=\"text-align: right;\">\n",
       "      <th></th>\n",
       "      <th>title</th>\n",
       "      <th>author</th>\n",
       "      <th>date</th>\n",
       "      <th>views</th>\n",
       "      <th>likes</th>\n",
       "    </tr>\n",
       "  </thead>\n",
       "  <tbody>\n",
       "    <tr>\n",
       "      <th>0</th>\n",
       "      <td>Climate action needs new frontline leadership</td>\n",
       "      <td>Ozawa Bineshi Albert</td>\n",
       "      <td>December 2021</td>\n",
       "      <td>404000</td>\n",
       "      <td>12000</td>\n",
       "    </tr>\n",
       "    <tr>\n",
       "      <th>1</th>\n",
       "      <td>The dark history of the overthrow of Hawaii</td>\n",
       "      <td>Sydney Iaukea</td>\n",
       "      <td>February 2022</td>\n",
       "      <td>214000</td>\n",
       "      <td>6400</td>\n",
       "    </tr>\n",
       "    <tr>\n",
       "      <th>2</th>\n",
       "      <td>How play can spark new ideas for your business</td>\n",
       "      <td>Martin Reeves</td>\n",
       "      <td>September 2021</td>\n",
       "      <td>412000</td>\n",
       "      <td>12000</td>\n",
       "    </tr>\n",
       "    <tr>\n",
       "      <th>3</th>\n",
       "      <td>Why is China appointing judges to combat clima...</td>\n",
       "      <td>James K. Thornton</td>\n",
       "      <td>October 2021</td>\n",
       "      <td>427000</td>\n",
       "      <td>12000</td>\n",
       "    </tr>\n",
       "    <tr>\n",
       "      <th>4</th>\n",
       "      <td>Cement's carbon problem — and 2 ways to fix it</td>\n",
       "      <td>Mahendra Singhi</td>\n",
       "      <td>October 2021</td>\n",
       "      <td>2400</td>\n",
       "      <td>72</td>\n",
       "    </tr>\n",
       "  </tbody>\n",
       "</table>\n",
       "</div>"
      ],
      "text/plain": [
       "                                               title                author  \\\n",
       "0      Climate action needs new frontline leadership  Ozawa Bineshi Albert   \n",
       "1        The dark history of the overthrow of Hawaii         Sydney Iaukea   \n",
       "2     How play can spark new ideas for your business         Martin Reeves   \n",
       "3  Why is China appointing judges to combat clima...     James K. Thornton   \n",
       "4     Cement's carbon problem — and 2 ways to fix it       Mahendra Singhi   \n",
       "\n",
       "             date   views  likes  \n",
       "0   December 2021  404000  12000  \n",
       "1   February 2022  214000   6400  \n",
       "2  September 2021  412000  12000  \n",
       "3    October 2021  427000  12000  \n",
       "4    October 2021    2400     72  "
      ]
     },
     "execution_count": 2,
     "metadata": {},
     "output_type": "execute_result"
    }
   ],
   "source": [
    "df= pd.read_csv('TED_TALKS_data.csv').drop(columns =['link'])\n",
    "df.head()"
   ]
  },
  {
   "cell_type": "markdown",
   "id": "3379a018",
   "metadata": {},
   "source": [
    "Para este dataset iremos modificar suas colunas em alguns momentos, além de criar dataframes auxiliares, cada um com seu fim específico, para organizar melhor os dados."
   ]
  },
  {
   "cell_type": "code",
   "execution_count": 3,
   "id": "01538a4c",
   "metadata": {},
   "outputs": [
    {
     "data": {
      "text/html": [
       "<div>\n",
       "<style scoped>\n",
       "    .dataframe tbody tr th:only-of-type {\n",
       "        vertical-align: middle;\n",
       "    }\n",
       "\n",
       "    .dataframe tbody tr th {\n",
       "        vertical-align: top;\n",
       "    }\n",
       "\n",
       "    .dataframe thead th {\n",
       "        text-align: right;\n",
       "    }\n",
       "</style>\n",
       "<table border=\"1\" class=\"dataframe\">\n",
       "  <thead>\n",
       "    <tr style=\"text-align: right;\">\n",
       "      <th></th>\n",
       "      <th>title</th>\n",
       "      <th>author</th>\n",
       "      <th>date</th>\n",
       "      <th>views</th>\n",
       "      <th>likes</th>\n",
       "      <th>anos</th>\n",
       "    </tr>\n",
       "  </thead>\n",
       "  <tbody>\n",
       "    <tr>\n",
       "      <th>5436</th>\n",
       "      <td>Do schools kill creativity?</td>\n",
       "      <td>Sir Ken Robinson</td>\n",
       "      <td>2006-02-01</td>\n",
       "      <td>72000000</td>\n",
       "      <td>2100000</td>\n",
       "      <td>2006</td>\n",
       "    </tr>\n",
       "    <tr>\n",
       "      <th>4084</th>\n",
       "      <td>Your body language may shape who you are</td>\n",
       "      <td>Amy Cuddy</td>\n",
       "      <td>2012-06-01</td>\n",
       "      <td>64000000</td>\n",
       "      <td>1900000</td>\n",
       "      <td>2012</td>\n",
       "    </tr>\n",
       "    <tr>\n",
       "      <th>2958</th>\n",
       "      <td>Inside the mind of a master procrastinator</td>\n",
       "      <td>Tim Urban</td>\n",
       "      <td>2016-02-01</td>\n",
       "      <td>60000000</td>\n",
       "      <td>1800000</td>\n",
       "      <td>2016</td>\n",
       "    </tr>\n",
       "    <tr>\n",
       "      <th>4765</th>\n",
       "      <td>How great leaders inspire action</td>\n",
       "      <td>Simon Sinek</td>\n",
       "      <td>2009-09-01</td>\n",
       "      <td>57000000</td>\n",
       "      <td>1700000</td>\n",
       "      <td>2009</td>\n",
       "    </tr>\n",
       "    <tr>\n",
       "      <th>4605</th>\n",
       "      <td>The power of vulnerability</td>\n",
       "      <td>Brené Brown</td>\n",
       "      <td>2010-06-01</td>\n",
       "      <td>56000000</td>\n",
       "      <td>1700000</td>\n",
       "      <td>2010</td>\n",
       "    </tr>\n",
       "  </tbody>\n",
       "</table>\n",
       "</div>"
      ],
      "text/plain": [
       "                                           title            author       date  \\\n",
       "5436                 Do schools kill creativity?  Sir Ken Robinson 2006-02-01   \n",
       "4084    Your body language may shape who you are         Amy Cuddy 2012-06-01   \n",
       "2958  Inside the mind of a master procrastinator         Tim Urban 2016-02-01   \n",
       "4765            How great leaders inspire action       Simon Sinek 2009-09-01   \n",
       "4605                  The power of vulnerability       Brené Brown 2010-06-01   \n",
       "\n",
       "         views    likes  anos  \n",
       "5436  72000000  2100000  2006  \n",
       "4084  64000000  1900000  2012  \n",
       "2958  60000000  1800000  2016  \n",
       "4765  57000000  1700000  2009  \n",
       "4605  56000000  1700000  2010  "
      ]
     },
     "execution_count": 3,
     "metadata": {},
     "output_type": "execute_result"
    }
   ],
   "source": [
    "#Iicializando os datasets auxiliares e separando o ANO da coluna DATE no dataset original\n",
    "\n",
    "df2 = pd.DataFrame()  # Em relação aos anos\n",
    "df3 = pd.DataFrame()  # Em relação aos autores\n",
    "\n",
    "df['date'] = pd.to_datetime(df['date'])\n",
    "df['anos']= df['date'].dt.year\n",
    "df.sort_values(by='views', ascending = False).head()"
   ]
  },
  {
   "cell_type": "markdown",
   "id": "b6c16d05",
   "metadata": {},
   "source": [
    "Agora iremos começar a coletar os dados mais específicos que serão utilizados para as futuras análises, agrupando-os nos dataframes já inicializados (df2 e df3).\n",
    "\n",
    "### Coletando dados referente aos vídeos\n",
    "##### Agrupando dados no dataframe 2 (df2)"
   ]
  },
  {
   "cell_type": "code",
   "execution_count": 4,
   "id": "b81e0e14",
   "metadata": {},
   "outputs": [],
   "source": [
    "#Agrupando todos os anos (sem repetições) do dataframe original\n",
    "\n",
    "anossemrep = []\n",
    "for c in df['anos']:\n",
    "    if c not in anossemrep:\n",
    "        anossemrep.append(c)\n",
    "anossemrep = pd.DataFrame(anossemrep, columns = ['Ano']).sort_values(by=\"Ano\", ascending=False).reset_index(drop=True)\n",
    "df2['Anos'] = anossemrep"
   ]
  },
  {
   "cell_type": "code",
   "execution_count": 5,
   "id": "d5bcd41f",
   "metadata": {},
   "outputs": [],
   "source": [
    "#Coletando a quantidade de vídeos postados por ano\n",
    "\n",
    "contagemano= []\n",
    "for c in anossemrep['Ano']:\n",
    "    cont = 0\n",
    "    for i in df['anos']:\n",
    "        if c == i:\n",
    "            cont += 1\n",
    "    contagemano.append(cont)\n",
    "contagemano = pd.DataFrame(contagemano, columns=['Quantidade de Vídeos'])\n",
    "df2['Quantidade de Vídeos'] = contagemano"
   ]
  },
  {
   "cell_type": "code",
   "execution_count": 6,
   "id": "ca48a5a7",
   "metadata": {},
   "outputs": [],
   "source": [
    "#Coletando as visualizações por ano\n",
    "\n",
    "viewyear= []\n",
    "for c in anossemrep['Ano']:\n",
    "    total = 0\n",
    "    for n ,i in enumerate(df['anos']):\n",
    "        if c == i:\n",
    "            total += df['views'][n]\n",
    "    viewyear.append(total)\n",
    "viewyear = pd.DataFrame(viewyear, columns=['Visualização']).reset_index().drop(columns=['index'])\n",
    "df2['Visualização'] = viewyear"
   ]
  },
  {
   "cell_type": "code",
   "execution_count": 7,
   "id": "40663212",
   "metadata": {},
   "outputs": [],
   "source": [
    "#Coletando a quantidade de likes por ano\n",
    "\n",
    "likes = []\n",
    "for c in anossemrep['Ano']:\n",
    "    total = 0\n",
    "    for n ,i in enumerate(df['anos']):\n",
    "        if c == i:\n",
    "            total += df['likes'][n]\n",
    "    likes.append(total)\n",
    "likes = pd.DataFrame(likes, columns=['Likes']).reset_index().drop(columns=['index'])\n",
    "df2['Likes'] = likes"
   ]
  },
  {
   "cell_type": "code",
   "execution_count": 8,
   "id": "9c23b0c6",
   "metadata": {},
   "outputs": [],
   "source": [
    "#Calculando a média de visualizações por ano\n",
    "\n",
    "media_views = pd.DataFrame(viewyear['Visualização'] / contagemano['Quantidade de Vídeos'], columns=['Média de visualização']).round(2)\n",
    "df2['Média de visualização'] = media_views"
   ]
  },
  {
   "cell_type": "code",
   "execution_count": 9,
   "id": "61271112",
   "metadata": {},
   "outputs": [],
   "source": [
    "# Calculando a média de likes por ano\n",
    "\n",
    "media_like = pd.DataFrame(df2['Likes'] / df2['Quantidade de Vídeos'], columns=['Média de likes']).round(2)\n",
    "df2['Média de Likes'] = media_like"
   ]
  },
  {
   "cell_type": "markdown",
   "id": "3d0066ce",
   "metadata": {},
   "source": [
    "Agora, podemos ver como ficou o primeiro dataframe auxiliar após a coleta dos dados anteriores."
   ]
  },
  {
   "cell_type": "code",
   "execution_count": 10,
   "id": "1317a2ff",
   "metadata": {},
   "outputs": [
    {
     "data": {
      "text/html": [
       "<div>\n",
       "<style scoped>\n",
       "    .dataframe tbody tr th:only-of-type {\n",
       "        vertical-align: middle;\n",
       "    }\n",
       "\n",
       "    .dataframe tbody tr th {\n",
       "        vertical-align: top;\n",
       "    }\n",
       "\n",
       "    .dataframe thead th {\n",
       "        text-align: right;\n",
       "    }\n",
       "</style>\n",
       "<table border=\"1\" class=\"dataframe\">\n",
       "  <thead>\n",
       "    <tr style=\"text-align: right;\">\n",
       "      <th></th>\n",
       "      <th>Anos</th>\n",
       "      <th>Quantidade de Vídeos</th>\n",
       "      <th>Visualização</th>\n",
       "      <th>Likes</th>\n",
       "      <th>Média de visualização</th>\n",
       "      <th>Média de Likes</th>\n",
       "    </tr>\n",
       "  </thead>\n",
       "  <tbody>\n",
       "    <tr>\n",
       "      <th>0</th>\n",
       "      <td>2022</td>\n",
       "      <td>20</td>\n",
       "      <td>11470000</td>\n",
       "      <td>341254</td>\n",
       "      <td>573500.00</td>\n",
       "      <td>17062.70</td>\n",
       "    </tr>\n",
       "    <tr>\n",
       "      <th>1</th>\n",
       "      <td>2021</td>\n",
       "      <td>390</td>\n",
       "      <td>429728700</td>\n",
       "      <td>13058238</td>\n",
       "      <td>1101868.46</td>\n",
       "      <td>33482.66</td>\n",
       "    </tr>\n",
       "    <tr>\n",
       "      <th>2</th>\n",
       "      <td>2020</td>\n",
       "      <td>501</td>\n",
       "      <td>635944200</td>\n",
       "      <td>19297014</td>\n",
       "      <td>1269349.70</td>\n",
       "      <td>38516.99</td>\n",
       "    </tr>\n",
       "    <tr>\n",
       "      <th>3</th>\n",
       "      <td>2019</td>\n",
       "      <td>544</td>\n",
       "      <td>948119299</td>\n",
       "      <td>28764575</td>\n",
       "      <td>1742866.36</td>\n",
       "      <td>52876.06</td>\n",
       "    </tr>\n",
       "    <tr>\n",
       "      <th>4</th>\n",
       "      <td>2018</td>\n",
       "      <td>473</td>\n",
       "      <td>811857597</td>\n",
       "      <td>24671493</td>\n",
       "      <td>1716400.84</td>\n",
       "      <td>52159.60</td>\n",
       "    </tr>\n",
       "  </tbody>\n",
       "</table>\n",
       "</div>"
      ],
      "text/plain": [
       "   Anos  Quantidade de Vídeos  Visualização     Likes  Média de visualização  \\\n",
       "0  2022                    20      11470000    341254              573500.00   \n",
       "1  2021                   390     429728700  13058238             1101868.46   \n",
       "2  2020                   501     635944200  19297014             1269349.70   \n",
       "3  2019                   544     948119299  28764575             1742866.36   \n",
       "4  2018                   473     811857597  24671493             1716400.84   \n",
       "\n",
       "   Média de Likes  \n",
       "0        17062.70  \n",
       "1        33482.66  \n",
       "2        38516.99  \n",
       "3        52876.06  \n",
       "4        52159.60  "
      ]
     },
     "execution_count": 10,
     "metadata": {},
     "output_type": "execute_result"
    }
   ],
   "source": [
    "df2.head()"
   ]
  },
  {
   "cell_type": "markdown",
   "id": "81ca7701",
   "metadata": {},
   "source": [
    "### Coletando dados referente aos autores\n",
    "##### Agrupando dados no dataframe 3 (df3)"
   ]
  },
  {
   "cell_type": "code",
   "execution_count": 11,
   "id": "44e337d7",
   "metadata": {},
   "outputs": [],
   "source": [
    "#Agrupando o nome de todos os autores (sem repetição)\n",
    "\n",
    "autsemrep = []\n",
    "for a in df['author']:\n",
    "    if a not in autsemrep:\n",
    "        autsemrep.append(a)\n",
    "autsemrep = pd.DataFrame(autsemrep, columns = ['Autor'])\n",
    "df3['Autor'] = autsemrep"
   ]
  },
  {
   "cell_type": "code",
   "execution_count": 12,
   "id": "5de11909",
   "metadata": {},
   "outputs": [],
   "source": [
    "#Coletando a quantidade de vídeos postados por cada autor\n",
    "\n",
    "contagemaut= []\n",
    "for c in autsemrep['Autor']:\n",
    "    cont = 0\n",
    "    for i in df['author']:\n",
    "        if c == i:\n",
    "            cont += 1\n",
    "    contagemaut.append(cont)\n",
    "contagemaut = pd.DataFrame(contagemaut, columns=['Quantidade de Vídeos'])\n",
    "df3['Quantidade de Vídeos'] = contagemaut"
   ]
  },
  {
   "cell_type": "code",
   "execution_count": 13,
   "id": "bd705037",
   "metadata": {},
   "outputs": [],
   "source": [
    "#Coletando a quantidade de visualizações por autor\n",
    "\n",
    "viewaut= []\n",
    "for c in autsemrep['Autor']:\n",
    "    total = 0\n",
    "    for n ,i in enumerate(df['author']):\n",
    "        if c == i:\n",
    "            total += df['views'][n]\n",
    "    viewaut.append(total)\n",
    "viewaut = pd.DataFrame(viewaut, columns=['Visualizações totais']).reset_index().drop(columns=['index'])\n",
    "df3['Visualizações totais'] = viewaut"
   ]
  },
  {
   "cell_type": "code",
   "execution_count": 14,
   "id": "2f13f021",
   "metadata": {},
   "outputs": [],
   "source": [
    "#Coletando a quantidade de likes por autor\n",
    "\n",
    "likesaut = []\n",
    "for c in autsemrep['Autor']:\n",
    "    total = 0\n",
    "    for n ,i in enumerate(df['author']):\n",
    "        if c == i:\n",
    "            total += df['likes'][n]\n",
    "    likesaut.append(total)\n",
    "likesaut = pd.DataFrame(likesaut, columns=['Likes totais']).reset_index().drop(columns=['index'])\n",
    "df3['Likes totais'] = likesaut"
   ]
  },
  {
   "cell_type": "markdown",
   "id": "98ca136a",
   "metadata": {},
   "source": [
    "A seguir vamos utilizar mais alguns dataframes auxiliares para agruparem de forma mais específica alguns dados referentes aos autores, de forma que facilitarão na hora das análises referente a cada grupo."
   ]
  },
  {
   "cell_type": "code",
   "execution_count": 15,
   "id": "cce1d61f",
   "metadata": {},
   "outputs": [],
   "source": [
    "# Agrupando os 10 maiores autores em relação à quantidade de vídeos postados\n",
    "\n",
    "df3_vp = pd.DataFrame()\n",
    "df3_vp = df3.sort_values(by='Quantidade de Vídeos', ascending = False).reset_index().drop(columns=['index']).iloc[0:5]"
   ]
  },
  {
   "cell_type": "code",
   "execution_count": 16,
   "id": "052d7bee",
   "metadata": {},
   "outputs": [],
   "source": [
    "# Agrupando os 10 maiores autores em relação às visualizações totais\n",
    "\n",
    "df3_vt = pd.DataFrame()\n",
    "df3_vt = df3.sort_values(by='Visualizações totais', ascending = False).reset_index().drop(columns=['index']).iloc[0:5]"
   ]
  },
  {
   "cell_type": "code",
   "execution_count": 17,
   "id": "dc931c32",
   "metadata": {},
   "outputs": [],
   "source": [
    "# Agrupando os 10 maiores autores em relação à quantidade de likes totais\n",
    "\n",
    "df3_lt = pd.DataFrame()\n",
    "df3_lt = df3.sort_values(by='Likes totais', ascending = False).reset_index().drop(columns=['index']).iloc[0:5]"
   ]
  },
  {
   "cell_type": "code",
   "execution_count": 18,
   "id": "96e3eb29",
   "metadata": {},
   "outputs": [
    {
     "data": {
      "text/html": [
       "<div>\n",
       "<style scoped>\n",
       "    .dataframe tbody tr th:only-of-type {\n",
       "        vertical-align: middle;\n",
       "    }\n",
       "\n",
       "    .dataframe tbody tr th {\n",
       "        vertical-align: top;\n",
       "    }\n",
       "\n",
       "    .dataframe thead th {\n",
       "        text-align: right;\n",
       "    }\n",
       "</style>\n",
       "<table border=\"1\" class=\"dataframe\">\n",
       "  <thead>\n",
       "    <tr style=\"text-align: right;\">\n",
       "      <th></th>\n",
       "      <th>Autor</th>\n",
       "      <th>Quantidade de Vídeos</th>\n",
       "      <th>Visualizações totais</th>\n",
       "      <th>Likes totais</th>\n",
       "    </tr>\n",
       "  </thead>\n",
       "  <tbody>\n",
       "    <tr>\n",
       "      <th>63</th>\n",
       "      <td>Alex Gendler</td>\n",
       "      <td>45</td>\n",
       "      <td>187196000</td>\n",
       "      <td>5691000</td>\n",
       "    </tr>\n",
       "    <tr>\n",
       "      <th>6</th>\n",
       "      <td>Iseult Gillespie</td>\n",
       "      <td>33</td>\n",
       "      <td>54998000</td>\n",
       "      <td>1660900</td>\n",
       "    </tr>\n",
       "    <tr>\n",
       "      <th>64</th>\n",
       "      <td>Matt Walker</td>\n",
       "      <td>18</td>\n",
       "      <td>27948000</td>\n",
       "      <td>837500</td>\n",
       "    </tr>\n",
       "    <tr>\n",
       "      <th>108</th>\n",
       "      <td>Alex Rosenthal</td>\n",
       "      <td>15</td>\n",
       "      <td>14613000</td>\n",
       "      <td>434100</td>\n",
       "    </tr>\n",
       "    <tr>\n",
       "      <th>26</th>\n",
       "      <td>Elizabeth Cox</td>\n",
       "      <td>13</td>\n",
       "      <td>25928999</td>\n",
       "      <td>780000</td>\n",
       "    </tr>\n",
       "  </tbody>\n",
       "</table>\n",
       "</div>"
      ],
      "text/plain": [
       "                Autor  Quantidade de Vídeos  Visualizações totais  \\\n",
       "63       Alex Gendler                    45             187196000   \n",
       "6    Iseult Gillespie                    33              54998000   \n",
       "64        Matt Walker                    18              27948000   \n",
       "108    Alex Rosenthal                    15              14613000   \n",
       "26      Elizabeth Cox                    13              25928999   \n",
       "\n",
       "     Likes totais  \n",
       "63        5691000  \n",
       "6         1660900  \n",
       "64         837500  \n",
       "108        434100  \n",
       "26         780000  "
      ]
     },
     "execution_count": 18,
     "metadata": {},
     "output_type": "execute_result"
    }
   ],
   "source": [
    "# Organizando o df3 \n",
    "\n",
    "df3 = df3.sort_values(by='Autor', ascending = True)\n",
    "df3.sort_values(by='Quantidade de Vídeos', ascending = False).head()"
   ]
  },
  {
   "cell_type": "markdown",
   "id": "b0e4ceea",
   "metadata": {},
   "source": [
    "# Perguntas"
   ]
  },
  {
   "cell_type": "markdown",
   "id": "bca356a0",
   "metadata": {},
   "source": [
    "A partir do processamento dos dados, finalmente podemos começar a analisar o que os dados trazem consigo.\n",
    "\n",
    "Inicialmente foram definidas as seguintes perguntas:\n",
    "\n",
    "• Qual foi o TED Talk mais visualizado?\n",
    "• Qual o TED Talk mais curtido?\n",
    "• Qual o(a) palestrante mais famoso (de acordo com número de likes)?\n",
    "• Qual o ano em que houve mais TED Talks lançados?\n",
    "• Qual palestrante tem mais TED Talks?\n",
    "\n",
    "Perguntas facilmente respondidas através dos DataFrames criados. Porém, à medida que o trabalho evoluiu, podemos perceber que seria possível incluir diversas perguntas, além de buscar mais informações específicas sobre determinados pontos. Sendo assim, a seguir iremos enumerar e demonstrar diversas observações que podemos obter a partir dos dados obtidos."
   ]
  },
  {
   "cell_type": "markdown",
   "id": "8eeb13c4",
   "metadata": {},
   "source": [
    "## O que podemos concluir através das variáveis obtidas pelos vídeos em si?\n",
    "### Análises iniciais"
   ]
  },
  {
   "cell_type": "markdown",
   "id": "4d4ce239",
   "metadata": {},
   "source": [
    "Como foi explicado anteriormente, o DataFrame \"df2\" foi utilizado para coletar dados referentes aos vídeos, o DataFrame \"df3\" para coletar dados referentes aos autores eo DataFrame \"df\" foi a base inicial, que serviu para coletar dados como o número de visualizações por ano, média de visualizações e curtidas, quantidade de vídeos postados, etc. Desta forma, iremos utilizá-los para demonstrar as respostas das perguntas iniciais."
   ]
  },
  {
   "cell_type": "code",
   "execution_count": 19,
   "id": "57f010a2",
   "metadata": {},
   "outputs": [],
   "source": [
    "# Padronização do tamanho dos gráficos\n",
    "\n",
    "plt.rcParams['figure.figsize']=(15,8)"
   ]
  },
  {
   "cell_type": "code",
   "execution_count": 20,
   "id": "e303866f",
   "metadata": {},
   "outputs": [
    {
     "data": {
      "text/html": [
       "<div>\n",
       "<style scoped>\n",
       "    .dataframe tbody tr th:only-of-type {\n",
       "        vertical-align: middle;\n",
       "    }\n",
       "\n",
       "    .dataframe tbody tr th {\n",
       "        vertical-align: top;\n",
       "    }\n",
       "\n",
       "    .dataframe thead th {\n",
       "        text-align: right;\n",
       "    }\n",
       "</style>\n",
       "<table border=\"1\" class=\"dataframe\">\n",
       "  <thead>\n",
       "    <tr style=\"text-align: right;\">\n",
       "      <th></th>\n",
       "      <th>title</th>\n",
       "      <th>author</th>\n",
       "      <th>date</th>\n",
       "      <th>views</th>\n",
       "      <th>likes</th>\n",
       "      <th>anos</th>\n",
       "    </tr>\n",
       "  </thead>\n",
       "  <tbody>\n",
       "    <tr>\n",
       "      <th>5436</th>\n",
       "      <td>Do schools kill creativity?</td>\n",
       "      <td>Sir Ken Robinson</td>\n",
       "      <td>2006-02-01</td>\n",
       "      <td>72000000</td>\n",
       "      <td>2100000</td>\n",
       "      <td>2006</td>\n",
       "    </tr>\n",
       "  </tbody>\n",
       "</table>\n",
       "</div>"
      ],
      "text/plain": [
       "                            title            author       date     views  \\\n",
       "5436  Do schools kill creativity?  Sir Ken Robinson 2006-02-01  72000000   \n",
       "\n",
       "        likes  anos  \n",
       "5436  2100000  2006  "
      ]
     },
     "execution_count": 20,
     "metadata": {},
     "output_type": "execute_result"
    }
   ],
   "source": [
    "# Qual o TED mais curtido?\n",
    "\n",
    "df.sort_values(by=\"likes\", ascending = False).head(1)"
   ]
  },
  {
   "cell_type": "code",
   "execution_count": 21,
   "id": "487f31cb",
   "metadata": {
    "scrolled": true
   },
   "outputs": [
    {
     "data": {
      "text/html": [
       "<div>\n",
       "<style scoped>\n",
       "    .dataframe tbody tr th:only-of-type {\n",
       "        vertical-align: middle;\n",
       "    }\n",
       "\n",
       "    .dataframe tbody tr th {\n",
       "        vertical-align: top;\n",
       "    }\n",
       "\n",
       "    .dataframe thead th {\n",
       "        text-align: right;\n",
       "    }\n",
       "</style>\n",
       "<table border=\"1\" class=\"dataframe\">\n",
       "  <thead>\n",
       "    <tr style=\"text-align: right;\">\n",
       "      <th></th>\n",
       "      <th>title</th>\n",
       "      <th>author</th>\n",
       "      <th>date</th>\n",
       "      <th>views</th>\n",
       "      <th>likes</th>\n",
       "      <th>anos</th>\n",
       "    </tr>\n",
       "  </thead>\n",
       "  <tbody>\n",
       "    <tr>\n",
       "      <th>5436</th>\n",
       "      <td>Do schools kill creativity?</td>\n",
       "      <td>Sir Ken Robinson</td>\n",
       "      <td>2006-02-01</td>\n",
       "      <td>72000000</td>\n",
       "      <td>2100000</td>\n",
       "      <td>2006</td>\n",
       "    </tr>\n",
       "  </tbody>\n",
       "</table>\n",
       "</div>"
      ],
      "text/plain": [
       "                            title            author       date     views  \\\n",
       "5436  Do schools kill creativity?  Sir Ken Robinson 2006-02-01  72000000   \n",
       "\n",
       "        likes  anos  \n",
       "5436  2100000  2006  "
      ]
     },
     "execution_count": 21,
     "metadata": {},
     "output_type": "execute_result"
    }
   ],
   "source": [
    "# Qual o TED mais visualizado?\n",
    "\n",
    "df.sort_values(by=\"views\", ascending = False).head(1)"
   ]
  },
  {
   "cell_type": "code",
   "execution_count": 22,
   "id": "1feceaf5",
   "metadata": {},
   "outputs": [
    {
     "data": {
      "text/plain": [
       "Text(0.5, 1.0, 'Palestrantes com mais likes')"
      ]
     },
     "execution_count": 22,
     "metadata": {},
     "output_type": "execute_result"
    },
    {
     "data": {
      "image/png": "[encoded data removed]",
      "text/plain": [
       "<Figure size 1080x576 with 1 Axes>"
      ]
     },
     "metadata": {
      "needs_background": "light"
     },
     "output_type": "display_data"
    }
   ],
   "source": [
    "# Qual o(a) palestrante mais famoso (de acordo com o número de likes)?\n",
    "\n",
    "sns.barplot(data=df3_lt, x=\"Likes totais\", y=\"Autor\").set_title(\"Palestrantes com mais likes\")"
   ]
  },
  {
   "cell_type": "code",
   "execution_count": 23,
   "id": "c49d1526",
   "metadata": {},
   "outputs": [
    {
     "data": {
      "text/plain": [
       "Text(0.5, 1.0, 'Quantidade de vídeos postados por ano')"
      ]
     },
     "execution_count": 23,
     "metadata": {},
     "output_type": "execute_result"
    },
    {
     "data": {
      "image/png": "[encoded data removed]",
      "text/plain": [
       "<Figure size 1080x576 with 1 Axes>"
      ]
     },
     "metadata": {
      "needs_background": "light"
     },
     "output_type": "display_data"
    }
   ],
   "source": [
    "# Qual o ano em que houve mais TED Talks lançados?\n",
    "\n",
    "sns.barplot(data=df2, x=\"Anos\", y=\"Quantidade de Vídeos\", palette=\"Blues_d\").set_title('Quantidade de vídeos postados por ano')"
   ]
  },
  {
   "cell_type": "code",
   "execution_count": 24,
   "id": "015dabf0",
   "metadata": {},
   "outputs": [
    {
     "data": {
      "text/plain": [
       "Text(0.5, 1.0, 'Palestrantes com mais vídeos postados')"
      ]
     },
     "execution_count": 24,
     "metadata": {},
     "output_type": "execute_result"
    },
    {
     "data": {
      "image/png": "[encoded data removed]",
      "text/plain": [
       "<Figure size 1080x576 with 1 Axes>"
      ]
     },
     "metadata": {
      "needs_background": "light"
     },
     "output_type": "display_data"
    }
   ],
   "source": [
    "# Qual palestrante tem mais TED Talks?\n",
    "\n",
    "sns.barplot(data=df3_vp, x=\"Quantidade de Vídeos\", y=\"Autor\").set_title(\"Palestrantes com mais vídeos postados\")"
   ]
  },
  {
   "cell_type": "markdown",
   "id": "615ce1de",
   "metadata": {},
   "source": [
    "### Análises posteriores\n",
    "\n",
    "A partir de agora iremos tratar de outras variáveis, como também realizar o agrupamento de determinadas icógnitas e realizar os procedimentos requisitados para o relatório final."
   ]
  },
  {
   "cell_type": "markdown",
   "id": "900e477b",
   "metadata": {},
   "source": [
    "##### Quais perguntas a mais podemos responder?\n",
    "\n",
    "No decorrer do trabalho foi possível visualizar que alguns autores possuem uma quantidade de vídeos bastante maior que os demais. Sendo assim, iremos discorrer um pouco sobre este autor, a fim de ter um panorama geral a respeito de quem é o autor e também sobre os temas abordados pelo mesmo e entender um pouco sobre seu sucesso nos TED Talks.\n",
    "\n",
    "Como podemos ver no DafaFrame \"df3\", o autor com mais vídeos postados, visualizações e likes é o Alex Gendler.\n",
    "<br>\n",
    "<img src = \"alex_gendler.jpg\">\n",
    "<br>\n",
    "Diferentemente de muito dos outros autores no dataframe, Alex na verdade é um educador e seus vídeos são postados principalmente na plataforma TED-Ed, onde são encontrados vídeos de duração curta ou média sobre assuntos como saúde pública, estudo social, ciência, tecnologia, design, engenharia, entre tantos outros temas. Vídeos esses que podem ser animados (como os postados pelo Alex), como também palestras específicas publicadas no portal."
   ]
  },
  {
   "cell_type": "markdown",
   "id": "d36d52b5",
   "metadata": {},
   "source": [
    "#### Como poderíamos aplicar regressão linear no DataFrame estudado?\n",
    "\n",
    "A seguir vamos utilizar o gráfico da Quantidade de Vídeos x Quantidade de Likes para exemplificar como podemos inferir a possível crescente dos vídeos TED."
   ]
  },
  {
   "cell_type": "code",
   "execution_count": 25,
   "id": "dcde49ea",
   "metadata": {},
   "outputs": [
    {
     "data": {
      "text/plain": [
       "<AxesSubplot:xlabel='Quantidade de Vídeos', ylabel='Likes'>"
      ]
     },
     "execution_count": 25,
     "metadata": {},
     "output_type": "execute_result"
    },
    {
     "data": {
      "image/png": "[encoded data removed]",
      "text/plain": [
       "<Figure size 1080x576 with 1 Axes>"
      ]
     },
     "metadata": {
      "needs_background": "light"
     },
     "output_type": "display_data"
    }
   ],
   "source": [
    "# Plotando o gráfico de dispersão entre a quantidade de vídeos x quantidade de likes\n",
    "\n",
    "df2.plot.scatter(x='Quantidade de Vídeos', y='Likes')"
   ]
  },
  {
   "cell_type": "code",
   "execution_count": 26,
   "id": "ebffbbe3",
   "metadata": {},
   "outputs": [],
   "source": [
    "# Calculando coeficiente angular e linear\n",
    "\n",
    "coef_angular, coef_linear,_,_,std_err = linregress(df2['Quantidade de Vídeos'], df2['Likes'])\n",
    "\n",
    "# A equação da reta se dará por:\n",
    "\n",
    "reta = coef_angular * df2['Quantidade de Vídeos'] + coef_linear"
   ]
  },
  {
   "cell_type": "code",
   "execution_count": 27,
   "id": "93819e72",
   "metadata": {},
   "outputs": [
    {
     "data": {
      "image/png": "[encoded data removed]",
      "text/plain": [
       "<Figure size 1080x576 with 1 Axes>"
      ]
     },
     "metadata": {
      "needs_background": "light"
     },
     "output_type": "display_data"
    },
    {
     "name": "stdout",
     "output_type": "stream",
     "text": [
      "\n",
      "\n",
      "Desta forma, podemos deduzir, através da reta, que se fossem postados 700 vídeos em um só ano, teria 41.89M likes\n"
     ]
    }
   ],
   "source": [
    "# Plotando o gráfico novamente, mas dessa vez com a reta da regressão linear\n",
    "\n",
    "plt.scatter(df2['Quantidade de Vídeos'], df2['Likes'])\n",
    "plt.plot(df2['Quantidade de Vídeos'], reta, color='red')\n",
    "plt.xlabel('Quantidade de Vídeos')\n",
    "plt.ylabel('Likes')\n",
    "plt.show()\n",
    "print(f\"\\n\\nDesta forma, podemos deduzir, através da reta, que se fossem postados 700 vídeos em um só ano, teria {(coef_angular * 700 + coef_linear)/1000000:.2f}M likes\")"
   ]
  },
  {
   "cell_type": "markdown",
   "id": "61c3637f",
   "metadata": {},
   "source": [
    "#### Técnicas de redução de dimensões - agrupamento de dados"
   ]
  },
  {
   "cell_type": "markdown",
   "id": "39ac4c2c",
   "metadata": {},
   "source": [
    "As técnicas de redução dimensional são utilizadas quando trabalha-se com datasets baseados em várias features. Neste método as dimensões são reduzidas para um número em que seja possível analisar os dados contidos no dataset, sem que haja a perda muito grande de informações e mantenha-se a performance do modelo.\n",
    "Sem a redução dimensional ficaria muito mais difícil conseguir tirar alguma conclusão dos dados analisados, além de que trabalhar com milhares de dimensões necessita de um poder computacional muito grande e, obviamente, não conseguiríamos representar graficamente os resultados."
   ]
  },
  {
   "cell_type": "markdown",
   "id": "45166f62",
   "metadata": {},
   "source": [
    "Um fato importante à respeito de datasets que possuem muitas dimesões é a chamada \"Maldição da Dimensionalidade\", em que há uma dificuldade de análise dos dados num espaço tão grande, pois nele pode acontecer dos dados ficarem todos distantes uns dos outros."
   ]
  },
  {
   "cell_type": "markdown",
   "id": "299edc47",
   "metadata": {},
   "source": [
    "À princípio, vamos transformar todos os título do dataset em vetores para que o kmeans possamos usá-los:"
   ]
  },
  {
   "cell_type": "code",
   "execution_count": 28,
   "id": "e0ce1a41",
   "metadata": {},
   "outputs": [
    {
     "name": "stdout",
     "output_type": "stream",
     "text": [
      "[[0 0 0 ... 0 0 0]\n",
      " [0 0 0 ... 0 0 0]\n",
      " [0 0 0 ... 0 0 0]\n",
      " ...\n",
      " [0 0 0 ... 0 0 0]\n",
      " [0 0 0 ... 0 0 0]\n",
      " [0 0 0 ... 0 0 0]]\n",
      "Checando se a quantidade de elementos é igual no resultado e no data set: \n",
      "\n",
      "Elementos no resultado: 5440\n",
      "Elementos no dataset original: 5440\n",
      "Cada elemento no resultado possui 6228 dimensões\n"
     ]
    }
   ],
   "source": [
    "vectorizer2 = CountVectorizer()\n",
    "X2 = vectorizer2.fit_transform(df['title'])\n",
    "print(X2.toarray())\n",
    "print(\"Checando se a quantidade de elementos é igual no resultado e no data set: \\n\")\n",
    "print(f\"Elementos no resultado: {len(X2.toarray())}\")\n",
    "print(f\"Elementos no dataset original: {len(df['title'])}\")\n",
    "print(f\"Cada elemento no resultado possui {len(X2.toarray()[0])} dimensões\")"
   ]
  },
  {
   "cell_type": "markdown",
   "id": "94fc1e60",
   "metadata": {},
   "source": [
    "Nessa etapa vamos transformar as 6228 dimensões em 2 para que seja visível no gráfico"
   ]
  },
  {
   "cell_type": "code",
   "execution_count": 29,
   "id": "5bfa0a96",
   "metadata": {},
   "outputs": [
    {
     "name": "stdout",
     "output_type": "stream",
     "text": [
      "[[ 4.79503927e-02  4.22399885e-02]\n",
      " [ 2.50298580e+00 -9.37287858e-01]\n",
      " [ 3.38808837e-01  8.44534954e-01]\n",
      " ...\n",
      " [ 8.39827791e-01 -2.47561083e-01]\n",
      " [ 1.18124707e-04 -1.12750076e-04]\n",
      " [ 8.67159329e-01 -2.21537072e-01]]\n"
     ]
    }
   ],
   "source": [
    "svd = TruncatedSVD(n_components=2)\n",
    "svd.fit(X2)\n",
    "redut = svd.transform(X2)\n",
    "print(redut)"
   ]
  },
  {
   "cell_type": "markdown",
   "id": "8798d655",
   "metadata": {},
   "source": [
    "A partir desse ponto podemos treinar o nosso modelo de clusterização utilizando o Kmeans"
   ]
  },
  {
   "cell_type": "code",
   "execution_count": 30,
   "id": "f6f09a09",
   "metadata": {},
   "outputs": [],
   "source": [
    "kmeans = KMeans(n_clusters = 4,                 # Set amount of clusters\n",
    "                init = 'k-means++',             # Initialization method for kmeans\n",
    "                max_iter = 100,                 # MaX2imum number of iterations\n",
    "                n_init = 10,                    # Choose how often algorithm will run with different centroid\n",
    "                random_state = 1)               # Choose random state for reproducibility\n",
    "\n",
    "pred_y = kmeans.fit_predict(X2)"
   ]
  },
  {
   "cell_type": "markdown",
   "id": "47cf2552",
   "metadata": {},
   "source": [
    "E, finalmente, podemos plotar o gráfico resultante da clusterização"
   ]
  },
  {
   "cell_type": "code",
   "execution_count": 31,
   "id": "b5843160",
   "metadata": {},
   "outputs": [
    {
     "data": {
      "image/png": "[encoded data removed]",
      "text/plain": [
       "<Figure size 1080x576 with 1 Axes>"
      ]
     },
     "metadata": {
      "needs_background": "light"
     },
     "output_type": "display_data"
    }
   ],
   "source": [
    "plt.scatter(redut[pred_y==0, 0], redut[pred_y==0, 1], s=10, c='red', label ='Cluster 1')\n",
    "plt.scatter(redut[pred_y==1, 0], redut[pred_y==1, 1], s=10, c='purple', label ='Cluster 2')\n",
    "plt.scatter(redut[pred_y==2, 0], redut[pred_y==2, 1], s=10, c='green', label ='Cluster 3')\n",
    "plt.scatter(redut[pred_y==3, 0], redut[pred_y==3, 1], s=10, c='black', label ='Cluster 4')\n",
    "\n",
    "\n",
    "# Plot the clusters \n",
    "plt.scatter(kmeans.cluster_centers_[:, 0], \n",
    "            kmeans.cluster_centers_[:, 1], \n",
    "            s=100,                             # Set centroid size\n",
    "            c='blue')                           # Set centroid color\n",
    "\n",
    "plt.show()"
   ]
  },
  {
   "cell_type": "markdown",
   "id": "2c4a6a55",
   "metadata": {},
   "source": [
    "# Conclusão\n",
    "\n",
    "Apesar do dataframe limitado no quesito especificidade dos dados, foi possível extrair o máximo possível, de forma que poderia ser desenvolvidos mais gráficos, a fim de demonstrar maiores relações entre vídeos postados, likes, visualizações, autores e anos de postagem, por exemplo. O trabalho poderia melhorar na questão da forma de análise de dados, de forma a aprofundar-se mais na particularidade dos vídeos e/ou autores e entender melhor o agrupamento dos dados realizados. "
   ]
  }
 ],
 "metadata": {
  "kernelspec": {
   "display_name": "Python 3 (ipykernel)",
   "language": "python",
   "name": "python3"
  },
  "language_info": {
   "codemirror_mode": {
    "name": "ipython",
    "version": 3
   },
   "file_extension": ".py",
   "mimetype": "text/x-python",
   "name": "python",
   "nbconvert_exporter": "python",
   "pygments_lexer": "ipython3",
   "version": "3.9.7"
  },
  "vscode": {
   "interpreter": {
    "hash": "3e3763a57b4ffe0d06e963ec4b7f8ef3a748cbfdb342037439726ee83e94c05b"
   }
  }
 },
 "nbformat": 4,
 "nbformat_minor": 5
}
