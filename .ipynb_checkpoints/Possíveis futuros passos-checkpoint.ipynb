{
 "cells": [
  {
   "cell_type": "markdown",
   "id": "9320aa0b",
   "metadata": {},
   "source": [
    "# Possíveis futuros passos"
   ]
  },
  {
   "cell_type": "raw",
   "id": "508d0121",
   "metadata": {},
   "source": [
    "1 - Hipóteses sobre a relação entre a quantidade de vídeos postados no ano e a quantidade de visualizações, bem como as de like (uma vez que não necessariamente são diretamente proporcionais)\n",
    "\n",
    "2 - Discutir a respeito das medidas de tendência central e dispersão e suas relações quanto à quantidade de visualizações, por like, ano, em relação aos autores e etc\n",
    "\n",
    "3 - Mostrar qual o vídeo mais curtido, o mais visto, o menos curtido, o menos visto, o mais antigo e o mais recente de acordo com a tabela\n",
    "\n",
    "4 - Inserir e imagens a respeito de vídeos exemplificados \n",
    "\n",
    "5 - Mostrar quais os principais autores (os quais publicaram mais vídeos), seus principais anos de publicação, visualizações totais, média de visualizações por vídeo e média de visualizações por ano de publicação\n",
    "\n",
    "6 - (Talvez viajar verificando quais os principais meses de publicação e tentar fazer relações absurdas - como nos exemplos mostrados pelo professor)"
   ]
  }
 ],
 "metadata": {
  "kernelspec": {
   "display_name": "Python 3 (ipykernel)",
   "language": "python",
   "name": "python3"
  },
  "language_info": {
   "codemirror_mode": {
    "name": "ipython",
    "version": 3
   },
   "file_extension": ".py",
   "mimetype": "text/x-python",
   "name": "python",
   "nbconvert_exporter": "python",
   "pygments_lexer": "ipython3",
   "version": "3.9.7"
  }
 },
 "nbformat": 4,
 "nbformat_minor": 5
}
