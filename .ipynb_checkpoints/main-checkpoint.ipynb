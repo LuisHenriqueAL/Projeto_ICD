{
 "cells": [
  {
   "cell_type": "code",
   "execution_count": null,
   "id": "65bfebbd",
   "metadata": {},
   "outputs": [],
   "source": [
    "import pandas as pd\n",
    "import seaborn as sns\n",
    "import numpy as np\n",
    "import matplotlib.pyplot as plt\n",
    "import matplotlib as mpl\n",
    "\n",
    "df= pd.read_csv('TED_TALKS_data.csv').drop(columns =['link'])\n",
    "df\n"
   ]
  },
  {
   "cell_type": "markdown",
   "id": "c7cc234c",
   "metadata": {},
   "source": [
    "# Separando o ano da coluna 'date':"
   ]
  },
  {
   "cell_type": "code",
   "execution_count": null,
   "id": "b50fc3f1",
   "metadata": {},
   "outputs": [],
   "source": [
    "anos = []\n",
    "for c in df['date']:\n",
    "    anos.append(c.split(' ')[1])\n",
    "anos = pd.DataFrame(anos, columns=['anos'])\n",
    "\n",
    "#  Juntando os anos separados com o dataframe principal:\n",
    "\n",
    "df = df.join(anos, lsuffix='anos')\n",
    "df"
   ]
  },
  {
   "cell_type": "markdown",
   "id": "ba18440a",
   "metadata": {},
   "source": [
    "# Agrupando todos os anos (sem repetições) do dataframe principal"
   ]
  },
  {
   "cell_type": "code",
   "execution_count": null,
   "id": "78803f36",
   "metadata": {},
   "outputs": [],
   "source": [
    "anossemrep = []\n",
    "for c in df['anos']:\n",
    "    if c not in anossemrep:\n",
    "        anossemrep.append(c)\n",
    "anossemrep = pd.DataFrame(anossemrep, columns = ['Ano']).sort_values(by=\"Ano\", ascending=False).reset_index().drop(['index'], axis=1)\n"
   ]
  },
  {
   "cell_type": "markdown",
   "id": "e42e8143",
   "metadata": {},
   "source": [
    "# ---------------------------------------------------------------------------------------------------------------"
   ]
  },
  {
   "cell_type": "markdown",
   "id": "e8c78cde",
   "metadata": {},
   "source": [
    "# - Quantidade de vídeos:"
   ]
  },
  {
   "cell_type": "markdown",
   "id": "cfa2a424",
   "metadata": {},
   "source": [
    "### Contagem por ano de quantos vídeos foram postados"
   ]
  },
  {
   "cell_type": "code",
   "execution_count": null,
   "id": "00f05924",
   "metadata": {},
   "outputs": [],
   "source": [
    "contagemano= []\n",
    "for c in anossemrep['Ano']:\n",
    "    cont = 0\n",
    "    for i in df['anos']:\n",
    "        if c == i:\n",
    "            cont += 1\n",
    "    contagemano.append(cont)\n",
    "contagemano = pd.DataFrame(contagemano, columns=['Vídeos por ano'])\n"
   ]
  },
  {
   "cell_type": "markdown",
   "id": "524d6053",
   "metadata": {},
   "source": [
    "### Data Frame do ano e da quantidade de vídeos por ano"
   ]
  },
  {
   "cell_type": "code",
   "execution_count": null,
   "id": "f134d9e4",
   "metadata": {},
   "outputs": [],
   "source": [
    "anossemrep = anossemrep.join(contagemano, how = 'right', lsuffix='std', rsuffix='Vídeos por ano').sort_values(by=\"Ano\", ascending=True).drop([0]).reset_index().drop(columns =['index'])\n"
   ]
  },
  {
   "cell_type": "markdown",
   "id": "ea4438d2",
   "metadata": {},
   "source": [
    "### Plotando gráfico do ano x quantidade de vídeos"
   ]
  },
  {
   "cell_type": "code",
   "execution_count": null,
   "id": "61870d6d",
   "metadata": {},
   "outputs": [],
   "source": [
    "fig = plt.figure(figsize=(15, 10), dpi=300)\n",
    "ax = fig.add_axes([1,1,1.7,1])\n",
    "ax.bar(anossemrep['Ano'],anossemrep['Vídeos por ano'])\n",
    "plt.xlabel('Ano')\n",
    "plt.ylabel('Número de vídeos')\n",
    "plt.title('Gráfico das postagem de vídeos x ano')\n",
    "plt.show()"
   ]
  },
  {
   "cell_type": "markdown",
   "id": "1aac3773",
   "metadata": {},
   "source": [
    "# - Quantidade de visualizações:"
   ]
  },
  {
   "cell_type": "markdown",
   "id": "c3789354",
   "metadata": {},
   "source": [
    "### Vizualizações por ano"
   ]
  },
  {
   "cell_type": "code",
   "execution_count": null,
   "id": "9b82e2ce",
   "metadata": {},
   "outputs": [],
   "source": [
    "viewyear= []\n",
    "for c in anossemrep['Ano']:\n",
    "    total = 0\n",
    "    for n ,i in enumerate(df['anos']):\n",
    "        if c == i:\n",
    "            total += df['views'][n]\n",
    "    viewyear.append(total)\n",
    "viewyear = pd.DataFrame(viewyear, columns=['Visualizações por ano']).reset_index().drop(columns=['index'])\n"
   ]
  },
  {
   "cell_type": "code",
   "execution_count": null,
   "id": "bdf05424",
   "metadata": {},
   "outputs": [],
   "source": [
    "# Data Frame dos anos, vídeos por ano e a quantidade de views por ano\n",
    "\n",
    "anossemrep = anossemrep.join(viewyear)\n"
   ]
  },
  {
   "cell_type": "markdown",
   "id": "77f19852",
   "metadata": {},
   "source": [
    "### Plotando gráfico do total de views x ano"
   ]
  },
  {
   "cell_type": "code",
   "execution_count": null,
   "id": "5b27d640",
   "metadata": {},
   "outputs": [],
   "source": [
    "fig = plt.figure(figsize=(15, 10), dpi=300)\n",
    "ax = fig.add_axes([1,1,1.5,1])\n",
    "ax.bar(anossemrep['Ano'],anossemrep['Visualizações por ano'])\n",
    "plt.xlabel('Ano')\n",
    "plt.ylabel('Visualizações (em bilhão)')\n",
    "plt.title('Gráfico da quantidade de visualizações (em bilhão) x ano')\n",
    "plt.show()"
   ]
  },
  {
   "cell_type": "markdown",
   "id": "180f61aa",
   "metadata": {},
   "source": [
    "### Média de views por ano:\n"
   ]
  },
  {
   "cell_type": "code",
   "execution_count": null,
   "id": "4096467b",
   "metadata": {},
   "outputs": [],
   "source": [
    "media_views = pd.DataFrame(anossemrep['Visualizações por ano'] / anossemrep['Vídeos por ano'], columns=['Média de visualizações']).round(2)\n"
   ]
  },
  {
   "cell_type": "markdown",
   "id": "defba21a",
   "metadata": {},
   "source": [
    "### Plotando gráfico da média de visualizações x ano"
   ]
  },
  {
   "cell_type": "code",
   "execution_count": null,
   "id": "2b635afd",
   "metadata": {},
   "outputs": [],
   "source": [
    "fig = plt.figure(figsize=(15, 10), dpi=300)\n",
    "ax = fig.add_axes([1,1,1.5,1])\n",
    "ax.bar(anossemrep['Ano'],media_views['Média de visualizações'])\n",
    "plt.xlabel('Ano')\n",
    "plt.ylabel('Visualizações (em milhão)')\n",
    "plt.title('Gráfico da média de visualizações(em milhão) x ano')\n",
    "plt.show()"
   ]
  },
  {
   "cell_type": "markdown",
   "id": "19b1f335",
   "metadata": {},
   "source": [
    "# - Quantidade de likes: "
   ]
  },
  {
   "cell_type": "markdown",
   "id": "92fd71b5",
   "metadata": {},
   "source": [
    "### Likes por ano"
   ]
  },
  {
   "cell_type": "code",
   "execution_count": null,
   "id": "7cf26aa2",
   "metadata": {},
   "outputs": [],
   "source": [
    "likes = []\n",
    "for c in anossemrep['Ano']:\n",
    "    total = 0\n",
    "    for n ,i in enumerate(df['anos']):\n",
    "        if c == i:\n",
    "            total += df['likes'][n]\n",
    "    likes.append(total)\n",
    "likes = pd.DataFrame(likes, columns=['Likes']).reset_index().drop(columns=['index'])\n"
   ]
  },
  {
   "cell_type": "code",
   "execution_count": null,
   "id": "310de754",
   "metadata": {},
   "outputs": [],
   "source": [
    "# Data Frame dos anos, vídeos por ano, visualizações por ano e likes\n",
    "\n",
    "anossemrep = anossemrep.join(likes)\n"
   ]
  },
  {
   "cell_type": "markdown",
   "id": "dd4d1c3a",
   "metadata": {},
   "source": [
    "### Plotando gráfico do total de likes x ano"
   ]
  },
  {
   "cell_type": "code",
   "execution_count": null,
   "id": "4062e93d",
   "metadata": {},
   "outputs": [],
   "source": [
    "fig = plt.figure(figsize=(15, 10), dpi=300)\n",
    "ax = fig.add_axes([1,1,1.5,1])\n",
    "ax.bar(anossemrep['Ano'],anossemrep['Likes'])\n",
    "plt.xlabel('Ano')\n",
    "plt.ylabel('Likes (em bilhão)')\n",
    "plt.title('Gráfico da quantidade de likes (em bilhão) x ano')\n",
    "plt.show()"
   ]
  },
  {
   "cell_type": "markdown",
   "id": "a2915b97",
   "metadata": {},
   "source": [
    "### Média de likes por ano:"
   ]
  },
  {
   "cell_type": "code",
   "execution_count": null,
   "id": "4749924b",
   "metadata": {},
   "outputs": [],
   "source": [
    "media_like = pd.DataFrame(anossemrep['Likes'] / anossemrep['Vídeos por ano'], columns=['Média de likes']).round(2)\n"
   ]
  },
  {
   "cell_type": "markdown",
   "id": "12a91734",
   "metadata": {},
   "source": [
    "### Plotando gráfico da média de likes por vídeo x ano:\n"
   ]
  },
  {
   "cell_type": "code",
   "execution_count": null,
   "id": "c099a52c",
   "metadata": {},
   "outputs": [],
   "source": [
    "fig = plt.figure(figsize=(15, 10), dpi=300)\n",
    "ax = fig.add_axes([1,1,1.5,1])\n",
    "ax.bar(anossemrep['Ano'],media_like['Média de likes'])\n",
    "plt.xlabel('Ano')\n",
    "plt.ylabel('Quantidade de likes')\n",
    "plt.title('Gráfico da média de likes x ano')\n",
    "plt.show()"
   ]
  },
  {
   "cell_type": "markdown",
   "id": "34d64f6d",
   "metadata": {},
   "source": [
    "# ---------------------------------------------------------------------------------------------------------------"
   ]
  },
  {
   "cell_type": "markdown",
   "id": "07590eda",
   "metadata": {},
   "source": [
    "# Medidas de tendências:"
   ]
  },
  {
   "cell_type": "code",
   "execution_count": null,
   "id": "7307e685",
   "metadata": {},
   "outputs": [],
   "source": [
    "media_views['Média de views'].std()"
   ]
  },
  {
   "cell_type": "code",
   "execution_count": null,
   "id": "b25b7c62",
   "metadata": {},
   "outputs": [],
   "source": [
    "media_views.boxplot(column='Média de views')"
   ]
  },
  {
   "cell_type": "code",
   "execution_count": null,
   "id": "ea1ee60f",
   "metadata": {},
   "outputs": [],
   "source": [
    "anossemrep.boxplot(column='View per year')"
   ]
  },
  {
   "cell_type": "code",
   "execution_count": null,
   "id": "32959435",
   "metadata": {},
   "outputs": [],
   "source": [
    "media_like['Média de likes'].std()"
   ]
  },
  {
   "cell_type": "code",
   "execution_count": null,
   "id": "70c9c645",
   "metadata": {},
   "outputs": [],
   "source": [
    "media_like.boxplot(column='Média de likes')"
   ]
  },
  {
   "cell_type": "markdown",
   "id": "9fe39f01",
   "metadata": {},
   "source": [
    "# Correlação entre vizualização por ano e likes por ano:"
   ]
  },
  {
   "cell_type": "code",
   "execution_count": null,
   "id": "bf69d178",
   "metadata": {},
   "outputs": [],
   "source": [
    "anossemrep.plot.scatter(x = 'View per year', y= 'likes')"
   ]
  },
  {
   "cell_type": "code",
   "execution_count": null,
   "id": "0d5b2556",
   "metadata": {},
   "outputs": [],
   "source": [
    "anossemrep[['likes', 'View per year']].corr()"
   ]
  },
  {
   "cell_type": "markdown",
   "id": "7004c305",
   "metadata": {},
   "source": [
    "# Correlação entre vizualização por ano e quantidade de vídeos por ano:\n"
   ]
  },
  {
   "cell_type": "code",
   "execution_count": null,
   "id": "80d155e8",
   "metadata": {},
   "outputs": [],
   "source": [
    "anossemrep.plot.scatter(x = 'View per year', y=  'Vídeos por ano')"
   ]
  },
  {
   "cell_type": "code",
   "execution_count": null,
   "id": "c1b49372",
   "metadata": {},
   "outputs": [],
   "source": [
    "anossemrep[['Vídeos por ano', 'View per year']].corr()"
   ]
  },
  {
   "cell_type": "markdown",
   "id": "9b1d0dc7",
   "metadata": {},
   "source": [
    "# Correlação entre vídeos por ano e quantidade de likes"
   ]
  },
  {
   "cell_type": "code",
   "execution_count": null,
   "id": "4e1d55fb",
   "metadata": {},
   "outputs": [],
   "source": [
    "anossemrep.plot.scatter(x = 'Vídeos por ano', y= 'likes')"
   ]
  },
  {
   "cell_type": "code",
   "execution_count": null,
   "id": "68ffdc91",
   "metadata": {},
   "outputs": [],
   "source": [
    "anossemrep[['likes', 'Vídeos por ano']].corr()"
   ]
  },
  {
   "cell_type": "code",
   "execution_count": null,
   "id": "a5d8f9ab",
   "metadata": {},
   "outputs": [],
   "source": []
  }
 ],
 "metadata": {
  "kernelspec": {
   "display_name": "Python 3 (ipykernel)",
   "language": "python",
   "name": "python3"
  },
  "language_info": {
   "codemirror_mode": {
    "name": "ipython",
    "version": 3
   },
   "file_extension": ".py",
   "mimetype": "text/x-python",
   "name": "python",
   "nbconvert_exporter": "python",
   "pygments_lexer": "ipython3",
   "version": "3.9.7"
  }
 },
 "nbformat": 4,
 "nbformat_minor": 5
}
