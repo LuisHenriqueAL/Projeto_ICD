{
 "cells": [
  {
   "cell_type": "markdown",
   "id": "d0bb2cf3",
   "metadata": {},
   "source": [
    "# Inicializando o DataFrame original"
   ]
  },
  {
   "cell_type": "code",
   "execution_count": 1,
   "id": "65bfebbd",
   "metadata": {},
   "outputs": [
    {
     "data": {
      "text/html": [
       "<div>\n",
       "<style scoped>\n",
       "    .dataframe tbody tr th:only-of-type {\n",
       "        vertical-align: middle;\n",
       "    }\n",
       "\n",
       "    .dataframe tbody tr th {\n",
       "        vertical-align: top;\n",
       "    }\n",
       "\n",
       "    .dataframe thead th {\n",
       "        text-align: right;\n",
       "    }\n",
       "</style>\n",
       "<table border=\"1\" class=\"dataframe\">\n",
       "  <thead>\n",
       "    <tr style=\"text-align: right;\">\n",
       "      <th></th>\n",
       "      <th>title</th>\n",
       "      <th>author</th>\n",
       "      <th>date</th>\n",
       "      <th>views</th>\n",
       "      <th>likes</th>\n",
       "    </tr>\n",
       "  </thead>\n",
       "  <tbody>\n",
       "    <tr>\n",
       "      <th>0</th>\n",
       "      <td>Climate action needs new frontline leadership</td>\n",
       "      <td>Ozawa Bineshi Albert</td>\n",
       "      <td>December 2021</td>\n",
       "      <td>404000</td>\n",
       "      <td>12000</td>\n",
       "    </tr>\n",
       "    <tr>\n",
       "      <th>1</th>\n",
       "      <td>The dark history of the overthrow of Hawaii</td>\n",
       "      <td>Sydney Iaukea</td>\n",
       "      <td>February 2022</td>\n",
       "      <td>214000</td>\n",
       "      <td>6400</td>\n",
       "    </tr>\n",
       "    <tr>\n",
       "      <th>2</th>\n",
       "      <td>How play can spark new ideas for your business</td>\n",
       "      <td>Martin Reeves</td>\n",
       "      <td>September 2021</td>\n",
       "      <td>412000</td>\n",
       "      <td>12000</td>\n",
       "    </tr>\n",
       "    <tr>\n",
       "      <th>3</th>\n",
       "      <td>Why is China appointing judges to combat clima...</td>\n",
       "      <td>James K. Thornton</td>\n",
       "      <td>October 2021</td>\n",
       "      <td>427000</td>\n",
       "      <td>12000</td>\n",
       "    </tr>\n",
       "    <tr>\n",
       "      <th>4</th>\n",
       "      <td>Cement's carbon problem — and 2 ways to fix it</td>\n",
       "      <td>Mahendra Singhi</td>\n",
       "      <td>October 2021</td>\n",
       "      <td>2400</td>\n",
       "      <td>72</td>\n",
       "    </tr>\n",
       "    <tr>\n",
       "      <th>...</th>\n",
       "      <td>...</td>\n",
       "      <td>...</td>\n",
       "      <td>...</td>\n",
       "      <td>...</td>\n",
       "      <td>...</td>\n",
       "    </tr>\n",
       "    <tr>\n",
       "      <th>5435</th>\n",
       "      <td>The best stats you've ever seen</td>\n",
       "      <td>Hans Rosling</td>\n",
       "      <td>February 2006</td>\n",
       "      <td>15000000</td>\n",
       "      <td>458000</td>\n",
       "    </tr>\n",
       "    <tr>\n",
       "      <th>5436</th>\n",
       "      <td>Do schools kill creativity?</td>\n",
       "      <td>Sir Ken Robinson</td>\n",
       "      <td>February 2006</td>\n",
       "      <td>72000000</td>\n",
       "      <td>2100000</td>\n",
       "    </tr>\n",
       "    <tr>\n",
       "      <th>5437</th>\n",
       "      <td>Greening the ghetto</td>\n",
       "      <td>Majora Carter</td>\n",
       "      <td>February 2006</td>\n",
       "      <td>2900000</td>\n",
       "      <td>88000</td>\n",
       "    </tr>\n",
       "    <tr>\n",
       "      <th>5438</th>\n",
       "      <td>Simplicity sells</td>\n",
       "      <td>David Pogue</td>\n",
       "      <td>February 2006</td>\n",
       "      <td>2000000</td>\n",
       "      <td>60000</td>\n",
       "    </tr>\n",
       "    <tr>\n",
       "      <th>5439</th>\n",
       "      <td>Averting the climate crisis</td>\n",
       "      <td>Al Gore</td>\n",
       "      <td>February 2006</td>\n",
       "      <td>3600000</td>\n",
       "      <td>109000</td>\n",
       "    </tr>\n",
       "  </tbody>\n",
       "</table>\n",
       "<p>5440 rows × 5 columns</p>\n",
       "</div>"
      ],
      "text/plain": [
       "                                                  title                author  \\\n",
       "0         Climate action needs new frontline leadership  Ozawa Bineshi Albert   \n",
       "1           The dark history of the overthrow of Hawaii         Sydney Iaukea   \n",
       "2        How play can spark new ideas for your business         Martin Reeves   \n",
       "3     Why is China appointing judges to combat clima...     James K. Thornton   \n",
       "4        Cement's carbon problem — and 2 ways to fix it       Mahendra Singhi   \n",
       "...                                                 ...                   ...   \n",
       "5435                    The best stats you've ever seen          Hans Rosling   \n",
       "5436                        Do schools kill creativity?      Sir Ken Robinson   \n",
       "5437                                Greening the ghetto         Majora Carter   \n",
       "5438                                   Simplicity sells           David Pogue   \n",
       "5439                        Averting the climate crisis               Al Gore   \n",
       "\n",
       "                date     views    likes  \n",
       "0      December 2021    404000    12000  \n",
       "1      February 2022    214000     6400  \n",
       "2     September 2021    412000    12000  \n",
       "3       October 2021    427000    12000  \n",
       "4       October 2021      2400       72  \n",
       "...              ...       ...      ...  \n",
       "5435   February 2006  15000000   458000  \n",
       "5436   February 2006  72000000  2100000  \n",
       "5437   February 2006   2900000    88000  \n",
       "5438   February 2006   2000000    60000  \n",
       "5439   February 2006   3600000   109000  \n",
       "\n",
       "[5440 rows x 5 columns]"
      ]
     },
     "execution_count": 1,
     "metadata": {},
     "output_type": "execute_result"
    }
   ],
   "source": [
    "import pandas as pd\n",
    "import seaborn as sns\n",
    "import numpy as np\n",
    "import matplotlib.pyplot as plt\n",
    "import matplotlib as mpl\n",
    "\n",
    "df= pd.read_csv('TED_TALKS_data.csv').drop(columns =['link'])\n",
    "df"
   ]
  },
  {
   "cell_type": "markdown",
   "id": "c7cc234c",
   "metadata": {},
   "source": [
    "# Separando o ano da coluna 'date':"
   ]
  },
  {
   "cell_type": "code",
   "execution_count": 2,
   "id": "602ad9f1",
   "metadata": {
    "scrolled": true
   },
   "outputs": [
    {
     "data": {
      "text/html": [
       "<div>\n",
       "<style scoped>\n",
       "    .dataframe tbody tr th:only-of-type {\n",
       "        vertical-align: middle;\n",
       "    }\n",
       "\n",
       "    .dataframe tbody tr th {\n",
       "        vertical-align: top;\n",
       "    }\n",
       "\n",
       "    .dataframe thead th {\n",
       "        text-align: right;\n",
       "    }\n",
       "</style>\n",
       "<table border=\"1\" class=\"dataframe\">\n",
       "  <thead>\n",
       "    <tr style=\"text-align: right;\">\n",
       "      <th></th>\n",
       "      <th>title</th>\n",
       "      <th>author</th>\n",
       "      <th>date</th>\n",
       "      <th>views</th>\n",
       "      <th>likes</th>\n",
       "      <th>anos</th>\n",
       "    </tr>\n",
       "  </thead>\n",
       "  <tbody>\n",
       "    <tr>\n",
       "      <th>0</th>\n",
       "      <td>Climate action needs new frontline leadership</td>\n",
       "      <td>Ozawa Bineshi Albert</td>\n",
       "      <td>2021-12-01</td>\n",
       "      <td>404000</td>\n",
       "      <td>12000</td>\n",
       "      <td>2021</td>\n",
       "    </tr>\n",
       "    <tr>\n",
       "      <th>1</th>\n",
       "      <td>The dark history of the overthrow of Hawaii</td>\n",
       "      <td>Sydney Iaukea</td>\n",
       "      <td>2022-02-01</td>\n",
       "      <td>214000</td>\n",
       "      <td>6400</td>\n",
       "      <td>2022</td>\n",
       "    </tr>\n",
       "    <tr>\n",
       "      <th>2</th>\n",
       "      <td>How play can spark new ideas for your business</td>\n",
       "      <td>Martin Reeves</td>\n",
       "      <td>2021-09-01</td>\n",
       "      <td>412000</td>\n",
       "      <td>12000</td>\n",
       "      <td>2021</td>\n",
       "    </tr>\n",
       "    <tr>\n",
       "      <th>3</th>\n",
       "      <td>Why is China appointing judges to combat clima...</td>\n",
       "      <td>James K. Thornton</td>\n",
       "      <td>2021-10-01</td>\n",
       "      <td>427000</td>\n",
       "      <td>12000</td>\n",
       "      <td>2021</td>\n",
       "    </tr>\n",
       "    <tr>\n",
       "      <th>4</th>\n",
       "      <td>Cement's carbon problem — and 2 ways to fix it</td>\n",
       "      <td>Mahendra Singhi</td>\n",
       "      <td>2021-10-01</td>\n",
       "      <td>2400</td>\n",
       "      <td>72</td>\n",
       "      <td>2021</td>\n",
       "    </tr>\n",
       "    <tr>\n",
       "      <th>...</th>\n",
       "      <td>...</td>\n",
       "      <td>...</td>\n",
       "      <td>...</td>\n",
       "      <td>...</td>\n",
       "      <td>...</td>\n",
       "      <td>...</td>\n",
       "    </tr>\n",
       "    <tr>\n",
       "      <th>5435</th>\n",
       "      <td>The best stats you've ever seen</td>\n",
       "      <td>Hans Rosling</td>\n",
       "      <td>2006-02-01</td>\n",
       "      <td>15000000</td>\n",
       "      <td>458000</td>\n",
       "      <td>2006</td>\n",
       "    </tr>\n",
       "    <tr>\n",
       "      <th>5436</th>\n",
       "      <td>Do schools kill creativity?</td>\n",
       "      <td>Sir Ken Robinson</td>\n",
       "      <td>2006-02-01</td>\n",
       "      <td>72000000</td>\n",
       "      <td>2100000</td>\n",
       "      <td>2006</td>\n",
       "    </tr>\n",
       "    <tr>\n",
       "      <th>5437</th>\n",
       "      <td>Greening the ghetto</td>\n",
       "      <td>Majora Carter</td>\n",
       "      <td>2006-02-01</td>\n",
       "      <td>2900000</td>\n",
       "      <td>88000</td>\n",
       "      <td>2006</td>\n",
       "    </tr>\n",
       "    <tr>\n",
       "      <th>5438</th>\n",
       "      <td>Simplicity sells</td>\n",
       "      <td>David Pogue</td>\n",
       "      <td>2006-02-01</td>\n",
       "      <td>2000000</td>\n",
       "      <td>60000</td>\n",
       "      <td>2006</td>\n",
       "    </tr>\n",
       "    <tr>\n",
       "      <th>5439</th>\n",
       "      <td>Averting the climate crisis</td>\n",
       "      <td>Al Gore</td>\n",
       "      <td>2006-02-01</td>\n",
       "      <td>3600000</td>\n",
       "      <td>109000</td>\n",
       "      <td>2006</td>\n",
       "    </tr>\n",
       "  </tbody>\n",
       "</table>\n",
       "<p>5440 rows × 6 columns</p>\n",
       "</div>"
      ],
      "text/plain": [
       "                                                  title                author  \\\n",
       "0         Climate action needs new frontline leadership  Ozawa Bineshi Albert   \n",
       "1           The dark history of the overthrow of Hawaii         Sydney Iaukea   \n",
       "2        How play can spark new ideas for your business         Martin Reeves   \n",
       "3     Why is China appointing judges to combat clima...     James K. Thornton   \n",
       "4        Cement's carbon problem — and 2 ways to fix it       Mahendra Singhi   \n",
       "...                                                 ...                   ...   \n",
       "5435                    The best stats you've ever seen          Hans Rosling   \n",
       "5436                        Do schools kill creativity?      Sir Ken Robinson   \n",
       "5437                                Greening the ghetto         Majora Carter   \n",
       "5438                                   Simplicity sells           David Pogue   \n",
       "5439                        Averting the climate crisis               Al Gore   \n",
       "\n",
       "           date     views    likes  anos  \n",
       "0    2021-12-01    404000    12000  2021  \n",
       "1    2022-02-01    214000     6400  2022  \n",
       "2    2021-09-01    412000    12000  2021  \n",
       "3    2021-10-01    427000    12000  2021  \n",
       "4    2021-10-01      2400       72  2021  \n",
       "...         ...       ...      ...   ...  \n",
       "5435 2006-02-01  15000000   458000  2006  \n",
       "5436 2006-02-01  72000000  2100000  2006  \n",
       "5437 2006-02-01   2900000    88000  2006  \n",
       "5438 2006-02-01   2000000    60000  2006  \n",
       "5439 2006-02-01   3600000   109000  2006  \n",
       "\n",
       "[5440 rows x 6 columns]"
      ]
     },
     "execution_count": 2,
     "metadata": {},
     "output_type": "execute_result"
    }
   ],
   "source": [
    "df['date'] = pd.to_datetime(df['date'])\n",
    "df['anos']= df['date'].dt.year\n",
    "df"
   ]
  },
  {
   "cell_type": "code",
   "execution_count": 3,
   "id": "189cccee",
   "metadata": {},
   "outputs": [],
   "source": [
    "#Inicializando DataFrames auxiliares\n",
    "\n",
    "df2 = pd.DataFrame()  # Em relação aos anos\n",
    "df3 = pd.DataFrame()  # Em relação aos autores"
   ]
  },
  {
   "cell_type": "markdown",
   "id": "a62aea01",
   "metadata": {},
   "source": [
    "## Coletando dados dos vídeos"
   ]
  },
  {
   "cell_type": "markdown",
   "id": "ba18440a",
   "metadata": {},
   "source": [
    "### Agrupando todos os anos (sem repetições) do dataframe principal"
   ]
  },
  {
   "cell_type": "code",
   "execution_count": 4,
   "id": "78803f36",
   "metadata": {},
   "outputs": [],
   "source": [
    "anossemrep = []\n",
    "for c in df['anos']:\n",
    "    if c not in anossemrep:\n",
    "        anossemrep.append(c)\n",
    "anossemrep = pd.DataFrame(anossemrep, columns = ['Ano']).sort_values(by=\"Ano\", ascending=False).reset_index(drop=True)\n",
    "df2['Anos'] = anossemrep"
   ]
  },
  {
   "cell_type": "markdown",
   "id": "e42e8143",
   "metadata": {},
   "source": [
    "### Coletando a quantidade de vídeos postados por ano"
   ]
  },
  {
   "cell_type": "code",
   "execution_count": 5,
   "id": "00f05924",
   "metadata": {},
   "outputs": [],
   "source": [
    "contagemano= []\n",
    "for c in anossemrep['Ano']:\n",
    "    cont = 0\n",
    "    for i in df['anos']:\n",
    "        if c == i:\n",
    "            cont += 1\n",
    "    contagemano.append(cont)\n",
    "contagemano = pd.DataFrame(contagemano, columns=['Quantidade de Vídeos'])\n",
    "df2['Quantidade de Vídeos'] = contagemano"
   ]
  },
  {
   "cell_type": "markdown",
   "id": "c3de3539",
   "metadata": {},
   "source": [
    "### Coletando as vizualizações por ano"
   ]
  },
  {
   "cell_type": "code",
   "execution_count": 6,
   "id": "06be8740",
   "metadata": {},
   "outputs": [],
   "source": [
    "viewyear= []\n",
    "for c in anossemrep['Ano']:\n",
    "    total = 0\n",
    "    for n ,i in enumerate(df['anos']):\n",
    "        if c == i:\n",
    "            total += df['views'][n]\n",
    "    viewyear.append(total)\n",
    "viewyear = pd.DataFrame(viewyear, columns=['Visualização']).reset_index().drop(columns=['index'])\n",
    "df2['Visualização'] = viewyear"
   ]
  },
  {
   "cell_type": "markdown",
   "id": "de5364ed",
   "metadata": {},
   "source": [
    "### Coletando a quantidade de likes por ano"
   ]
  },
  {
   "cell_type": "code",
   "execution_count": 7,
   "id": "a9940a30",
   "metadata": {},
   "outputs": [],
   "source": [
    "likes = []\n",
    "for c in anossemrep['Ano']:\n",
    "    total = 0\n",
    "    for n ,i in enumerate(df['anos']):\n",
    "        if c == i:\n",
    "            total += df['likes'][n]\n",
    "    likes.append(total)\n",
    "likes = pd.DataFrame(likes, columns=['Likes']).reset_index().drop(columns=['index'])\n",
    "df2['Likes'] = likes"
   ]
  },
  {
   "cell_type": "markdown",
   "id": "3296ee44",
   "metadata": {},
   "source": [
    "### Calculando a média de visualizações por ano"
   ]
  },
  {
   "cell_type": "code",
   "execution_count": 8,
   "id": "208e6f35",
   "metadata": {},
   "outputs": [],
   "source": [
    "media_views = pd.DataFrame(viewyear['Visualização'] / contagemano['Quantidade de Vídeos'], columns=['Média de visualização']).round(2)\n",
    "df2['Média de visualização'] = media_views\n"
   ]
  },
  {
   "cell_type": "markdown",
   "id": "2c5ba4dd",
   "metadata": {},
   "source": [
    "### Calculando a média de likes por ano"
   ]
  },
  {
   "cell_type": "code",
   "execution_count": 9,
   "id": "45151413",
   "metadata": {},
   "outputs": [],
   "source": [
    "media_like = pd.DataFrame(df2['Likes'] / df2['Quantidade de Vídeos'], columns=['Média de likes']).round(2)\n",
    "df2['Média de Likes'] = media_like"
   ]
  },
  {
   "cell_type": "code",
   "execution_count": 10,
   "id": "5605b690",
   "metadata": {},
   "outputs": [
    {
     "data": {
      "text/html": [
       "<div>\n",
       "<style scoped>\n",
       "    .dataframe tbody tr th:only-of-type {\n",
       "        vertical-align: middle;\n",
       "    }\n",
       "\n",
       "    .dataframe tbody tr th {\n",
       "        vertical-align: top;\n",
       "    }\n",
       "\n",
       "    .dataframe thead th {\n",
       "        text-align: right;\n",
       "    }\n",
       "</style>\n",
       "<table border=\"1\" class=\"dataframe\">\n",
       "  <thead>\n",
       "    <tr style=\"text-align: right;\">\n",
       "      <th></th>\n",
       "      <th>Anos</th>\n",
       "      <th>Quantidade de Vídeos</th>\n",
       "      <th>Visualização</th>\n",
       "      <th>Likes</th>\n",
       "      <th>Média de visualização</th>\n",
       "      <th>Média de Likes</th>\n",
       "    </tr>\n",
       "  </thead>\n",
       "  <tbody>\n",
       "    <tr>\n",
       "      <th>0</th>\n",
       "      <td>2022</td>\n",
       "      <td>20</td>\n",
       "      <td>11470000</td>\n",
       "      <td>341254</td>\n",
       "      <td>573500.00</td>\n",
       "      <td>17062.70</td>\n",
       "    </tr>\n",
       "    <tr>\n",
       "      <th>1</th>\n",
       "      <td>2021</td>\n",
       "      <td>390</td>\n",
       "      <td>429728700</td>\n",
       "      <td>13058238</td>\n",
       "      <td>1101868.46</td>\n",
       "      <td>33482.66</td>\n",
       "    </tr>\n",
       "    <tr>\n",
       "      <th>2</th>\n",
       "      <td>2020</td>\n",
       "      <td>501</td>\n",
       "      <td>635944200</td>\n",
       "      <td>19297014</td>\n",
       "      <td>1269349.70</td>\n",
       "      <td>38516.99</td>\n",
       "    </tr>\n",
       "    <tr>\n",
       "      <th>3</th>\n",
       "      <td>2019</td>\n",
       "      <td>544</td>\n",
       "      <td>948119299</td>\n",
       "      <td>28764575</td>\n",
       "      <td>1742866.36</td>\n",
       "      <td>52876.06</td>\n",
       "    </tr>\n",
       "    <tr>\n",
       "      <th>4</th>\n",
       "      <td>2018</td>\n",
       "      <td>473</td>\n",
       "      <td>811857597</td>\n",
       "      <td>24671493</td>\n",
       "      <td>1716400.84</td>\n",
       "      <td>52159.60</td>\n",
       "    </tr>\n",
       "    <tr>\n",
       "      <th>5</th>\n",
       "      <td>2017</td>\n",
       "      <td>495</td>\n",
       "      <td>998891600</td>\n",
       "      <td>30516328</td>\n",
       "      <td>2017962.83</td>\n",
       "      <td>61649.15</td>\n",
       "    </tr>\n",
       "    <tr>\n",
       "      <th>6</th>\n",
       "      <td>2016</td>\n",
       "      <td>399</td>\n",
       "      <td>928894896</td>\n",
       "      <td>28306782</td>\n",
       "      <td>2328057.38</td>\n",
       "      <td>70944.32</td>\n",
       "    </tr>\n",
       "    <tr>\n",
       "      <th>7</th>\n",
       "      <td>2015</td>\n",
       "      <td>377</td>\n",
       "      <td>1154740130</td>\n",
       "      <td>35151761</td>\n",
       "      <td>3062971.17</td>\n",
       "      <td>93240.75</td>\n",
       "    </tr>\n",
       "    <tr>\n",
       "      <th>8</th>\n",
       "      <td>2014</td>\n",
       "      <td>357</td>\n",
       "      <td>824652297</td>\n",
       "      <td>25076665</td>\n",
       "      <td>2309950.41</td>\n",
       "      <td>70242.76</td>\n",
       "    </tr>\n",
       "    <tr>\n",
       "      <th>9</th>\n",
       "      <td>2013</td>\n",
       "      <td>388</td>\n",
       "      <td>1062537497</td>\n",
       "      <td>32249916</td>\n",
       "      <td>2738498.70</td>\n",
       "      <td>83118.34</td>\n",
       "    </tr>\n",
       "    <tr>\n",
       "      <th>10</th>\n",
       "      <td>2012</td>\n",
       "      <td>302</td>\n",
       "      <td>803186000</td>\n",
       "      <td>24331209</td>\n",
       "      <td>2659556.29</td>\n",
       "      <td>80566.92</td>\n",
       "    </tr>\n",
       "    <tr>\n",
       "      <th>11</th>\n",
       "      <td>2011</td>\n",
       "      <td>271</td>\n",
       "      <td>575677999</td>\n",
       "      <td>17478900</td>\n",
       "      <td>2124273.06</td>\n",
       "      <td>64497.79</td>\n",
       "    </tr>\n",
       "    <tr>\n",
       "      <th>12</th>\n",
       "      <td>2010</td>\n",
       "      <td>267</td>\n",
       "      <td>528145999</td>\n",
       "      <td>15962900</td>\n",
       "      <td>1978074.90</td>\n",
       "      <td>59786.14</td>\n",
       "    </tr>\n",
       "    <tr>\n",
       "      <th>13</th>\n",
       "      <td>2009</td>\n",
       "      <td>233</td>\n",
       "      <td>557635000</td>\n",
       "      <td>16841500</td>\n",
       "      <td>2393283.26</td>\n",
       "      <td>72281.12</td>\n",
       "    </tr>\n",
       "    <tr>\n",
       "      <th>14</th>\n",
       "      <td>2008</td>\n",
       "      <td>84</td>\n",
       "      <td>208007999</td>\n",
       "      <td>6312400</td>\n",
       "      <td>2476285.70</td>\n",
       "      <td>75147.62</td>\n",
       "    </tr>\n",
       "    <tr>\n",
       "      <th>15</th>\n",
       "      <td>2007</td>\n",
       "      <td>113</td>\n",
       "      <td>176651000</td>\n",
       "      <td>5332100</td>\n",
       "      <td>1563283.19</td>\n",
       "      <td>47186.73</td>\n",
       "    </tr>\n",
       "    <tr>\n",
       "      <th>16</th>\n",
       "      <td>2006</td>\n",
       "      <td>49</td>\n",
       "      <td>181109999</td>\n",
       "      <td>5401400</td>\n",
       "      <td>3696122.43</td>\n",
       "      <td>110232.65</td>\n",
       "    </tr>\n",
       "    <tr>\n",
       "      <th>17</th>\n",
       "      <td>2005</td>\n",
       "      <td>65</td>\n",
       "      <td>157477999</td>\n",
       "      <td>4805000</td>\n",
       "      <td>2422738.45</td>\n",
       "      <td>73923.08</td>\n",
       "    </tr>\n",
       "    <tr>\n",
       "      <th>18</th>\n",
       "      <td>2004</td>\n",
       "      <td>33</td>\n",
       "      <td>112378000</td>\n",
       "      <td>3436400</td>\n",
       "      <td>3405393.94</td>\n",
       "      <td>104133.33</td>\n",
       "    </tr>\n",
       "    <tr>\n",
       "      <th>19</th>\n",
       "      <td>2003</td>\n",
       "      <td>34</td>\n",
       "      <td>54394000</td>\n",
       "      <td>1640400</td>\n",
       "      <td>1599823.53</td>\n",
       "      <td>48247.06</td>\n",
       "    </tr>\n",
       "    <tr>\n",
       "      <th>20</th>\n",
       "      <td>2002</td>\n",
       "      <td>26</td>\n",
       "      <td>30442000</td>\n",
       "      <td>915700</td>\n",
       "      <td>1170846.15</td>\n",
       "      <td>35219.23</td>\n",
       "    </tr>\n",
       "    <tr>\n",
       "      <th>21</th>\n",
       "      <td>2001</td>\n",
       "      <td>5</td>\n",
       "      <td>10530000</td>\n",
       "      <td>315100</td>\n",
       "      <td>2106000.00</td>\n",
       "      <td>63020.00</td>\n",
       "    </tr>\n",
       "    <tr>\n",
       "      <th>22</th>\n",
       "      <td>1998</td>\n",
       "      <td>6</td>\n",
       "      <td>7410000</td>\n",
       "      <td>226100</td>\n",
       "      <td>1235000.00</td>\n",
       "      <td>37683.33</td>\n",
       "    </tr>\n",
       "    <tr>\n",
       "      <th>23</th>\n",
       "      <td>1994</td>\n",
       "      <td>1</td>\n",
       "      <td>699000</td>\n",
       "      <td>20000</td>\n",
       "      <td>699000.00</td>\n",
       "      <td>20000.00</td>\n",
       "    </tr>\n",
       "    <tr>\n",
       "      <th>24</th>\n",
       "      <td>1991</td>\n",
       "      <td>1</td>\n",
       "      <td>327000</td>\n",
       "      <td>9800</td>\n",
       "      <td>327000.00</td>\n",
       "      <td>9800.00</td>\n",
       "    </tr>\n",
       "    <tr>\n",
       "      <th>25</th>\n",
       "      <td>1990</td>\n",
       "      <td>1</td>\n",
       "      <td>723000</td>\n",
       "      <td>21000</td>\n",
       "      <td>723000.00</td>\n",
       "      <td>21000.00</td>\n",
       "    </tr>\n",
       "    <tr>\n",
       "      <th>26</th>\n",
       "      <td>1984</td>\n",
       "      <td>1</td>\n",
       "      <td>1100000</td>\n",
       "      <td>33000</td>\n",
       "      <td>1100000.00</td>\n",
       "      <td>33000.00</td>\n",
       "    </tr>\n",
       "    <tr>\n",
       "      <th>27</th>\n",
       "      <td>1983</td>\n",
       "      <td>1</td>\n",
       "      <td>690000</td>\n",
       "      <td>20000</td>\n",
       "      <td>690000.00</td>\n",
       "      <td>20000.00</td>\n",
       "    </tr>\n",
       "    <tr>\n",
       "      <th>28</th>\n",
       "      <td>1972</td>\n",
       "      <td>1</td>\n",
       "      <td>1300000</td>\n",
       "      <td>41000</td>\n",
       "      <td>1300000.00</td>\n",
       "      <td>41000.00</td>\n",
       "    </tr>\n",
       "    <tr>\n",
       "      <th>29</th>\n",
       "      <td>1970</td>\n",
       "      <td>2</td>\n",
       "      <td>252000</td>\n",
       "      <td>7500</td>\n",
       "      <td>126000.00</td>\n",
       "      <td>3750.00</td>\n",
       "    </tr>\n",
       "  </tbody>\n",
       "</table>\n",
       "</div>"
      ],
      "text/plain": [
       "    Anos  Quantidade de Vídeos  Visualização     Likes  Média de visualização  \\\n",
       "0   2022                    20      11470000    341254              573500.00   \n",
       "1   2021                   390     429728700  13058238             1101868.46   \n",
       "2   2020                   501     635944200  19297014             1269349.70   \n",
       "3   2019                   544     948119299  28764575             1742866.36   \n",
       "4   2018                   473     811857597  24671493             1716400.84   \n",
       "5   2017                   495     998891600  30516328             2017962.83   \n",
       "6   2016                   399     928894896  28306782             2328057.38   \n",
       "7   2015                   377    1154740130  35151761             3062971.17   \n",
       "8   2014                   357     824652297  25076665             2309950.41   \n",
       "9   2013                   388    1062537497  32249916             2738498.70   \n",
       "10  2012                   302     803186000  24331209             2659556.29   \n",
       "11  2011                   271     575677999  17478900             2124273.06   \n",
       "12  2010                   267     528145999  15962900             1978074.90   \n",
       "13  2009                   233     557635000  16841500             2393283.26   \n",
       "14  2008                    84     208007999   6312400             2476285.70   \n",
       "15  2007                   113     176651000   5332100             1563283.19   \n",
       "16  2006                    49     181109999   5401400             3696122.43   \n",
       "17  2005                    65     157477999   4805000             2422738.45   \n",
       "18  2004                    33     112378000   3436400             3405393.94   \n",
       "19  2003                    34      54394000   1640400             1599823.53   \n",
       "20  2002                    26      30442000    915700             1170846.15   \n",
       "21  2001                     5      10530000    315100             2106000.00   \n",
       "22  1998                     6       7410000    226100             1235000.00   \n",
       "23  1994                     1        699000     20000              699000.00   \n",
       "24  1991                     1        327000      9800              327000.00   \n",
       "25  1990                     1        723000     21000              723000.00   \n",
       "26  1984                     1       1100000     33000             1100000.00   \n",
       "27  1983                     1        690000     20000              690000.00   \n",
       "28  1972                     1       1300000     41000             1300000.00   \n",
       "29  1970                     2        252000      7500              126000.00   \n",
       "\n",
       "    Média de Likes  \n",
       "0         17062.70  \n",
       "1         33482.66  \n",
       "2         38516.99  \n",
       "3         52876.06  \n",
       "4         52159.60  \n",
       "5         61649.15  \n",
       "6         70944.32  \n",
       "7         93240.75  \n",
       "8         70242.76  \n",
       "9         83118.34  \n",
       "10        80566.92  \n",
       "11        64497.79  \n",
       "12        59786.14  \n",
       "13        72281.12  \n",
       "14        75147.62  \n",
       "15        47186.73  \n",
       "16       110232.65  \n",
       "17        73923.08  \n",
       "18       104133.33  \n",
       "19        48247.06  \n",
       "20        35219.23  \n",
       "21        63020.00  \n",
       "22        37683.33  \n",
       "23        20000.00  \n",
       "24         9800.00  \n",
       "25        21000.00  \n",
       "26        33000.00  \n",
       "27        20000.00  \n",
       "28        41000.00  \n",
       "29         3750.00  "
      ]
     },
     "execution_count": 10,
     "metadata": {},
     "output_type": "execute_result"
    }
   ],
   "source": [
    "df2"
   ]
  },
  {
   "cell_type": "markdown",
   "id": "3497b0e7",
   "metadata": {},
   "source": [
    "## Coletando dados dos autores"
   ]
  },
  {
   "cell_type": "markdown",
   "id": "04368282",
   "metadata": {},
   "source": [
    "### Agrupando todos os autores (sem repetição)"
   ]
  },
  {
   "cell_type": "code",
   "execution_count": 11,
   "id": "ac70f179",
   "metadata": {},
   "outputs": [],
   "source": [
    "autsemrep = []\n",
    "for a in df['author']:\n",
    "    if a not in autsemrep:\n",
    "        autsemrep.append(a)\n",
    "autsemrep = pd.DataFrame(autsemrep, columns = ['Autor'])\n",
    "df3['Autor'] = autsemrep"
   ]
  },
  {
   "cell_type": "markdown",
   "id": "d91f6f97",
   "metadata": {},
   "source": [
    "### Coletando a quantidade de vídeos postados por autor"
   ]
  },
  {
   "cell_type": "code",
   "execution_count": 12,
   "id": "08520c95",
   "metadata": {},
   "outputs": [],
   "source": [
    "contagemaut= []\n",
    "for c in autsemrep['Autor']:\n",
    "    cont = 0\n",
    "    for i in df['author']:\n",
    "        if c == i:\n",
    "            cont += 1\n",
    "    contagemaut.append(cont)\n",
    "contagemaut = pd.DataFrame(contagemaut, columns=['Quantidade de Vídeos'])\n",
    "df3['Quantidade de Vídeos'] = contagemaut"
   ]
  },
  {
   "cell_type": "markdown",
   "id": "352ea53e",
   "metadata": {},
   "source": [
    "### Coletando a quantidade de visualizações por autor"
   ]
  },
  {
   "cell_type": "code",
   "execution_count": 13,
   "id": "4ae610c3",
   "metadata": {},
   "outputs": [],
   "source": [
    "viewaut= []\n",
    "for c in autsemrep['Autor']:\n",
    "    total = 0\n",
    "    for n ,i in enumerate(df['author']):\n",
    "        if c == i:\n",
    "            total += df['views'][n]\n",
    "    viewaut.append(total)\n",
    "viewaut = pd.DataFrame(viewaut, columns=['Visualizações totais']).reset_index().drop(columns=['index'])\n",
    "df3['Visualizações totais'] = viewaut"
   ]
  },
  {
   "cell_type": "markdown",
   "id": "74122b37",
   "metadata": {},
   "source": [
    "### Coletando a quantidade de likes por autor"
   ]
  },
  {
   "cell_type": "code",
   "execution_count": 14,
   "id": "d8fcfff5",
   "metadata": {},
   "outputs": [],
   "source": [
    "likesaut = []\n",
    "for c in autsemrep['Autor']:\n",
    "    total = 0\n",
    "    for n ,i in enumerate(df['author']):\n",
    "        if c == i:\n",
    "            total += df['likes'][n]\n",
    "    likesaut.append(total)\n",
    "likesaut = pd.DataFrame(likesaut, columns=['Likes totais']).reset_index().drop(columns=['index'])\n",
    "df3['Likes totais'] = likesaut"
   ]
  },
  {
   "cell_type": "markdown",
   "id": "95439833",
   "metadata": {},
   "source": [
    "### Agrupando os 10 maiores autores em relação à quantidade de vídeos postados"
   ]
  },
  {
   "cell_type": "code",
   "execution_count": 85,
   "id": "2a4df5b3",
   "metadata": {},
   "outputs": [],
   "source": [
    "df3_vp = pd.DataFrame()\n",
    "df3_vp = df3.sort_values(by='Quantidade de Vídeos', ascending = False).reset_index().drop(columns=['index']).iloc[0:10]"
   ]
  },
  {
   "cell_type": "markdown",
   "id": "647dc02c",
   "metadata": {},
   "source": [
    "### Agrupando os 10 maiores autores em relação à quantidade de visualizações totais"
   ]
  },
  {
   "cell_type": "code",
   "execution_count": 86,
   "id": "146ef8ec",
   "metadata": {},
   "outputs": [],
   "source": [
    "df3_vt = pd.DataFrame()\n",
    "df3_vt = df3.sort_values(by='Visualizações totais', ascending = False).reset_index().drop(columns=['index']).iloc[0:10]"
   ]
  },
  {
   "cell_type": "markdown",
   "id": "fa75cffd",
   "metadata": {},
   "source": [
    "### Agrupando os 10 maiores autores em relação à quantidade de likes totais"
   ]
  },
  {
   "cell_type": "code",
   "execution_count": 87,
   "id": "54cd562f",
   "metadata": {},
   "outputs": [],
   "source": [
    "df3_lt = pd.DataFrame()\n",
    "df3_lt = df3.sort_values(by='Likes totais', ascending = False).reset_index().drop(columns=['index']).iloc[0:10]"
   ]
  },
  {
   "cell_type": "code",
   "execution_count": 88,
   "id": "50bfe2bb",
   "metadata": {},
   "outputs": [
    {
     "data": {
      "text/html": [
       "<div>\n",
       "<style scoped>\n",
       "    .dataframe tbody tr th:only-of-type {\n",
       "        vertical-align: middle;\n",
       "    }\n",
       "\n",
       "    .dataframe tbody tr th {\n",
       "        vertical-align: top;\n",
       "    }\n",
       "\n",
       "    .dataframe thead th {\n",
       "        text-align: right;\n",
       "    }\n",
       "</style>\n",
       "<table border=\"1\" class=\"dataframe\">\n",
       "  <thead>\n",
       "    <tr style=\"text-align: right;\">\n",
       "      <th></th>\n",
       "      <th>Autor</th>\n",
       "      <th>Quantidade de Vídeos</th>\n",
       "      <th>Visualizações totais</th>\n",
       "      <th>Likes totais</th>\n",
       "    </tr>\n",
       "  </thead>\n",
       "  <tbody>\n",
       "    <tr>\n",
       "      <th>0</th>\n",
       "      <td>Ozawa Bineshi Albert</td>\n",
       "      <td>1</td>\n",
       "      <td>404000</td>\n",
       "      <td>12000</td>\n",
       "    </tr>\n",
       "    <tr>\n",
       "      <th>1</th>\n",
       "      <td>Sydney Iaukea</td>\n",
       "      <td>1</td>\n",
       "      <td>214000</td>\n",
       "      <td>6400</td>\n",
       "    </tr>\n",
       "    <tr>\n",
       "      <th>2</th>\n",
       "      <td>Martin Reeves</td>\n",
       "      <td>3</td>\n",
       "      <td>3072000</td>\n",
       "      <td>92000</td>\n",
       "    </tr>\n",
       "    <tr>\n",
       "      <th>3</th>\n",
       "      <td>James K. Thornton</td>\n",
       "      <td>1</td>\n",
       "      <td>427000</td>\n",
       "      <td>12000</td>\n",
       "    </tr>\n",
       "    <tr>\n",
       "      <th>4</th>\n",
       "      <td>Mahendra Singhi</td>\n",
       "      <td>1</td>\n",
       "      <td>2400</td>\n",
       "      <td>72</td>\n",
       "    </tr>\n",
       "    <tr>\n",
       "      <th>...</th>\n",
       "      <td>...</td>\n",
       "      <td>...</td>\n",
       "      <td>...</td>\n",
       "      <td>...</td>\n",
       "    </tr>\n",
       "    <tr>\n",
       "      <th>4439</th>\n",
       "      <td>Jennifer Lin</td>\n",
       "      <td>1</td>\n",
       "      <td>1800000</td>\n",
       "      <td>56000</td>\n",
       "    </tr>\n",
       "    <tr>\n",
       "      <th>4440</th>\n",
       "      <td>Sirena Huang</td>\n",
       "      <td>1</td>\n",
       "      <td>3300000</td>\n",
       "      <td>100000</td>\n",
       "    </tr>\n",
       "    <tr>\n",
       "      <th>4441</th>\n",
       "      <td>Jeff Han</td>\n",
       "      <td>1</td>\n",
       "      <td>4800000</td>\n",
       "      <td>145000</td>\n",
       "    </tr>\n",
       "    <tr>\n",
       "      <th>4442</th>\n",
       "      <td>Jehane Noujaim</td>\n",
       "      <td>1</td>\n",
       "      <td>486000</td>\n",
       "      <td>14000</td>\n",
       "    </tr>\n",
       "    <tr>\n",
       "      <th>4443</th>\n",
       "      <td>Rick Warren</td>\n",
       "      <td>1</td>\n",
       "      <td>4200000</td>\n",
       "      <td>127000</td>\n",
       "    </tr>\n",
       "  </tbody>\n",
       "</table>\n",
       "<p>4444 rows × 4 columns</p>\n",
       "</div>"
      ],
      "text/plain": [
       "                     Autor  Quantidade de Vídeos  Visualizações totais  \\\n",
       "0     Ozawa Bineshi Albert                     1                404000   \n",
       "1            Sydney Iaukea                     1                214000   \n",
       "2            Martin Reeves                     3               3072000   \n",
       "3        James K. Thornton                     1                427000   \n",
       "4          Mahendra Singhi                     1                  2400   \n",
       "...                    ...                   ...                   ...   \n",
       "4439          Jennifer Lin                     1               1800000   \n",
       "4440          Sirena Huang                     1               3300000   \n",
       "4441              Jeff Han                     1               4800000   \n",
       "4442        Jehane Noujaim                     1                486000   \n",
       "4443           Rick Warren                     1               4200000   \n",
       "\n",
       "      Likes totais  \n",
       "0            12000  \n",
       "1             6400  \n",
       "2            92000  \n",
       "3            12000  \n",
       "4               72  \n",
       "...            ...  \n",
       "4439         56000  \n",
       "4440        100000  \n",
       "4441        145000  \n",
       "4442         14000  \n",
       "4443        127000  \n",
       "\n",
       "[4444 rows x 4 columns]"
      ]
     },
     "execution_count": 88,
     "metadata": {},
     "output_type": "execute_result"
    }
   ],
   "source": [
    "df3"
   ]
  },
  {
   "cell_type": "markdown",
   "id": "f6c51890",
   "metadata": {},
   "source": [
    "\n",
    "\n",
    "\n",
    "\n",
    "# Gráficos"
   ]
  },
  {
   "cell_type": "markdown",
   "id": "ea87b4a4",
   "metadata": {},
   "source": [
    "#### Padronização do tamanho dos gráficos (para alterar o tamanho de um gráfico específico, basta rodar a linha antes de plotar o gráfico)"
   ]
  },
  {
   "cell_type": "code",
   "execution_count": 89,
   "id": "410ef157",
   "metadata": {},
   "outputs": [],
   "source": [
    "plt.rcParams['figure.figsize']=(15,8)"
   ]
  },
  {
   "cell_type": "markdown",
   "id": "ea4438d2",
   "metadata": {},
   "source": [
    "### Plotando gráfico do ano x quantidade de vídeos"
   ]
  },
  {
   "cell_type": "code",
   "execution_count": 90,
   "id": "61870d6d",
   "metadata": {},
   "outputs": [
    {
     "data": {
      "text/plain": [
       "Text(0.5, 1.0, 'Quantidade de vídeos postados por ano')"
      ]
     },
     "execution_count": 90,
     "metadata": {},
     "output_type": "execute_result"
    },
    {
     "data": {
      "image/png": "[encoded data removed]",
      "text/plain": [
       "<Figure size 1080x576 with 1 Axes>"
      ]
     },
     "metadata": {
      "needs_background": "light"
     },
     "output_type": "display_data"
    }
   ],
   "source": [
    "graf_med_like = sns.barplot(data=df2, x=\"Anos\", y=\"Quantidade de Vídeos\", palette=\"Blues_d\")\n",
    "graf_med_like.set_title('Quantidade de vídeos postados por ano')"
   ]
  },
  {
   "cell_type": "markdown",
   "id": "77f19852",
   "metadata": {},
   "source": [
    "### Plotando gráfico do total de views x ano"
   ]
  },
  {
   "cell_type": "code",
   "execution_count": 91,
   "id": "5b27d640",
   "metadata": {},
   "outputs": [
    {
     "data": {
      "text/plain": [
       "Text(0.5, 1.0, 'Visualizações totais por ano')"
      ]
     },
     "execution_count": 91,
     "metadata": {},
     "output_type": "execute_result"
    },
    {
     "data": {
      "image/png": "[encoded data removed]",
      "text/plain": [
       "<Figure size 1080x576 with 1 Axes>"
      ]
     },
     "metadata": {
      "needs_background": "light"
     },
     "output_type": "display_data"
    }
   ],
   "source": [
    "#plt.rcParams['figure.figsize']=(15,8)\n",
    "graf_med_like = sns.barplot(data=df2, x=\"Anos\", y=\"Visualização\", palette=\"Blues_d\")\n",
    "graf_med_like.set_title('Visualizações totais por ano')"
   ]
  },
  {
   "cell_type": "markdown",
   "id": "defba21a",
   "metadata": {},
   "source": [
    "### Plotando gráfico da média de visualizações x ano"
   ]
  },
  {
   "cell_type": "code",
   "execution_count": 92,
   "id": "2b635afd",
   "metadata": {},
   "outputs": [
    {
     "data": {
      "text/plain": [
       "Text(0.5, 1.0, 'Média de visualizações por ano')"
      ]
     },
     "execution_count": 92,
     "metadata": {},
     "output_type": "execute_result"
    },
    {
     "data": {
      "image/png": "[encoded data removed]",
      "text/plain": [
       "<Figure size 1080x576 with 1 Axes>"
      ]
     },
     "metadata": {
      "needs_background": "light"
     },
     "output_type": "display_data"
    }
   ],
   "source": [
    "#plt.rcParams['figure.figsize']=(15,8)\n",
    "graf_med_like = sns.barplot(data=df2, x=\"Anos\", y=\"Média de visualização\", palette=\"Blues_d\")\n",
    "graf_med_like.set_title('Média de visualizações por ano')"
   ]
  },
  {
   "cell_type": "markdown",
   "id": "dd4d1c3a",
   "metadata": {},
   "source": [
    "### Plotando gráfico do total de likes x ano"
   ]
  },
  {
   "cell_type": "code",
   "execution_count": 93,
   "id": "4062e93d",
   "metadata": {},
   "outputs": [
    {
     "data": {
      "text/plain": [
       "Text(0.5, 1.0, 'Total de likes por ano')"
      ]
     },
     "execution_count": 93,
     "metadata": {},
     "output_type": "execute_result"
    },
    {
     "data": {
      "image/png": "[encoded data removed]",
      "text/plain": [
       "<Figure size 1080x576 with 1 Axes>"
      ]
     },
     "metadata": {
      "needs_background": "light"
     },
     "output_type": "display_data"
    }
   ],
   "source": [
    "#plt.rcParams['figure.figsize']=(15,8)\n",
    "graf_tot_like = sns.barplot(data=df2, x=\"Anos\", y=\"Likes\", palette=\"Blues_d\")\n",
    "graf_tot_like.set_title('Total de likes por ano')"
   ]
  },
  {
   "cell_type": "markdown",
   "id": "12a91734",
   "metadata": {},
   "source": [
    "### Plotando gráfico da média de likes por vídeo x ano:\n"
   ]
  },
  {
   "cell_type": "code",
   "execution_count": 94,
   "id": "c099a52c",
   "metadata": {},
   "outputs": [
    {
     "data": {
      "text/plain": [
       "Text(0.5, 1.0, 'Média de likes por ano')"
      ]
     },
     "execution_count": 94,
     "metadata": {},
     "output_type": "execute_result"
    },
    {
     "data": {
      "image/png": "[encoded data removed]",
      "text/plain": [
       "<Figure size 1080x576 with 1 Axes>"
      ]
     },
     "metadata": {
      "needs_background": "light"
     },
     "output_type": "display_data"
    }
   ],
   "source": [
    "#plt.rcParams['figure.figsize']=(15,8)\n",
    "graf_med_like = sns.barplot(data=df2, x=\"Anos\", y=\"Média de Likes\", palette=\"Blues_d\")\n",
    "graf_med_like.set_title('Média de likes por ano')"
   ]
  },
  {
   "cell_type": "markdown",
   "id": "e06e9334",
   "metadata": {},
   "source": [
    "### Plotando gráfico da Quantidade de vídeos x Autor (10 autores que mais postaram)"
   ]
  },
  {
   "cell_type": "code",
   "execution_count": 95,
   "id": "3fa36f09",
   "metadata": {},
   "outputs": [
    {
     "data": {
      "text/plain": [
       "<AxesSubplot:xlabel='Quantidade de Vídeos', ylabel='Autor'>"
      ]
     },
     "execution_count": 95,
     "metadata": {},
     "output_type": "execute_result"
    },
    {
     "data": {
      "image/png": "[encoded data removed]",
      "text/plain": [
       "<Figure size 1080x576 with 1 Axes>"
      ]
     },
     "metadata": {
      "needs_background": "light"
     },
     "output_type": "display_data"
    }
   ],
   "source": [
    "sns.barplot(data=df3_vp, x=\"Quantidade de Vídeos\", y=\"Autor\")"
   ]
  },
  {
   "cell_type": "markdown",
   "id": "c136f21a",
   "metadata": {},
   "source": [
    "### Plotando gráfico da Quantidade de visualizações x Autor (10 autores mais vistos)"
   ]
  },
  {
   "cell_type": "code",
   "execution_count": 96,
   "id": "9a7ddf4c",
   "metadata": {},
   "outputs": [
    {
     "data": {
      "text/plain": [
       "<AxesSubplot:xlabel='Visualizações totais', ylabel='Autor'>"
      ]
     },
     "execution_count": 96,
     "metadata": {},
     "output_type": "execute_result"
    },
    {
     "data": {
      "image/png": "[encoded data removed]",
      "text/plain": [
       "<Figure size 1080x576 with 1 Axes>"
      ]
     },
     "metadata": {
      "needs_background": "light"
     },
     "output_type": "display_data"
    }
   ],
   "source": [
    "sns.barplot(data=df3_vt, x=\"Visualizações totais\", y=\"Autor\")"
   ]
  },
  {
   "cell_type": "markdown",
   "id": "b747ee7d",
   "metadata": {},
   "source": [
    "### Plotando gráfico da Quantidade de likes x Autor (10 autores com mais likes)"
   ]
  },
  {
   "cell_type": "code",
   "execution_count": 97,
   "id": "795e8c1f",
   "metadata": {},
   "outputs": [
    {
     "data": {
      "text/plain": [
       "<AxesSubplot:xlabel='Likes totais', ylabel='Autor'>"
      ]
     },
     "execution_count": 97,
     "metadata": {},
     "output_type": "execute_result"
    },
    {
     "data": {
      "image/png": "[encoded data removed]",
      "text/plain": [
       "<Figure size 1080x576 with 1 Axes>"
      ]
     },
     "metadata": {
      "needs_background": "light"
     },
     "output_type": "display_data"
    }
   ],
   "source": [
    "sns.barplot(data=df3_lt, x=\"Likes totais\", y=\"Autor\")"
   ]
  },
  {
   "cell_type": "markdown",
   "id": "ff1465a7",
   "metadata": {},
   "source": [
    "# Medidas de tendências:"
   ]
  },
  {
   "cell_type": "code",
   "execution_count": 98,
   "id": "dff270ac",
   "metadata": {},
   "outputs": [
    {
     "data": {
      "text/plain": [
       "<AxesSubplot:>"
      ]
     },
     "execution_count": 98,
     "metadata": {},
     "output_type": "execute_result"
    },
    {
     "data": {
      "image/png": "[encoded data removed]",
      "text/plain": [
       "<Figure size 1080x576 with 1 Axes>"
      ]
     },
     "metadata": {
      "needs_background": "light"
     },
     "output_type": "display_data"
    }
   ],
   "source": [
    "df2.boxplot(column=['Visualização'])"
   ]
  },
  {
   "cell_type": "code",
   "execution_count": 99,
   "id": "7307e685",
   "metadata": {},
   "outputs": [
    {
     "data": {
      "text/plain": [
       "401420035.7024643"
      ]
     },
     "execution_count": 99,
     "metadata": {},
     "output_type": "execute_result"
    }
   ],
   "source": [
    "df2['Visualização'].std()"
   ]
  },
  {
   "cell_type": "code",
   "execution_count": 100,
   "id": "495957ba",
   "metadata": {},
   "outputs": [
    {
     "data": {
      "text/plain": [
       "12207323.752143247"
      ]
     },
     "execution_count": 100,
     "metadata": {},
     "output_type": "execute_result"
    }
   ],
   "source": [
    "df2['Likes'].std()"
   ]
  },
  {
   "cell_type": "code",
   "execution_count": 101,
   "id": "ea1ee60f",
   "metadata": {},
   "outputs": [
    {
     "data": {
      "text/plain": [
       "<AxesSubplot:>"
      ]
     },
     "execution_count": 101,
     "metadata": {},
     "output_type": "execute_result"
    },
    {
     "data": {
      "image/png": "[encoded data removed]",
      "text/plain": [
       "<Figure size 1080x576 with 1 Axes>"
      ]
     },
     "metadata": {
      "needs_background": "light"
     },
     "output_type": "display_data"
    }
   ],
   "source": [
    "df2.boxplot(column='Likes')"
   ]
  },
  {
   "cell_type": "markdown",
   "id": "9fe39f01",
   "metadata": {},
   "source": [
    "# Correlação entre vizualizações e likes por ano:"
   ]
  },
  {
   "cell_type": "code",
   "execution_count": 102,
   "id": "bf69d178",
   "metadata": {},
   "outputs": [
    {
     "data": {
      "text/plain": [
       "<AxesSubplot:xlabel='Visualização', ylabel='Likes'>"
      ]
     },
     "execution_count": 102,
     "metadata": {},
     "output_type": "execute_result"
    },
    {
     "data": {
      "image/png": "[encoded data removed]",
      "text/plain": [
       "<Figure size 1080x576 with 1 Axes>"
      ]
     },
     "metadata": {
      "needs_background": "light"
     },
     "output_type": "display_data"
    }
   ],
   "source": [
    "sns.scatterplot(data=df2, x=\"Visualização\", y=\"Likes\")"
   ]
  },
  {
   "cell_type": "code",
   "execution_count": 103,
   "id": "0d5b2556",
   "metadata": {},
   "outputs": [
    {
     "data": {
      "text/html": [
       "<div>\n",
       "<style scoped>\n",
       "    .dataframe tbody tr th:only-of-type {\n",
       "        vertical-align: middle;\n",
       "    }\n",
       "\n",
       "    .dataframe tbody tr th {\n",
       "        vertical-align: top;\n",
       "    }\n",
       "\n",
       "    .dataframe thead th {\n",
       "        text-align: right;\n",
       "    }\n",
       "</style>\n",
       "<table border=\"1\" class=\"dataframe\">\n",
       "  <thead>\n",
       "    <tr style=\"text-align: right;\">\n",
       "      <th></th>\n",
       "      <th>Likes</th>\n",
       "      <th>Visualização</th>\n",
       "    </tr>\n",
       "  </thead>\n",
       "  <tbody>\n",
       "    <tr>\n",
       "      <th>Likes</th>\n",
       "      <td>1.000000</td>\n",
       "      <td>0.999991</td>\n",
       "    </tr>\n",
       "    <tr>\n",
       "      <th>Visualização</th>\n",
       "      <td>0.999991</td>\n",
       "      <td>1.000000</td>\n",
       "    </tr>\n",
       "  </tbody>\n",
       "</table>\n",
       "</div>"
      ],
      "text/plain": [
       "                 Likes  Visualização\n",
       "Likes         1.000000      0.999991\n",
       "Visualização  0.999991      1.000000"
      ]
     },
     "execution_count": 103,
     "metadata": {},
     "output_type": "execute_result"
    }
   ],
   "source": [
    "df2[['Likes', 'Visualização']].corr()"
   ]
  },
  {
   "cell_type": "markdown",
   "id": "7004c305",
   "metadata": {},
   "source": [
    "# Correlação entre vizualizações e quantidade de vídeos por ano\n"
   ]
  },
  {
   "cell_type": "code",
   "execution_count": 104,
   "id": "80d155e8",
   "metadata": {},
   "outputs": [
    {
     "data": {
      "text/plain": [
       "<AxesSubplot:xlabel='Visualização', ylabel='Quantidade de Vídeos'>"
      ]
     },
     "execution_count": 104,
     "metadata": {},
     "output_type": "execute_result"
    },
    {
     "data": {
      "image/png": "[encoded data removed]",
      "text/plain": [
       "<Figure size 1080x576 with 1 Axes>"
      ]
     },
     "metadata": {
      "needs_background": "light"
     },
     "output_type": "display_data"
    }
   ],
   "source": [
    "df2.plot.scatter(x = 'Visualização', y=  'Quantidade de Vídeos')"
   ]
  },
  {
   "cell_type": "code",
   "execution_count": 105,
   "id": "c1b49372",
   "metadata": {},
   "outputs": [
    {
     "data": {
      "text/html": [
       "<div>\n",
       "<style scoped>\n",
       "    .dataframe tbody tr th:only-of-type {\n",
       "        vertical-align: middle;\n",
       "    }\n",
       "\n",
       "    .dataframe tbody tr th {\n",
       "        vertical-align: top;\n",
       "    }\n",
       "\n",
       "    .dataframe thead th {\n",
       "        text-align: right;\n",
       "    }\n",
       "</style>\n",
       "<table border=\"1\" class=\"dataframe\">\n",
       "  <thead>\n",
       "    <tr style=\"text-align: right;\">\n",
       "      <th></th>\n",
       "      <th>Quantidade de Vídeos</th>\n",
       "      <th>Visualização</th>\n",
       "    </tr>\n",
       "  </thead>\n",
       "  <tbody>\n",
       "    <tr>\n",
       "      <th>Quantidade de Vídeos</th>\n",
       "      <td>1.000000</td>\n",
       "      <td>0.930978</td>\n",
       "    </tr>\n",
       "    <tr>\n",
       "      <th>Visualização</th>\n",
       "      <td>0.930978</td>\n",
       "      <td>1.000000</td>\n",
       "    </tr>\n",
       "  </tbody>\n",
       "</table>\n",
       "</div>"
      ],
      "text/plain": [
       "                      Quantidade de Vídeos  Visualização\n",
       "Quantidade de Vídeos              1.000000      0.930978\n",
       "Visualização                      0.930978      1.000000"
      ]
     },
     "execution_count": 105,
     "metadata": {},
     "output_type": "execute_result"
    }
   ],
   "source": [
    "df2[['Quantidade de Vídeos', 'Visualização']].corr()"
   ]
  },
  {
   "cell_type": "markdown",
   "id": "9b1d0dc7",
   "metadata": {},
   "source": [
    "# Correlação entre vídeos por ano e quantidade de likes"
   ]
  },
  {
   "cell_type": "code",
   "execution_count": 106,
   "id": "4e1d55fb",
   "metadata": {},
   "outputs": [
    {
     "data": {
      "text/plain": [
       "<AxesSubplot:xlabel='Quantidade de Vídeos', ylabel='Likes'>"
      ]
     },
     "execution_count": 106,
     "metadata": {},
     "output_type": "execute_result"
    },
    {
     "data": {
      "image/png": "[encoded data removed]",
      "text/plain": [
       "<Figure size 1080x576 with 1 Axes>"
      ]
     },
     "metadata": {
      "needs_background": "light"
     },
     "output_type": "display_data"
    }
   ],
   "source": [
    "df2.plot.scatter(x = 'Quantidade de Vídeos', y= 'Likes')"
   ]
  },
  {
   "cell_type": "code",
   "execution_count": 107,
   "id": "68ffdc91",
   "metadata": {},
   "outputs": [
    {
     "data": {
      "text/html": [
       "<div>\n",
       "<style scoped>\n",
       "    .dataframe tbody tr th:only-of-type {\n",
       "        vertical-align: middle;\n",
       "    }\n",
       "\n",
       "    .dataframe tbody tr th {\n",
       "        vertical-align: top;\n",
       "    }\n",
       "\n",
       "    .dataframe thead th {\n",
       "        text-align: right;\n",
       "    }\n",
       "</style>\n",
       "<table border=\"1\" class=\"dataframe\">\n",
       "  <thead>\n",
       "    <tr style=\"text-align: right;\">\n",
       "      <th></th>\n",
       "      <th>Likes</th>\n",
       "      <th>Quantidade de Vídeos</th>\n",
       "    </tr>\n",
       "  </thead>\n",
       "  <tbody>\n",
       "    <tr>\n",
       "      <th>Likes</th>\n",
       "      <td>1.000000</td>\n",
       "      <td>0.930925</td>\n",
       "    </tr>\n",
       "    <tr>\n",
       "      <th>Quantidade de Vídeos</th>\n",
       "      <td>0.930925</td>\n",
       "      <td>1.000000</td>\n",
       "    </tr>\n",
       "  </tbody>\n",
       "</table>\n",
       "</div>"
      ],
      "text/plain": [
       "                         Likes  Quantidade de Vídeos\n",
       "Likes                 1.000000              0.930925\n",
       "Quantidade de Vídeos  0.930925              1.000000"
      ]
     },
     "execution_count": 107,
     "metadata": {},
     "output_type": "execute_result"
    }
   ],
   "source": [
    "df2[['Likes', 'Quantidade de Vídeos']].corr()"
   ]
  },
  {
   "cell_type": "markdown",
   "id": "24d43a5a",
   "metadata": {},
   "source": [
    "# AGRUPAMENTO"
   ]
  },
  {
   "cell_type": "code",
   "execution_count": 108,
   "id": "22709086",
   "metadata": {},
   "outputs": [],
   "source": [
    "from sklearn.cluster import KMeans"
   ]
  },
  {
   "cell_type": "code",
   "execution_count": 109,
   "id": "ea458fc3",
   "metadata": {},
   "outputs": [
    {
     "data": {
      "text/plain": [
       "<AxesSubplot:xlabel='Visualizações totais', ylabel='Likes totais'>"
      ]
     },
     "execution_count": 109,
     "metadata": {},
     "output_type": "execute_result"
    },
    {
     "data": {
      "image/png": "[encoded data removed]",
      "text/plain": [
       "<Figure size 1080x576 with 1 Axes>"
      ]
     },
     "metadata": {
      "needs_background": "light"
     },
     "output_type": "display_data"
    }
   ],
   "source": [
    "sns.scatterplot(data = df3_vt, x = 'Visualizações totais', y = 'Likes totais')"
   ]
  },
  {
   "cell_type": "code",
   "execution_count": 110,
   "id": "9424dc90",
   "metadata": {},
   "outputs": [
    {
     "data": {
      "text/html": [
       "<div>\n",
       "<style scoped>\n",
       "    .dataframe tbody tr th:only-of-type {\n",
       "        vertical-align: middle;\n",
       "    }\n",
       "\n",
       "    .dataframe tbody tr th {\n",
       "        vertical-align: top;\n",
       "    }\n",
       "\n",
       "    .dataframe thead th {\n",
       "        text-align: right;\n",
       "    }\n",
       "</style>\n",
       "<table border=\"1\" class=\"dataframe\">\n",
       "  <thead>\n",
       "    <tr style=\"text-align: right;\">\n",
       "      <th></th>\n",
       "      <th>Visualizações totais</th>\n",
       "      <th>Likes totais</th>\n",
       "    </tr>\n",
       "  </thead>\n",
       "  <tbody>\n",
       "    <tr>\n",
       "      <th>0</th>\n",
       "      <td>187196000</td>\n",
       "      <td>5691000</td>\n",
       "    </tr>\n",
       "    <tr>\n",
       "      <th>1</th>\n",
       "      <td>95654000</td>\n",
       "      <td>2833600</td>\n",
       "    </tr>\n",
       "    <tr>\n",
       "      <th>2</th>\n",
       "      <td>77800000</td>\n",
       "      <td>2349000</td>\n",
       "    </tr>\n",
       "    <tr>\n",
       "      <th>3</th>\n",
       "      <td>74800000</td>\n",
       "      <td>2246000</td>\n",
       "    </tr>\n",
       "    <tr>\n",
       "      <th>4</th>\n",
       "      <td>72000000</td>\n",
       "      <td>2204000</td>\n",
       "    </tr>\n",
       "    <tr>\n",
       "      <th>5</th>\n",
       "      <td>64300000</td>\n",
       "      <td>1870000</td>\n",
       "    </tr>\n",
       "    <tr>\n",
       "      <th>6</th>\n",
       "      <td>64000000</td>\n",
       "      <td>1900000</td>\n",
       "    </tr>\n",
       "    <tr>\n",
       "      <th>7</th>\n",
       "      <td>60000000</td>\n",
       "      <td>1800000</td>\n",
       "    </tr>\n",
       "    <tr>\n",
       "      <th>8</th>\n",
       "      <td>54998000</td>\n",
       "      <td>1660900</td>\n",
       "    </tr>\n",
       "    <tr>\n",
       "      <th>9</th>\n",
       "      <td>44174000</td>\n",
       "      <td>1395000</td>\n",
       "    </tr>\n",
       "  </tbody>\n",
       "</table>\n",
       "</div>"
      ],
      "text/plain": [
       "   Visualizações totais  Likes totais\n",
       "0             187196000       5691000\n",
       "1              95654000       2833600\n",
       "2              77800000       2349000\n",
       "3              74800000       2246000\n",
       "4              72000000       2204000\n",
       "5              64300000       1870000\n",
       "6              64000000       1900000\n",
       "7              60000000       1800000\n",
       "8              54998000       1660900\n",
       "9              44174000       1395000"
      ]
     },
     "execution_count": 110,
     "metadata": {},
     "output_type": "execute_result"
    }
   ],
   "source": [
    "data_teste = df3_vt[['Visualizações totais', 'Likes totais']]\n",
    "data_teste"
   ]
  },
  {
   "cell_type": "code",
   "execution_count": 111,
   "id": "b75ea87e",
   "metadata": {},
   "outputs": [],
   "source": [
    "# 271417.04405737703\n",
    "#  58665.75481185481"
   ]
  },
  {
   "cell_type": "code",
   "execution_count": 118,
   "id": "7ec37d6d",
   "metadata": {},
   "outputs": [],
   "source": [
    "kmeans = KMeans(n_clusters=2)"
   ]
  },
  {
   "cell_type": "code",
   "execution_count": 119,
   "id": "a5c3cd04",
   "metadata": {},
   "outputs": [
    {
     "data": {
      "text/plain": [
       "KMeans(n_clusters=2)"
      ]
     },
     "execution_count": 119,
     "metadata": {},
     "output_type": "execute_result"
    }
   ],
   "source": [
    "kmeans.fit(data_teste)"
   ]
  },
  {
   "cell_type": "code",
   "execution_count": 120,
   "id": "a1dfcc3b",
   "metadata": {},
   "outputs": [
    {
     "data": {
      "text/plain": [
       "array([0, 1, 1, 1, 1, 1, 1, 1, 1, 1])"
      ]
     },
     "execution_count": 120,
     "metadata": {},
     "output_type": "execute_result"
    }
   ],
   "source": [
    "kmeans.labels_"
   ]
  },
  {
   "cell_type": "code",
   "execution_count": 121,
   "id": "4557c7f7",
   "metadata": {},
   "outputs": [
    {
     "data": {
      "text/plain": [
       "<AxesSubplot:xlabel='Visualizações totais', ylabel='Likes totais'>"
      ]
     },
     "execution_count": 121,
     "metadata": {},
     "output_type": "execute_result"
    },
    {
     "data": {
      "image/png": "[encoded data removed]",
      "text/plain": [
       "<Figure size 1080x576 with 1 Axes>"
      ]
     },
     "metadata": {
      "needs_background": "light"
     },
     "output_type": "display_data"
    }
   ],
   "source": [
    "sns.scatterplot(data=data_teste, x=\"Visualizações totais\", y=\"Likes totais\", hue=kmeans.labels_)"
   ]
  },
  {
   "cell_type": "code",
   "execution_count": 122,
   "id": "8cb11554",
   "metadata": {},
   "outputs": [
    {
     "data": {
      "text/plain": [
       "1752873631964444.5"
      ]
     },
     "execution_count": 122,
     "metadata": {},
     "output_type": "execute_result"
    }
   ],
   "source": [
    "kmeans.inertia_"
   ]
  },
  {
   "cell_type": "code",
   "execution_count": 125,
   "id": "833bb114",
   "metadata": {},
   "outputs": [
    {
     "data": {
      "text/html": [
       "<div>\n",
       "<style scoped>\n",
       "    .dataframe tbody tr th:only-of-type {\n",
       "        vertical-align: middle;\n",
       "    }\n",
       "\n",
       "    .dataframe tbody tr th {\n",
       "        vertical-align: top;\n",
       "    }\n",
       "\n",
       "    .dataframe thead th {\n",
       "        text-align: right;\n",
       "    }\n",
       "</style>\n",
       "<table border=\"1\" class=\"dataframe\">\n",
       "  <thead>\n",
       "    <tr style=\"text-align: right;\">\n",
       "      <th></th>\n",
       "      <th>Autor</th>\n",
       "      <th>Quantidade de Vídeos</th>\n",
       "      <th>Visualizações totais</th>\n",
       "      <th>Likes totais</th>\n",
       "    </tr>\n",
       "  </thead>\n",
       "  <tbody>\n",
       "    <tr>\n",
       "      <th>1</th>\n",
       "      <td>Sir Ken Robinson</td>\n",
       "      <td>5</td>\n",
       "      <td>95654000</td>\n",
       "      <td>2833600</td>\n",
       "    </tr>\n",
       "    <tr>\n",
       "      <th>2</th>\n",
       "      <td>Bill Gates</td>\n",
       "      <td>8</td>\n",
       "      <td>77800000</td>\n",
       "      <td>2349000</td>\n",
       "    </tr>\n",
       "    <tr>\n",
       "      <th>3</th>\n",
       "      <td>Simon Sinek</td>\n",
       "      <td>3</td>\n",
       "      <td>74800000</td>\n",
       "      <td>2246000</td>\n",
       "    </tr>\n",
       "    <tr>\n",
       "      <th>4</th>\n",
       "      <td>Brené Brown</td>\n",
       "      <td>2</td>\n",
       "      <td>72000000</td>\n",
       "      <td>2204000</td>\n",
       "    </tr>\n",
       "    <tr>\n",
       "      <th>5</th>\n",
       "      <td>Julian Treasure</td>\n",
       "      <td>5</td>\n",
       "      <td>64300000</td>\n",
       "      <td>1870000</td>\n",
       "    </tr>\n",
       "    <tr>\n",
       "      <th>6</th>\n",
       "      <td>Amy Cuddy</td>\n",
       "      <td>1</td>\n",
       "      <td>64000000</td>\n",
       "      <td>1900000</td>\n",
       "    </tr>\n",
       "    <tr>\n",
       "      <th>7</th>\n",
       "      <td>Tim Urban</td>\n",
       "      <td>1</td>\n",
       "      <td>60000000</td>\n",
       "      <td>1800000</td>\n",
       "    </tr>\n",
       "    <tr>\n",
       "      <th>8</th>\n",
       "      <td>Iseult Gillespie</td>\n",
       "      <td>33</td>\n",
       "      <td>54998000</td>\n",
       "      <td>1660900</td>\n",
       "    </tr>\n",
       "    <tr>\n",
       "      <th>9</th>\n",
       "      <td>Mia Nacamulli</td>\n",
       "      <td>5</td>\n",
       "      <td>44174000</td>\n",
       "      <td>1395000</td>\n",
       "    </tr>\n",
       "  </tbody>\n",
       "</table>\n",
       "</div>"
      ],
      "text/plain": [
       "              Autor  Quantidade de Vídeos  Visualizações totais  Likes totais\n",
       "1  Sir Ken Robinson                     5              95654000       2833600\n",
       "2        Bill Gates                     8              77800000       2349000\n",
       "3       Simon Sinek                     3              74800000       2246000\n",
       "4       Brené Brown                     2              72000000       2204000\n",
       "5   Julian Treasure                     5              64300000       1870000\n",
       "6         Amy Cuddy                     1              64000000       1900000\n",
       "7         Tim Urban                     1              60000000       1800000\n",
       "8  Iseult Gillespie                    33              54998000       1660900\n",
       "9     Mia Nacamulli                     5              44174000       1395000"
      ]
     },
     "execution_count": 125,
     "metadata": {},
     "output_type": "execute_result"
    }
   ],
   "source": [
    "df3_vt[kmeans.labels_ == 1]"
   ]
  },
  {
   "cell_type": "code",
   "execution_count": null,
   "id": "c07b702b",
   "metadata": {},
   "outputs": [],
   "source": []
  }
 ],
 "metadata": {
  "interpreter": {
   "hash": "f4dad6527d1c4d6db8e8e709b072b8dc4560d9c25600d1551d48ae28d26e06b7"
  },
  "kernelspec": {
   "display_name": "Python 3 (ipykernel)",
   "language": "python",
   "name": "python3"
  },
  "language_info": {
   "codemirror_mode": {
    "name": "ipython",
    "version": 3
   },
   "file_extension": ".py",
   "mimetype": "text/x-python",
   "name": "python",
   "nbconvert_exporter": "python",
   "pygments_lexer": "ipython3",
   "version": "3.9.12"
  }
 },
 "nbformat": 4,
 "nbformat_minor": 5
}
