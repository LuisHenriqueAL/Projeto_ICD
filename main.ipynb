{
 "cells": [
  {
   "cell_type": "markdown",
   "id": "d0bb2cf3",
   "metadata": {},
   "source": [
    "# Inicializando o DataFrame original"
   ]
  },
  {
   "cell_type": "code",
   "execution_count": 2,
   "id": "65bfebbd",
   "metadata": {},
   "outputs": [
    {
     "data": {
      "text/html": [
       "<div>\n",
       "<style scoped>\n",
       "    .dataframe tbody tr th:only-of-type {\n",
       "        vertical-align: middle;\n",
       "    }\n",
       "\n",
       "    .dataframe tbody tr th {\n",
       "        vertical-align: top;\n",
       "    }\n",
       "\n",
       "    .dataframe thead th {\n",
       "        text-align: right;\n",
       "    }\n",
       "</style>\n",
       "<table border=\"1\" class=\"dataframe\">\n",
       "  <thead>\n",
       "    <tr style=\"text-align: right;\">\n",
       "      <th></th>\n",
       "      <th>title</th>\n",
       "      <th>author</th>\n",
       "      <th>date</th>\n",
       "      <th>views</th>\n",
       "      <th>likes</th>\n",
       "    </tr>\n",
       "  </thead>\n",
       "  <tbody>\n",
       "    <tr>\n",
       "      <th>0</th>\n",
       "      <td>Climate action needs new frontline leadership</td>\n",
       "      <td>Ozawa Bineshi Albert</td>\n",
       "      <td>December 2021</td>\n",
       "      <td>404000</td>\n",
       "      <td>12000</td>\n",
       "    </tr>\n",
       "    <tr>\n",
       "      <th>1</th>\n",
       "      <td>The dark history of the overthrow of Hawaii</td>\n",
       "      <td>Sydney Iaukea</td>\n",
       "      <td>February 2022</td>\n",
       "      <td>214000</td>\n",
       "      <td>6400</td>\n",
       "    </tr>\n",
       "    <tr>\n",
       "      <th>2</th>\n",
       "      <td>How play can spark new ideas for your business</td>\n",
       "      <td>Martin Reeves</td>\n",
       "      <td>September 2021</td>\n",
       "      <td>412000</td>\n",
       "      <td>12000</td>\n",
       "    </tr>\n",
       "    <tr>\n",
       "      <th>3</th>\n",
       "      <td>Why is China appointing judges to combat clima...</td>\n",
       "      <td>James K. Thornton</td>\n",
       "      <td>October 2021</td>\n",
       "      <td>427000</td>\n",
       "      <td>12000</td>\n",
       "    </tr>\n",
       "    <tr>\n",
       "      <th>4</th>\n",
       "      <td>Cement's carbon problem — and 2 ways to fix it</td>\n",
       "      <td>Mahendra Singhi</td>\n",
       "      <td>October 2021</td>\n",
       "      <td>2400</td>\n",
       "      <td>72</td>\n",
       "    </tr>\n",
       "    <tr>\n",
       "      <th>...</th>\n",
       "      <td>...</td>\n",
       "      <td>...</td>\n",
       "      <td>...</td>\n",
       "      <td>...</td>\n",
       "      <td>...</td>\n",
       "    </tr>\n",
       "    <tr>\n",
       "      <th>5435</th>\n",
       "      <td>The best stats you've ever seen</td>\n",
       "      <td>Hans Rosling</td>\n",
       "      <td>February 2006</td>\n",
       "      <td>15000000</td>\n",
       "      <td>458000</td>\n",
       "    </tr>\n",
       "    <tr>\n",
       "      <th>5436</th>\n",
       "      <td>Do schools kill creativity?</td>\n",
       "      <td>Sir Ken Robinson</td>\n",
       "      <td>February 2006</td>\n",
       "      <td>72000000</td>\n",
       "      <td>2100000</td>\n",
       "    </tr>\n",
       "    <tr>\n",
       "      <th>5437</th>\n",
       "      <td>Greening the ghetto</td>\n",
       "      <td>Majora Carter</td>\n",
       "      <td>February 2006</td>\n",
       "      <td>2900000</td>\n",
       "      <td>88000</td>\n",
       "    </tr>\n",
       "    <tr>\n",
       "      <th>5438</th>\n",
       "      <td>Simplicity sells</td>\n",
       "      <td>David Pogue</td>\n",
       "      <td>February 2006</td>\n",
       "      <td>2000000</td>\n",
       "      <td>60000</td>\n",
       "    </tr>\n",
       "    <tr>\n",
       "      <th>5439</th>\n",
       "      <td>Averting the climate crisis</td>\n",
       "      <td>Al Gore</td>\n",
       "      <td>February 2006</td>\n",
       "      <td>3600000</td>\n",
       "      <td>109000</td>\n",
       "    </tr>\n",
       "  </tbody>\n",
       "</table>\n",
       "<p>5440 rows × 5 columns</p>\n",
       "</div>"
      ],
      "text/plain": [
       "                                                  title                author  \\\n",
       "0         Climate action needs new frontline leadership  Ozawa Bineshi Albert   \n",
       "1           The dark history of the overthrow of Hawaii         Sydney Iaukea   \n",
       "2        How play can spark new ideas for your business         Martin Reeves   \n",
       "3     Why is China appointing judges to combat clima...     James K. Thornton   \n",
       "4        Cement's carbon problem — and 2 ways to fix it       Mahendra Singhi   \n",
       "...                                                 ...                   ...   \n",
       "5435                    The best stats you've ever seen          Hans Rosling   \n",
       "5436                        Do schools kill creativity?      Sir Ken Robinson   \n",
       "5437                                Greening the ghetto         Majora Carter   \n",
       "5438                                   Simplicity sells           David Pogue   \n",
       "5439                        Averting the climate crisis               Al Gore   \n",
       "\n",
       "                date     views    likes  \n",
       "0      December 2021    404000    12000  \n",
       "1      February 2022    214000     6400  \n",
       "2     September 2021    412000    12000  \n",
       "3       October 2021    427000    12000  \n",
       "4       October 2021      2400       72  \n",
       "...              ...       ...      ...  \n",
       "5435   February 2006  15000000   458000  \n",
       "5436   February 2006  72000000  2100000  \n",
       "5437   February 2006   2900000    88000  \n",
       "5438   February 2006   2000000    60000  \n",
       "5439   February 2006   3600000   109000  \n",
       "\n",
       "[5440 rows x 5 columns]"
      ]
     },
     "execution_count": 2,
     "metadata": {},
     "output_type": "execute_result"
    }
   ],
   "source": [
    "import pandas as pd\n",
    "import seaborn as sns\n",
    "import numpy as np\n",
    "import matplotlib.pyplot as plt\n",
    "import matplotlib as mpl\n",
    "\n",
    "df= pd.read_csv('TED_TALKS_data.csv').drop(columns =['link'])\n",
    "df"
   ]
  },
  {
   "cell_type": "markdown",
   "id": "c7cc234c",
   "metadata": {},
   "source": [
    "# Separando o ano da coluna 'date':"
   ]
  },
  {
   "cell_type": "code",
   "execution_count": 3,
   "id": "602ad9f1",
   "metadata": {
    "scrolled": true
   },
   "outputs": [
    {
     "data": {
      "text/html": [
       "<div>\n",
       "<style scoped>\n",
       "    .dataframe tbody tr th:only-of-type {\n",
       "        vertical-align: middle;\n",
       "    }\n",
       "\n",
       "    .dataframe tbody tr th {\n",
       "        vertical-align: top;\n",
       "    }\n",
       "\n",
       "    .dataframe thead th {\n",
       "        text-align: right;\n",
       "    }\n",
       "</style>\n",
       "<table border=\"1\" class=\"dataframe\">\n",
       "  <thead>\n",
       "    <tr style=\"text-align: right;\">\n",
       "      <th></th>\n",
       "      <th>title</th>\n",
       "      <th>author</th>\n",
       "      <th>date</th>\n",
       "      <th>views</th>\n",
       "      <th>likes</th>\n",
       "      <th>anos</th>\n",
       "    </tr>\n",
       "  </thead>\n",
       "  <tbody>\n",
       "    <tr>\n",
       "      <th>0</th>\n",
       "      <td>Climate action needs new frontline leadership</td>\n",
       "      <td>Ozawa Bineshi Albert</td>\n",
       "      <td>2021-12-01</td>\n",
       "      <td>404000</td>\n",
       "      <td>12000</td>\n",
       "      <td>2021</td>\n",
       "    </tr>\n",
       "    <tr>\n",
       "      <th>1</th>\n",
       "      <td>The dark history of the overthrow of Hawaii</td>\n",
       "      <td>Sydney Iaukea</td>\n",
       "      <td>2022-02-01</td>\n",
       "      <td>214000</td>\n",
       "      <td>6400</td>\n",
       "      <td>2022</td>\n",
       "    </tr>\n",
       "    <tr>\n",
       "      <th>2</th>\n",
       "      <td>How play can spark new ideas for your business</td>\n",
       "      <td>Martin Reeves</td>\n",
       "      <td>2021-09-01</td>\n",
       "      <td>412000</td>\n",
       "      <td>12000</td>\n",
       "      <td>2021</td>\n",
       "    </tr>\n",
       "    <tr>\n",
       "      <th>3</th>\n",
       "      <td>Why is China appointing judges to combat clima...</td>\n",
       "      <td>James K. Thornton</td>\n",
       "      <td>2021-10-01</td>\n",
       "      <td>427000</td>\n",
       "      <td>12000</td>\n",
       "      <td>2021</td>\n",
       "    </tr>\n",
       "    <tr>\n",
       "      <th>4</th>\n",
       "      <td>Cement's carbon problem — and 2 ways to fix it</td>\n",
       "      <td>Mahendra Singhi</td>\n",
       "      <td>2021-10-01</td>\n",
       "      <td>2400</td>\n",
       "      <td>72</td>\n",
       "      <td>2021</td>\n",
       "    </tr>\n",
       "    <tr>\n",
       "      <th>...</th>\n",
       "      <td>...</td>\n",
       "      <td>...</td>\n",
       "      <td>...</td>\n",
       "      <td>...</td>\n",
       "      <td>...</td>\n",
       "      <td>...</td>\n",
       "    </tr>\n",
       "    <tr>\n",
       "      <th>5435</th>\n",
       "      <td>The best stats you've ever seen</td>\n",
       "      <td>Hans Rosling</td>\n",
       "      <td>2006-02-01</td>\n",
       "      <td>15000000</td>\n",
       "      <td>458000</td>\n",
       "      <td>2006</td>\n",
       "    </tr>\n",
       "    <tr>\n",
       "      <th>5436</th>\n",
       "      <td>Do schools kill creativity?</td>\n",
       "      <td>Sir Ken Robinson</td>\n",
       "      <td>2006-02-01</td>\n",
       "      <td>72000000</td>\n",
       "      <td>2100000</td>\n",
       "      <td>2006</td>\n",
       "    </tr>\n",
       "    <tr>\n",
       "      <th>5437</th>\n",
       "      <td>Greening the ghetto</td>\n",
       "      <td>Majora Carter</td>\n",
       "      <td>2006-02-01</td>\n",
       "      <td>2900000</td>\n",
       "      <td>88000</td>\n",
       "      <td>2006</td>\n",
       "    </tr>\n",
       "    <tr>\n",
       "      <th>5438</th>\n",
       "      <td>Simplicity sells</td>\n",
       "      <td>David Pogue</td>\n",
       "      <td>2006-02-01</td>\n",
       "      <td>2000000</td>\n",
       "      <td>60000</td>\n",
       "      <td>2006</td>\n",
       "    </tr>\n",
       "    <tr>\n",
       "      <th>5439</th>\n",
       "      <td>Averting the climate crisis</td>\n",
       "      <td>Al Gore</td>\n",
       "      <td>2006-02-01</td>\n",
       "      <td>3600000</td>\n",
       "      <td>109000</td>\n",
       "      <td>2006</td>\n",
       "    </tr>\n",
       "  </tbody>\n",
       "</table>\n",
       "<p>5440 rows × 6 columns</p>\n",
       "</div>"
      ],
      "text/plain": [
       "                                                  title                author  \\\n",
       "0         Climate action needs new frontline leadership  Ozawa Bineshi Albert   \n",
       "1           The dark history of the overthrow of Hawaii         Sydney Iaukea   \n",
       "2        How play can spark new ideas for your business         Martin Reeves   \n",
       "3     Why is China appointing judges to combat clima...     James K. Thornton   \n",
       "4        Cement's carbon problem — and 2 ways to fix it       Mahendra Singhi   \n",
       "...                                                 ...                   ...   \n",
       "5435                    The best stats you've ever seen          Hans Rosling   \n",
       "5436                        Do schools kill creativity?      Sir Ken Robinson   \n",
       "5437                                Greening the ghetto         Majora Carter   \n",
       "5438                                   Simplicity sells           David Pogue   \n",
       "5439                        Averting the climate crisis               Al Gore   \n",
       "\n",
       "           date     views    likes  anos  \n",
       "0    2021-12-01    404000    12000  2021  \n",
       "1    2022-02-01    214000     6400  2022  \n",
       "2    2021-09-01    412000    12000  2021  \n",
       "3    2021-10-01    427000    12000  2021  \n",
       "4    2021-10-01      2400       72  2021  \n",
       "...         ...       ...      ...   ...  \n",
       "5435 2006-02-01  15000000   458000  2006  \n",
       "5436 2006-02-01  72000000  2100000  2006  \n",
       "5437 2006-02-01   2900000    88000  2006  \n",
       "5438 2006-02-01   2000000    60000  2006  \n",
       "5439 2006-02-01   3600000   109000  2006  \n",
       "\n",
       "[5440 rows x 6 columns]"
      ]
     },
     "execution_count": 3,
     "metadata": {},
     "output_type": "execute_result"
    }
   ],
   "source": [
    "df['date'] = pd.to_datetime(df['date'])\n",
    "df['anos']= df['date'].dt.year\n",
    "df"
   ]
  },
  {
   "cell_type": "code",
   "execution_count": 4,
   "id": "189cccee",
   "metadata": {},
   "outputs": [],
   "source": [
    "#Inicializando DataFrames auxiliares\n",
    "\n",
    "df2 = pd.DataFrame()  # Em relação aos anos\n",
    "df3 = pd.DataFrame()  # Em relação aos autores"
   ]
  },
  {
   "cell_type": "markdown",
   "id": "a62aea01",
   "metadata": {},
   "source": [
    "## Coletando dados dos vídeos"
   ]
  },
  {
   "cell_type": "markdown",
   "id": "ba18440a",
   "metadata": {},
   "source": [
    "### Agrupando todos os anos (sem repetições) do dataframe principal"
   ]
  },
  {
   "cell_type": "code",
   "execution_count": 5,
   "id": "78803f36",
   "metadata": {},
   "outputs": [],
   "source": [
    "anossemrep = []\n",
    "for c in df['anos']:\n",
    "    if c not in anossemrep:\n",
    "        anossemrep.append(c)\n",
    "anossemrep = pd.DataFrame(anossemrep, columns = ['Ano']).sort_values(by=\"Ano\", ascending=False).reset_index(drop=True)\n",
    "df2['Anos'] = anossemrep"
   ]
  },
  {
   "cell_type": "markdown",
   "id": "e42e8143",
   "metadata": {},
   "source": [
    "### Coletando a quantidade de vídeos postados por ano"
   ]
  },
  {
   "cell_type": "code",
   "execution_count": 6,
   "id": "00f05924",
   "metadata": {},
   "outputs": [],
   "source": [
    "contagemano= []\n",
    "for c in anossemrep['Ano']:\n",
    "    cont = 0\n",
    "    for i in df['anos']:\n",
    "        if c == i:\n",
    "            cont += 1\n",
    "    contagemano.append(cont)\n",
    "contagemano = pd.DataFrame(contagemano, columns=['Quantidade de Vídeos'])\n",
    "df2['Quantidade de Vídeos'] = contagemano"
   ]
  },
  {
   "cell_type": "markdown",
   "id": "c3de3539",
   "metadata": {},
   "source": [
    "### Coletando as vizualizações por ano"
   ]
  },
  {
   "cell_type": "code",
   "execution_count": 7,
   "id": "06be8740",
   "metadata": {},
   "outputs": [],
   "source": [
    "viewyear= []\n",
    "for c in anossemrep['Ano']:\n",
    "    total = 0\n",
    "    for n ,i in enumerate(df['anos']):\n",
    "        if c == i:\n",
    "            total += df['views'][n]\n",
    "    viewyear.append(total)\n",
    "viewyear = pd.DataFrame(viewyear, columns=['Visualização']).reset_index().drop(columns=['index'])\n",
    "df2['Visualização'] = viewyear"
   ]
  },
  {
   "cell_type": "markdown",
   "id": "de5364ed",
   "metadata": {},
   "source": [
    "### Coletando a quantidade de likes por ano"
   ]
  },
  {
   "cell_type": "code",
   "execution_count": 8,
   "id": "a9940a30",
   "metadata": {},
   "outputs": [],
   "source": [
    "likes = []\n",
    "for c in anossemrep['Ano']:\n",
    "    total = 0\n",
    "    for n ,i in enumerate(df['anos']):\n",
    "        if c == i:\n",
    "            total += df['likes'][n]\n",
    "    likes.append(total)\n",
    "likes = pd.DataFrame(likes, columns=['Likes']).reset_index().drop(columns=['index'])\n",
    "df2['Likes'] = likes"
   ]
  },
  {
   "cell_type": "markdown",
   "id": "3296ee44",
   "metadata": {},
   "source": [
    "### Calculando a média de visualizações por ano"
   ]
  },
  {
   "cell_type": "code",
   "execution_count": 9,
   "id": "208e6f35",
   "metadata": {},
   "outputs": [],
   "source": [
    "media_views = pd.DataFrame(viewyear['Visualização'] / contagemano['Quantidade de Vídeos'], columns=['Média de visualização']).round(2)\n",
    "df2['Média de visualização'] = media_views\n"
   ]
  },
  {
   "cell_type": "markdown",
   "id": "2c5ba4dd",
   "metadata": {},
   "source": [
    "### Calculando a média de likes por ano"
   ]
  },
  {
   "cell_type": "code",
   "execution_count": 10,
   "id": "45151413",
   "metadata": {},
   "outputs": [],
   "source": [
    "media_like = pd.DataFrame(df2['Likes'] / df2['Quantidade de Vídeos'], columns=['Média de likes']).round(2)\n",
    "df2['Média de Likes'] = media_like"
   ]
  },
  {
   "cell_type": "code",
   "execution_count": 11,
   "id": "5605b690",
   "metadata": {},
   "outputs": [
    {
     "data": {
      "text/html": [
       "<div>\n",
       "<style scoped>\n",
       "    .dataframe tbody tr th:only-of-type {\n",
       "        vertical-align: middle;\n",
       "    }\n",
       "\n",
       "    .dataframe tbody tr th {\n",
       "        vertical-align: top;\n",
       "    }\n",
       "\n",
       "    .dataframe thead th {\n",
       "        text-align: right;\n",
       "    }\n",
       "</style>\n",
       "<table border=\"1\" class=\"dataframe\">\n",
       "  <thead>\n",
       "    <tr style=\"text-align: right;\">\n",
       "      <th></th>\n",
       "      <th>Anos</th>\n",
       "      <th>Quantidade de Vídeos</th>\n",
       "      <th>Visualização</th>\n",
       "      <th>Likes</th>\n",
       "      <th>Média de visualização</th>\n",
       "      <th>Média de Likes</th>\n",
       "    </tr>\n",
       "  </thead>\n",
       "  <tbody>\n",
       "    <tr>\n",
       "      <th>0</th>\n",
       "      <td>2022</td>\n",
       "      <td>20</td>\n",
       "      <td>11470000</td>\n",
       "      <td>341254</td>\n",
       "      <td>573500.00</td>\n",
       "      <td>17062.70</td>\n",
       "    </tr>\n",
       "    <tr>\n",
       "      <th>1</th>\n",
       "      <td>2021</td>\n",
       "      <td>390</td>\n",
       "      <td>429728700</td>\n",
       "      <td>13058238</td>\n",
       "      <td>1101868.46</td>\n",
       "      <td>33482.66</td>\n",
       "    </tr>\n",
       "    <tr>\n",
       "      <th>2</th>\n",
       "      <td>2020</td>\n",
       "      <td>501</td>\n",
       "      <td>635944200</td>\n",
       "      <td>19297014</td>\n",
       "      <td>1269349.70</td>\n",
       "      <td>38516.99</td>\n",
       "    </tr>\n",
       "    <tr>\n",
       "      <th>3</th>\n",
       "      <td>2019</td>\n",
       "      <td>544</td>\n",
       "      <td>948119299</td>\n",
       "      <td>28764575</td>\n",
       "      <td>1742866.36</td>\n",
       "      <td>52876.06</td>\n",
       "    </tr>\n",
       "    <tr>\n",
       "      <th>4</th>\n",
       "      <td>2018</td>\n",
       "      <td>473</td>\n",
       "      <td>811857597</td>\n",
       "      <td>24671493</td>\n",
       "      <td>1716400.84</td>\n",
       "      <td>52159.60</td>\n",
       "    </tr>\n",
       "  </tbody>\n",
       "</table>\n",
       "</div>"
      ],
      "text/plain": [
       "   Anos  Quantidade de Vídeos  Visualização     Likes  Média de visualização  \\\n",
       "0  2022                    20      11470000    341254              573500.00   \n",
       "1  2021                   390     429728700  13058238             1101868.46   \n",
       "2  2020                   501     635944200  19297014             1269349.70   \n",
       "3  2019                   544     948119299  28764575             1742866.36   \n",
       "4  2018                   473     811857597  24671493             1716400.84   \n",
       "\n",
       "   Média de Likes  \n",
       "0        17062.70  \n",
       "1        33482.66  \n",
       "2        38516.99  \n",
       "3        52876.06  \n",
       "4        52159.60  "
      ]
     },
     "execution_count": 11,
     "metadata": {},
     "output_type": "execute_result"
    }
   ],
   "source": [
    "df2.head()"
   ]
  },
  {
   "cell_type": "markdown",
   "id": "3497b0e7",
   "metadata": {},
   "source": [
    "## Coletando dados dos autores"
   ]
  },
  {
   "cell_type": "markdown",
   "id": "04368282",
   "metadata": {},
   "source": [
    "### Agrupando todos os autores (sem repetição)"
   ]
  },
  {
   "cell_type": "code",
   "execution_count": 12,
   "id": "ac70f179",
   "metadata": {},
   "outputs": [],
   "source": [
    "autsemrep = []\n",
    "for a in df['author']:\n",
    "    if a not in autsemrep:\n",
    "        autsemrep.append(a)\n",
    "autsemrep = pd.DataFrame(autsemrep, columns = ['Autor'])\n",
    "df3['Autor'] = autsemrep"
   ]
  },
  {
   "cell_type": "markdown",
   "id": "d91f6f97",
   "metadata": {},
   "source": [
    "### Coletando a quantidade de vídeos postados por autor"
   ]
  },
  {
   "cell_type": "code",
   "execution_count": 13,
   "id": "08520c95",
   "metadata": {},
   "outputs": [],
   "source": [
    "contagemaut= []\n",
    "for c in autsemrep['Autor']:\n",
    "    cont = 0\n",
    "    for i in df['author']:\n",
    "        if c == i:\n",
    "            cont += 1\n",
    "    contagemaut.append(cont)\n",
    "contagemaut = pd.DataFrame(contagemaut, columns=['Quantidade de Vídeos'])\n",
    "df3['Quantidade de Vídeos'] = contagemaut"
   ]
  },
  {
   "cell_type": "markdown",
   "id": "352ea53e",
   "metadata": {},
   "source": [
    "### Coletando a quantidade de visualizações por autor"
   ]
  },
  {
   "cell_type": "code",
   "execution_count": 14,
   "id": "4ae610c3",
   "metadata": {},
   "outputs": [],
   "source": [
    "viewaut= []\n",
    "for c in autsemrep['Autor']:\n",
    "    total = 0\n",
    "    for n ,i in enumerate(df['author']):\n",
    "        if c == i:\n",
    "            total += df['views'][n]\n",
    "    viewaut.append(total)\n",
    "viewaut = pd.DataFrame(viewaut, columns=['Visualizações totais']).reset_index().drop(columns=['index'])\n",
    "df3['Visualizações totais'] = viewaut"
   ]
  },
  {
   "cell_type": "markdown",
   "id": "74122b37",
   "metadata": {},
   "source": [
    "### Coletando a quantidade de likes por autor"
   ]
  },
  {
   "cell_type": "code",
   "execution_count": 15,
   "id": "d8fcfff5",
   "metadata": {},
   "outputs": [],
   "source": [
    "likesaut = []\n",
    "for c in autsemrep['Autor']:\n",
    "    total = 0\n",
    "    for n ,i in enumerate(df['author']):\n",
    "        if c == i:\n",
    "            total += df['likes'][n]\n",
    "    likesaut.append(total)\n",
    "likesaut = pd.DataFrame(likesaut, columns=['Likes totais']).reset_index().drop(columns=['index'])\n",
    "df3['Likes totais'] = likesaut"
   ]
  },
  {
   "cell_type": "markdown",
   "id": "95439833",
   "metadata": {},
   "source": [
    "### Agrupando os 10 maiores autores em relação à quantidade de vídeos postados"
   ]
  },
  {
   "cell_type": "code",
   "execution_count": 16,
   "id": "2a4df5b3",
   "metadata": {},
   "outputs": [],
   "source": [
    "df3_vp = pd.DataFrame()\n",
    "df3_vp = df3.sort_values(by='Quantidade de Vídeos', ascending = False).reset_index().drop(columns=['index']).iloc[0:10]"
   ]
  },
  {
   "cell_type": "markdown",
   "id": "647dc02c",
   "metadata": {},
   "source": [
    "### Agrupando os 10 maiores autores em relação à quantidade de visualizações totais"
   ]
  },
  {
   "cell_type": "code",
   "execution_count": 17,
   "id": "146ef8ec",
   "metadata": {},
   "outputs": [],
   "source": [
    "df3_vt = pd.DataFrame()\n",
    "df3_vt = df3.sort_values(by='Visualizações totais', ascending = False).reset_index().drop(columns=['index']).iloc[0:10]"
   ]
  },
  {
   "cell_type": "markdown",
   "id": "fa75cffd",
   "metadata": {},
   "source": [
    "### Agrupando os 10 maiores autores em relação à quantidade de likes totais"
   ]
  },
  {
   "cell_type": "code",
   "execution_count": 18,
   "id": "54cd562f",
   "metadata": {},
   "outputs": [],
   "source": [
    "df3_lt = pd.DataFrame()\n",
    "df3_lt = df3.sort_values(by='Likes totais', ascending = False).reset_index().drop(columns=['index']).iloc[0:10]"
   ]
  },
  {
   "cell_type": "code",
   "execution_count": 19,
   "id": "50bfe2bb",
   "metadata": {},
   "outputs": [
    {
     "data": {
      "text/html": [
       "<div>\n",
       "<style scoped>\n",
       "    .dataframe tbody tr th:only-of-type {\n",
       "        vertical-align: middle;\n",
       "    }\n",
       "\n",
       "    .dataframe tbody tr th {\n",
       "        vertical-align: top;\n",
       "    }\n",
       "\n",
       "    .dataframe thead th {\n",
       "        text-align: right;\n",
       "    }\n",
       "</style>\n",
       "<table border=\"1\" class=\"dataframe\">\n",
       "  <thead>\n",
       "    <tr style=\"text-align: right;\">\n",
       "      <th></th>\n",
       "      <th>Autor</th>\n",
       "      <th>Quantidade de Vídeos</th>\n",
       "      <th>Visualizações totais</th>\n",
       "      <th>Likes totais</th>\n",
       "    </tr>\n",
       "  </thead>\n",
       "  <tbody>\n",
       "    <tr>\n",
       "      <th>2645</th>\n",
       "      <td>B.E.A.T. NYC</td>\n",
       "      <td>1</td>\n",
       "      <td>3200</td>\n",
       "      <td>98</td>\n",
       "    </tr>\n",
       "    <tr>\n",
       "      <th>633</th>\n",
       "      <td>Beautyrest</td>\n",
       "      <td>1</td>\n",
       "      <td>60000</td>\n",
       "      <td>1800</td>\n",
       "    </tr>\n",
       "    <tr>\n",
       "      <th>14</th>\n",
       "      <td>Belle and Sebastian</td>\n",
       "      <td>1</td>\n",
       "      <td>23000</td>\n",
       "      <td>690</td>\n",
       "    </tr>\n",
       "    <tr>\n",
       "      <th>800</th>\n",
       "      <td>Butterscotch</td>\n",
       "      <td>1</td>\n",
       "      <td>31000</td>\n",
       "      <td>933</td>\n",
       "    </tr>\n",
       "    <tr>\n",
       "      <th>1186</th>\n",
       "      <td>Climbing PoeTree</td>\n",
       "      <td>1</td>\n",
       "      <td>12000</td>\n",
       "      <td>367</td>\n",
       "    </tr>\n",
       "    <tr>\n",
       "      <th>...</th>\n",
       "      <td>...</td>\n",
       "      <td>...</td>\n",
       "      <td>...</td>\n",
       "      <td>...</td>\n",
       "    </tr>\n",
       "    <tr>\n",
       "      <th>3389</th>\n",
       "      <td>iO Tillett Wright</td>\n",
       "      <td>1</td>\n",
       "      <td>3100000</td>\n",
       "      <td>93000</td>\n",
       "    </tr>\n",
       "    <tr>\n",
       "      <th>172</th>\n",
       "      <td>monday.com</td>\n",
       "      <td>1</td>\n",
       "      <td>6000</td>\n",
       "      <td>181</td>\n",
       "    </tr>\n",
       "    <tr>\n",
       "      <th>1758</th>\n",
       "      <td>tobacco brown</td>\n",
       "      <td>1</td>\n",
       "      <td>1300000</td>\n",
       "      <td>40000</td>\n",
       "    </tr>\n",
       "    <tr>\n",
       "      <th>1532</th>\n",
       "      <td>Özlem Cekic</td>\n",
       "      <td>1</td>\n",
       "      <td>2000000</td>\n",
       "      <td>60000</td>\n",
       "    </tr>\n",
       "    <tr>\n",
       "      <th>2616</th>\n",
       "      <td>NaN</td>\n",
       "      <td>0</td>\n",
       "      <td>0</td>\n",
       "      <td>0</td>\n",
       "    </tr>\n",
       "  </tbody>\n",
       "</table>\n",
       "<p>4444 rows × 4 columns</p>\n",
       "</div>"
      ],
      "text/plain": [
       "                     Autor  Quantidade de Vídeos  Visualizações totais  \\\n",
       "2645          B.E.A.T. NYC                     1                  3200   \n",
       "633             Beautyrest                     1                 60000   \n",
       "14     Belle and Sebastian                     1                 23000   \n",
       "800           Butterscotch                     1                 31000   \n",
       "1186      Climbing PoeTree                     1                 12000   \n",
       "...                    ...                   ...                   ...   \n",
       "3389     iO Tillett Wright                     1               3100000   \n",
       "172             monday.com                     1                  6000   \n",
       "1758         tobacco brown                     1               1300000   \n",
       "1532           Özlem Cekic                     1               2000000   \n",
       "2616                   NaN                     0                     0   \n",
       "\n",
       "      Likes totais  \n",
       "2645            98  \n",
       "633           1800  \n",
       "14             690  \n",
       "800            933  \n",
       "1186           367  \n",
       "...            ...  \n",
       "3389         93000  \n",
       "172            181  \n",
       "1758         40000  \n",
       "1532         60000  \n",
       "2616             0  \n",
       "\n",
       "[4444 rows x 4 columns]"
      ]
     },
     "execution_count": 19,
     "metadata": {},
     "output_type": "execute_result"
    }
   ],
   "source": [
    "df3 = df3.sort_values(by='Autor', ascending = True)\n",
    "df3"
   ]
  },
  {
   "cell_type": "markdown",
   "id": "f6c51890",
   "metadata": {},
   "source": [
    "\n",
    "\n",
    "\n",
    "\n",
    "# Gráficos"
   ]
  },
  {
   "cell_type": "markdown",
   "id": "ea87b4a4",
   "metadata": {},
   "source": [
    "#### Padronização do tamanho dos gráficos (para alterar o tamanho de um gráfico específico, basta rodar a linha antes de plotar o gráfico)"
   ]
  },
  {
   "cell_type": "code",
   "execution_count": 20,
   "id": "410ef157",
   "metadata": {},
   "outputs": [],
   "source": [
    "plt.rcParams['figure.figsize']=(15,8)"
   ]
  },
  {
   "cell_type": "markdown",
   "id": "ea4438d2",
   "metadata": {},
   "source": [
    "### Plotando gráfico do ano x quantidade de vídeos"
   ]
  },
  {
   "cell_type": "code",
   "execution_count": 21,
   "id": "61870d6d",
   "metadata": {},
   "outputs": [
    {
     "data": {
      "text/plain": [
       "Text(0.5, 1.0, 'Quantidade de vídeos postados por ano')"
      ]
     },
     "execution_count": 21,
     "metadata": {},
     "output_type": "execute_result"
    },
    {
     "data": {
      "image/png": "[encoded data removed]",
      "text/plain": [
       "<Figure size 1080x576 with 1 Axes>"
      ]
     },
     "metadata": {
      "needs_background": "light"
     },
     "output_type": "display_data"
    }
   ],
   "source": [
    "graf_med_like = sns.barplot(data=df2, x=\"Anos\", y=\"Quantidade de Vídeos\", palette=\"Blues_d\")\n",
    "graf_med_like.set_title('Quantidade de vídeos postados por ano')"
   ]
  },
  {
   "cell_type": "markdown",
   "id": "77f19852",
   "metadata": {},
   "source": [
    "### Plotando gráfico do total de views x ano"
   ]
  },
  {
   "cell_type": "code",
   "execution_count": 22,
   "id": "5b27d640",
   "metadata": {},
   "outputs": [
    {
     "data": {
      "text/plain": [
       "Text(0.5, 1.0, 'Visualizações totais por ano')"
      ]
     },
     "execution_count": 22,
     "metadata": {},
     "output_type": "execute_result"
    },
    {
     "data": {
      "image/png": "[encoded data removed]",
      "text/plain": [
       "<Figure size 1080x576 with 1 Axes>"
      ]
     },
     "metadata": {
      "needs_background": "light"
     },
     "output_type": "display_data"
    }
   ],
   "source": [
    "#plt.rcParams['figure.figsize']=(15,8)\n",
    "graf_med_like = sns.barplot(data=df2, x=\"Anos\", y=\"Visualização\", palette=\"Blues_d\")\n",
    "graf_med_like.set_title('Visualizações totais por ano')"
   ]
  },
  {
   "cell_type": "markdown",
   "id": "defba21a",
   "metadata": {},
   "source": [
    "### Plotando gráfico da média de visualizações x ano"
   ]
  },
  {
   "cell_type": "code",
   "execution_count": 23,
   "id": "2b635afd",
   "metadata": {},
   "outputs": [
    {
     "data": {
      "text/plain": [
       "Text(0.5, 1.0, 'Média de visualizações por ano')"
      ]
     },
     "execution_count": 23,
     "metadata": {},
     "output_type": "execute_result"
    },
    {
     "data": {
      "image/png": "[encoded data removed]",
      "text/plain": [
       "<Figure size 1080x576 with 1 Axes>"
      ]
     },
     "metadata": {
      "needs_background": "light"
     },
     "output_type": "display_data"
    }
   ],
   "source": [
    "#plt.rcParams['figure.figsize']=(15,8)\n",
    "graf_med_like = sns.barplot(data=df2, x=\"Anos\", y=\"Média de visualização\", palette=\"Blues_d\")\n",
    "graf_med_like.set_title('Média de visualizações por ano')"
   ]
  },
  {
   "cell_type": "markdown",
   "id": "dd4d1c3a",
   "metadata": {},
   "source": [
    "### Plotando gráfico do total de likes x ano"
   ]
  },
  {
   "cell_type": "code",
   "execution_count": 24,
   "id": "4062e93d",
   "metadata": {},
   "outputs": [
    {
     "data": {
      "text/plain": [
       "Text(0.5, 1.0, 'Total de likes por ano')"
      ]
     },
     "execution_count": 24,
     "metadata": {},
     "output_type": "execute_result"
    },
    {
     "data": {
      "image/png": "[encoded data removed]",
      "text/plain": [
       "<Figure size 1080x576 with 1 Axes>"
      ]
     },
     "metadata": {
      "needs_background": "light"
     },
     "output_type": "display_data"
    }
   ],
   "source": [
    "#plt.rcParams['figure.figsize']=(15,8)\n",
    "graf_tot_like = sns.barplot(data=df2, x=\"Anos\", y=\"Likes\", palette=\"Blues_d\")\n",
    "graf_tot_like.set_title('Total de likes por ano')"
   ]
  },
  {
   "cell_type": "markdown",
   "id": "12a91734",
   "metadata": {},
   "source": [
    "### Plotando gráfico da média de likes por vídeo x ano:\n"
   ]
  },
  {
   "cell_type": "code",
   "execution_count": 25,
   "id": "c099a52c",
   "metadata": {},
   "outputs": [
    {
     "data": {
      "text/plain": [
       "Text(0.5, 1.0, 'Média de likes por ano')"
      ]
     },
     "execution_count": 25,
     "metadata": {},
     "output_type": "execute_result"
    },
    {
     "data": {
      "image/png": "[encoded data removed]",
      "text/plain": [
       "<Figure size 1080x576 with 1 Axes>"
      ]
     },
     "metadata": {
      "needs_background": "light"
     },
     "output_type": "display_data"
    }
   ],
   "source": [
    "#plt.rcParams['figure.figsize']=(15,8)\n",
    "graf_med_like = sns.barplot(data=df2, x=\"Anos\", y=\"Média de Likes\", palette=\"Blues_d\")\n",
    "graf_med_like.set_title('Média de likes por ano')"
   ]
  },
  {
   "cell_type": "markdown",
   "id": "e06e9334",
   "metadata": {},
   "source": [
    "### Plotando gráfico da Quantidade de vídeos x Autor (10 autores que mais postaram)"
   ]
  },
  {
   "cell_type": "code",
   "execution_count": 26,
   "id": "3fa36f09",
   "metadata": {},
   "outputs": [
    {
     "data": {
      "text/plain": [
       "<AxesSubplot:xlabel='Quantidade de Vídeos', ylabel='Autor'>"
      ]
     },
     "execution_count": 26,
     "metadata": {},
     "output_type": "execute_result"
    },
    {
     "data": {
      "image/png": "[encoded data removed]",
      "text/plain": [
       "<Figure size 1080x576 with 1 Axes>"
      ]
     },
     "metadata": {
      "needs_background": "light"
     },
     "output_type": "display_data"
    }
   ],
   "source": [
    "sns.barplot(data=df3_vp, x=\"Quantidade de Vídeos\", y=\"Autor\")"
   ]
  },
  {
   "cell_type": "markdown",
   "id": "c136f21a",
   "metadata": {},
   "source": [
    "### Plotando gráfico da Quantidade de visualizações x Autor (10 autores mais vistos)"
   ]
  },
  {
   "cell_type": "code",
   "execution_count": 27,
   "id": "9a7ddf4c",
   "metadata": {},
   "outputs": [
    {
     "data": {
      "text/plain": [
       "<AxesSubplot:xlabel='Visualizações totais', ylabel='Autor'>"
      ]
     },
     "execution_count": 27,
     "metadata": {},
     "output_type": "execute_result"
    },
    {
     "data": {
      "image/png": "[encoded data removed]",
      "text/plain": [
       "<Figure size 1080x576 with 1 Axes>"
      ]
     },
     "metadata": {
      "needs_background": "light"
     },
     "output_type": "display_data"
    }
   ],
   "source": [
    "sns.barplot(data=df3_vt, x=\"Visualizações totais\", y=\"Autor\")"
   ]
  },
  {
   "cell_type": "markdown",
   "id": "b747ee7d",
   "metadata": {},
   "source": [
    "### Plotando gráfico da Quantidade de likes x Autor (10 autores com mais likes)"
   ]
  },
  {
   "cell_type": "code",
   "execution_count": 28,
   "id": "795e8c1f",
   "metadata": {},
   "outputs": [
    {
     "data": {
      "text/plain": [
       "<AxesSubplot:xlabel='Likes totais', ylabel='Autor'>"
      ]
     },
     "execution_count": 28,
     "metadata": {},
     "output_type": "execute_result"
    },
    {
     "data": {
      "image/png": "[encoded data removed]",
      "text/plain": [
       "<Figure size 1080x576 with 1 Axes>"
      ]
     },
     "metadata": {
      "needs_background": "light"
     },
     "output_type": "display_data"
    }
   ],
   "source": [
    "sns.barplot(data=df3_lt, x=\"Likes totais\", y=\"Autor\")"
   ]
  },
  {
   "cell_type": "markdown",
   "id": "ff1465a7",
   "metadata": {},
   "source": [
    "# Medidas de tendências:"
   ]
  },
  {
   "cell_type": "code",
   "execution_count": 29,
   "id": "dff270ac",
   "metadata": {},
   "outputs": [
    {
     "data": {
      "text/plain": [
       "<AxesSubplot:>"
      ]
     },
     "execution_count": 29,
     "metadata": {},
     "output_type": "execute_result"
    },
    {
     "data": {
      "image/png": "[encoded data removed]",
      "text/plain": [
       "<Figure size 1080x576 with 1 Axes>"
      ]
     },
     "metadata": {
      "needs_background": "light"
     },
     "output_type": "display_data"
    }
   ],
   "source": [
    "df2.boxplot(column=['Visualização'])"
   ]
  },
  {
   "cell_type": "code",
   "execution_count": 30,
   "id": "7307e685",
   "metadata": {},
   "outputs": [
    {
     "data": {
      "text/plain": [
       "401420035.7024643"
      ]
     },
     "execution_count": 30,
     "metadata": {},
     "output_type": "execute_result"
    }
   ],
   "source": [
    "df2['Visualização'].std()"
   ]
  },
  {
   "cell_type": "code",
   "execution_count": 31,
   "id": "495957ba",
   "metadata": {},
   "outputs": [
    {
     "data": {
      "text/plain": [
       "12207323.752143247"
      ]
     },
     "execution_count": 31,
     "metadata": {},
     "output_type": "execute_result"
    }
   ],
   "source": [
    "df2['Likes'].std()"
   ]
  },
  {
   "cell_type": "code",
   "execution_count": 32,
   "id": "ea1ee60f",
   "metadata": {},
   "outputs": [
    {
     "data": {
      "text/plain": [
       "<AxesSubplot:>"
      ]
     },
     "execution_count": 32,
     "metadata": {},
     "output_type": "execute_result"
    },
    {
     "data": {
      "image/png": "[encoded data removed]",
      "text/plain": [
       "<Figure size 1080x576 with 1 Axes>"
      ]
     },
     "metadata": {
      "needs_background": "light"
     },
     "output_type": "display_data"
    }
   ],
   "source": [
    "df2.boxplot(column='Likes')"
   ]
  },
  {
   "cell_type": "markdown",
   "id": "9fe39f01",
   "metadata": {},
   "source": [
    "# Correlação entre vizualizações e likes por ano:"
   ]
  },
  {
   "cell_type": "code",
   "execution_count": 33,
   "id": "bf69d178",
   "metadata": {},
   "outputs": [
    {
     "data": {
      "text/plain": [
       "<AxesSubplot:xlabel='Visualização', ylabel='Likes'>"
      ]
     },
     "execution_count": 33,
     "metadata": {},
     "output_type": "execute_result"
    },
    {
     "data": {
      "image/png": "[encoded data removed]",
      "text/plain": [
       "<Figure size 1080x576 with 1 Axes>"
      ]
     },
     "metadata": {
      "needs_background": "light"
     },
     "output_type": "display_data"
    }
   ],
   "source": [
    "sns.scatterplot(data=df2, x=\"Visualização\", y=\"Likes\")"
   ]
  },
  {
   "cell_type": "code",
   "execution_count": 34,
   "id": "0d5b2556",
   "metadata": {},
   "outputs": [
    {
     "data": {
      "text/html": [
       "<div>\n",
       "<style scoped>\n",
       "    .dataframe tbody tr th:only-of-type {\n",
       "        vertical-align: middle;\n",
       "    }\n",
       "\n",
       "    .dataframe tbody tr th {\n",
       "        vertical-align: top;\n",
       "    }\n",
       "\n",
       "    .dataframe thead th {\n",
       "        text-align: right;\n",
       "    }\n",
       "</style>\n",
       "<table border=\"1\" class=\"dataframe\">\n",
       "  <thead>\n",
       "    <tr style=\"text-align: right;\">\n",
       "      <th></th>\n",
       "      <th>Likes</th>\n",
       "      <th>Visualização</th>\n",
       "    </tr>\n",
       "  </thead>\n",
       "  <tbody>\n",
       "    <tr>\n",
       "      <th>Likes</th>\n",
       "      <td>1.000000</td>\n",
       "      <td>0.999991</td>\n",
       "    </tr>\n",
       "    <tr>\n",
       "      <th>Visualização</th>\n",
       "      <td>0.999991</td>\n",
       "      <td>1.000000</td>\n",
       "    </tr>\n",
       "  </tbody>\n",
       "</table>\n",
       "</div>"
      ],
      "text/plain": [
       "                 Likes  Visualização\n",
       "Likes         1.000000      0.999991\n",
       "Visualização  0.999991      1.000000"
      ]
     },
     "execution_count": 34,
     "metadata": {},
     "output_type": "execute_result"
    }
   ],
   "source": [
    "df2[['Likes', 'Visualização']].corr()"
   ]
  },
  {
   "cell_type": "markdown",
   "id": "7004c305",
   "metadata": {},
   "source": [
    "# Correlação entre vizualizações e quantidade de vídeos por ano\n"
   ]
  },
  {
   "cell_type": "code",
   "execution_count": 35,
   "id": "80d155e8",
   "metadata": {},
   "outputs": [
    {
     "data": {
      "text/plain": [
       "<AxesSubplot:xlabel='Visualização', ylabel='Quantidade de Vídeos'>"
      ]
     },
     "execution_count": 35,
     "metadata": {},
     "output_type": "execute_result"
    },
    {
     "data": {
      "image/png": "[encoded data removed]",
      "text/plain": [
       "<Figure size 1080x576 with 1 Axes>"
      ]
     },
     "metadata": {
      "needs_background": "light"
     },
     "output_type": "display_data"
    }
   ],
   "source": [
    "df2.plot.scatter(x = 'Visualização', y=  'Quantidade de Vídeos')"
   ]
  },
  {
   "cell_type": "code",
   "execution_count": 36,
   "id": "c1b49372",
   "metadata": {},
   "outputs": [
    {
     "data": {
      "text/html": [
       "<div>\n",
       "<style scoped>\n",
       "    .dataframe tbody tr th:only-of-type {\n",
       "        vertical-align: middle;\n",
       "    }\n",
       "\n",
       "    .dataframe tbody tr th {\n",
       "        vertical-align: top;\n",
       "    }\n",
       "\n",
       "    .dataframe thead th {\n",
       "        text-align: right;\n",
       "    }\n",
       "</style>\n",
       "<table border=\"1\" class=\"dataframe\">\n",
       "  <thead>\n",
       "    <tr style=\"text-align: right;\">\n",
       "      <th></th>\n",
       "      <th>Quantidade de Vídeos</th>\n",
       "      <th>Visualização</th>\n",
       "    </tr>\n",
       "  </thead>\n",
       "  <tbody>\n",
       "    <tr>\n",
       "      <th>Quantidade de Vídeos</th>\n",
       "      <td>1.000000</td>\n",
       "      <td>0.930978</td>\n",
       "    </tr>\n",
       "    <tr>\n",
       "      <th>Visualização</th>\n",
       "      <td>0.930978</td>\n",
       "      <td>1.000000</td>\n",
       "    </tr>\n",
       "  </tbody>\n",
       "</table>\n",
       "</div>"
      ],
      "text/plain": [
       "                      Quantidade de Vídeos  Visualização\n",
       "Quantidade de Vídeos              1.000000      0.930978\n",
       "Visualização                      0.930978      1.000000"
      ]
     },
     "execution_count": 36,
     "metadata": {},
     "output_type": "execute_result"
    }
   ],
   "source": [
    "df2[['Quantidade de Vídeos', 'Visualização']].corr()"
   ]
  },
  {
   "cell_type": "markdown",
   "id": "9b1d0dc7",
   "metadata": {},
   "source": [
    "# Correlação entre vídeos por ano e quantidade de likes"
   ]
  },
  {
   "cell_type": "code",
   "execution_count": 37,
   "id": "4e1d55fb",
   "metadata": {},
   "outputs": [
    {
     "data": {
      "text/plain": [
       "<AxesSubplot:xlabel='Quantidade de Vídeos', ylabel='Likes'>"
      ]
     },
     "execution_count": 37,
     "metadata": {},
     "output_type": "execute_result"
    },
    {
     "data": {
      "image/png": "[encoded data removed]",
      "text/plain": [
       "<Figure size 1080x576 with 1 Axes>"
      ]
     },
     "metadata": {
      "needs_background": "light"
     },
     "output_type": "display_data"
    }
   ],
   "source": [
    "df2.plot.scatter(x = 'Quantidade de Vídeos', y= 'Likes')"
   ]
  },
  {
   "cell_type": "code",
   "execution_count": 38,
   "id": "68ffdc91",
   "metadata": {},
   "outputs": [
    {
     "data": {
      "text/html": [
       "<div>\n",
       "<style scoped>\n",
       "    .dataframe tbody tr th:only-of-type {\n",
       "        vertical-align: middle;\n",
       "    }\n",
       "\n",
       "    .dataframe tbody tr th {\n",
       "        vertical-align: top;\n",
       "    }\n",
       "\n",
       "    .dataframe thead th {\n",
       "        text-align: right;\n",
       "    }\n",
       "</style>\n",
       "<table border=\"1\" class=\"dataframe\">\n",
       "  <thead>\n",
       "    <tr style=\"text-align: right;\">\n",
       "      <th></th>\n",
       "      <th>Likes</th>\n",
       "      <th>Quantidade de Vídeos</th>\n",
       "    </tr>\n",
       "  </thead>\n",
       "  <tbody>\n",
       "    <tr>\n",
       "      <th>Likes</th>\n",
       "      <td>1.000000</td>\n",
       "      <td>0.930925</td>\n",
       "    </tr>\n",
       "    <tr>\n",
       "      <th>Quantidade de Vídeos</th>\n",
       "      <td>0.930925</td>\n",
       "      <td>1.000000</td>\n",
       "    </tr>\n",
       "  </tbody>\n",
       "</table>\n",
       "</div>"
      ],
      "text/plain": [
       "                         Likes  Quantidade de Vídeos\n",
       "Likes                 1.000000              0.930925\n",
       "Quantidade de Vídeos  0.930925              1.000000"
      ]
     },
     "execution_count": 38,
     "metadata": {},
     "output_type": "execute_result"
    }
   ],
   "source": [
    "df2[['Likes', 'Quantidade de Vídeos']].corr()"
   ]
  },
  {
   "cell_type": "markdown",
   "id": "24d43a5a",
   "metadata": {},
   "source": [
    "# AGRUPAMENTO\n"
   ]
  },
  {
   "cell_type": "code",
   "execution_count": 39,
   "id": "22709086",
   "metadata": {},
   "outputs": [
    {
     "data": {
      "text/html": [
       "<div>\n",
       "<style scoped>\n",
       "    .dataframe tbody tr th:only-of-type {\n",
       "        vertical-align: middle;\n",
       "    }\n",
       "\n",
       "    .dataframe tbody tr th {\n",
       "        vertical-align: top;\n",
       "    }\n",
       "\n",
       "    .dataframe thead th {\n",
       "        text-align: right;\n",
       "    }\n",
       "</style>\n",
       "<table border=\"1\" class=\"dataframe\">\n",
       "  <thead>\n",
       "    <tr style=\"text-align: right;\">\n",
       "      <th></th>\n",
       "      <th>Autor</th>\n",
       "      <th>Quantidade de Vídeos</th>\n",
       "      <th>Visualizações totais</th>\n",
       "      <th>Likes totais</th>\n",
       "    </tr>\n",
       "  </thead>\n",
       "  <tbody>\n",
       "    <tr>\n",
       "      <th>2645</th>\n",
       "      <td>B.E.A.T. NYC</td>\n",
       "      <td>1</td>\n",
       "      <td>3200</td>\n",
       "      <td>98</td>\n",
       "    </tr>\n",
       "    <tr>\n",
       "      <th>633</th>\n",
       "      <td>Beautyrest</td>\n",
       "      <td>1</td>\n",
       "      <td>60000</td>\n",
       "      <td>1800</td>\n",
       "    </tr>\n",
       "    <tr>\n",
       "      <th>14</th>\n",
       "      <td>Belle and Sebastian</td>\n",
       "      <td>1</td>\n",
       "      <td>23000</td>\n",
       "      <td>690</td>\n",
       "    </tr>\n",
       "    <tr>\n",
       "      <th>800</th>\n",
       "      <td>Butterscotch</td>\n",
       "      <td>1</td>\n",
       "      <td>31000</td>\n",
       "      <td>933</td>\n",
       "    </tr>\n",
       "    <tr>\n",
       "      <th>1186</th>\n",
       "      <td>Climbing PoeTree</td>\n",
       "      <td>1</td>\n",
       "      <td>12000</td>\n",
       "      <td>367</td>\n",
       "    </tr>\n",
       "    <tr>\n",
       "      <th>...</th>\n",
       "      <td>...</td>\n",
       "      <td>...</td>\n",
       "      <td>...</td>\n",
       "      <td>...</td>\n",
       "    </tr>\n",
       "    <tr>\n",
       "      <th>3389</th>\n",
       "      <td>iO Tillett Wright</td>\n",
       "      <td>1</td>\n",
       "      <td>3100000</td>\n",
       "      <td>93000</td>\n",
       "    </tr>\n",
       "    <tr>\n",
       "      <th>172</th>\n",
       "      <td>monday.com</td>\n",
       "      <td>1</td>\n",
       "      <td>6000</td>\n",
       "      <td>181</td>\n",
       "    </tr>\n",
       "    <tr>\n",
       "      <th>1758</th>\n",
       "      <td>tobacco brown</td>\n",
       "      <td>1</td>\n",
       "      <td>1300000</td>\n",
       "      <td>40000</td>\n",
       "    </tr>\n",
       "    <tr>\n",
       "      <th>1532</th>\n",
       "      <td>Özlem Cekic</td>\n",
       "      <td>1</td>\n",
       "      <td>2000000</td>\n",
       "      <td>60000</td>\n",
       "    </tr>\n",
       "    <tr>\n",
       "      <th>2616</th>\n",
       "      <td>NaN</td>\n",
       "      <td>0</td>\n",
       "      <td>0</td>\n",
       "      <td>0</td>\n",
       "    </tr>\n",
       "  </tbody>\n",
       "</table>\n",
       "<p>4444 rows × 4 columns</p>\n",
       "</div>"
      ],
      "text/plain": [
       "                     Autor  Quantidade de Vídeos  Visualizações totais  \\\n",
       "2645          B.E.A.T. NYC                     1                  3200   \n",
       "633             Beautyrest                     1                 60000   \n",
       "14     Belle and Sebastian                     1                 23000   \n",
       "800           Butterscotch                     1                 31000   \n",
       "1186      Climbing PoeTree                     1                 12000   \n",
       "...                    ...                   ...                   ...   \n",
       "3389     iO Tillett Wright                     1               3100000   \n",
       "172             monday.com                     1                  6000   \n",
       "1758         tobacco brown                     1               1300000   \n",
       "1532           Özlem Cekic                     1               2000000   \n",
       "2616                   NaN                     0                     0   \n",
       "\n",
       "      Likes totais  \n",
       "2645            98  \n",
       "633           1800  \n",
       "14             690  \n",
       "800            933  \n",
       "1186           367  \n",
       "...            ...  \n",
       "3389         93000  \n",
       "172            181  \n",
       "1758         40000  \n",
       "1532         60000  \n",
       "2616             0  \n",
       "\n",
       "[4444 rows x 4 columns]"
      ]
     },
     "execution_count": 39,
     "metadata": {},
     "output_type": "execute_result"
    }
   ],
   "source": [
    "from sklearn.cluster import KMeans\n",
    "df3"
   ]
  },
  {
   "cell_type": "code",
   "execution_count": 40,
   "id": "ea458fc3",
   "metadata": {},
   "outputs": [
    {
     "data": {
      "text/plain": [
       "<AxesSubplot:xlabel='Quantidade de Vídeos', ylabel='Visualizações totais'>"
      ]
     },
     "execution_count": 40,
     "metadata": {},
     "output_type": "execute_result"
    },
    {
     "data": {
      "image/png": "[encoded data removed]",
      "text/plain": [
       "<Figure size 1080x576 with 1 Axes>"
      ]
     },
     "metadata": {
      "needs_background": "light"
     },
     "output_type": "display_data"
    }
   ],
   "source": [
    "sns.scatterplot(data = df3, x = 'Quantidade de Vídeos', y = 'Visualizações totais')"
   ]
  },
  {
   "cell_type": "code",
   "execution_count": 41,
   "id": "9424dc90",
   "metadata": {},
   "outputs": [
    {
     "data": {
      "text/html": [
       "<div>\n",
       "<style scoped>\n",
       "    .dataframe tbody tr th:only-of-type {\n",
       "        vertical-align: middle;\n",
       "    }\n",
       "\n",
       "    .dataframe tbody tr th {\n",
       "        vertical-align: top;\n",
       "    }\n",
       "\n",
       "    .dataframe thead th {\n",
       "        text-align: right;\n",
       "    }\n",
       "</style>\n",
       "<table border=\"1\" class=\"dataframe\">\n",
       "  <thead>\n",
       "    <tr style=\"text-align: right;\">\n",
       "      <th></th>\n",
       "      <th>Quantidade de Vídeos</th>\n",
       "      <th>Visualizações totais</th>\n",
       "    </tr>\n",
       "  </thead>\n",
       "  <tbody>\n",
       "    <tr>\n",
       "      <th>2645</th>\n",
       "      <td>1</td>\n",
       "      <td>3200</td>\n",
       "    </tr>\n",
       "    <tr>\n",
       "      <th>633</th>\n",
       "      <td>1</td>\n",
       "      <td>60000</td>\n",
       "    </tr>\n",
       "    <tr>\n",
       "      <th>14</th>\n",
       "      <td>1</td>\n",
       "      <td>23000</td>\n",
       "    </tr>\n",
       "    <tr>\n",
       "      <th>800</th>\n",
       "      <td>1</td>\n",
       "      <td>31000</td>\n",
       "    </tr>\n",
       "    <tr>\n",
       "      <th>1186</th>\n",
       "      <td>1</td>\n",
       "      <td>12000</td>\n",
       "    </tr>\n",
       "    <tr>\n",
       "      <th>...</th>\n",
       "      <td>...</td>\n",
       "      <td>...</td>\n",
       "    </tr>\n",
       "    <tr>\n",
       "      <th>3389</th>\n",
       "      <td>1</td>\n",
       "      <td>3100000</td>\n",
       "    </tr>\n",
       "    <tr>\n",
       "      <th>172</th>\n",
       "      <td>1</td>\n",
       "      <td>6000</td>\n",
       "    </tr>\n",
       "    <tr>\n",
       "      <th>1758</th>\n",
       "      <td>1</td>\n",
       "      <td>1300000</td>\n",
       "    </tr>\n",
       "    <tr>\n",
       "      <th>1532</th>\n",
       "      <td>1</td>\n",
       "      <td>2000000</td>\n",
       "    </tr>\n",
       "    <tr>\n",
       "      <th>2616</th>\n",
       "      <td>0</td>\n",
       "      <td>0</td>\n",
       "    </tr>\n",
       "  </tbody>\n",
       "</table>\n",
       "<p>4444 rows × 2 columns</p>\n",
       "</div>"
      ],
      "text/plain": [
       "      Quantidade de Vídeos  Visualizações totais\n",
       "2645                     1                  3200\n",
       "633                      1                 60000\n",
       "14                       1                 23000\n",
       "800                      1                 31000\n",
       "1186                     1                 12000\n",
       "...                    ...                   ...\n",
       "3389                     1               3100000\n",
       "172                      1                  6000\n",
       "1758                     1               1300000\n",
       "1532                     1               2000000\n",
       "2616                     0                     0\n",
       "\n",
       "[4444 rows x 2 columns]"
      ]
     },
     "execution_count": 41,
     "metadata": {},
     "output_type": "execute_result"
    }
   ],
   "source": [
    "data_teste = df3[['Quantidade de Vídeos', 'Visualizações totais']]\n",
    "data_teste"
   ]
  },
  {
   "cell_type": "code",
   "execution_count": 42,
   "id": "b75ea87e",
   "metadata": {},
   "outputs": [],
   "source": [
    "# 271417.04405737703\n",
    "#  58665.75481185481"
   ]
  },
  {
   "cell_type": "code",
   "execution_count": 43,
   "id": "7ec37d6d",
   "metadata": {},
   "outputs": [],
   "source": [
    "kmeans = KMeans(n_clusters=5)"
   ]
  },
  {
   "cell_type": "code",
   "execution_count": 44,
   "id": "a5c3cd04",
   "metadata": {},
   "outputs": [
    {
     "data": {
      "text/plain": [
       "KMeans(n_clusters=5)"
      ]
     },
     "execution_count": 44,
     "metadata": {},
     "output_type": "execute_result"
    }
   ],
   "source": [
    "kmeans.fit(data_teste)"
   ]
  },
  {
   "cell_type": "code",
   "execution_count": 45,
   "id": "a1dfcc3b",
   "metadata": {},
   "outputs": [
    {
     "data": {
      "text/plain": [
       "array([0, 0, 0, ..., 0, 0, 0])"
      ]
     },
     "execution_count": 45,
     "metadata": {},
     "output_type": "execute_result"
    }
   ],
   "source": [
    "kmeans.labels_"
   ]
  },
  {
   "cell_type": "code",
   "execution_count": 46,
   "id": "4557c7f7",
   "metadata": {},
   "outputs": [
    {
     "data": {
      "text/plain": [
       "<AxesSubplot:xlabel='Quantidade de Vídeos', ylabel='Visualizações totais'>"
      ]
     },
     "execution_count": 46,
     "metadata": {},
     "output_type": "execute_result"
    },
    {
     "data": {
      "image/png": "[encoded data removed]",
      "text/plain": [
       "<Figure size 1080x576 with 1 Axes>"
      ]
     },
     "metadata": {
      "needs_background": "light"
     },
     "output_type": "display_data"
    }
   ],
   "source": [
    "sns.scatterplot(data=data_teste, x=\"Quantidade de Vídeos\", y=\"Visualizações totais\", hue=kmeans.labels_, palette = \"tab10\")"
   ]
  },
  {
   "cell_type": "code",
   "execution_count": 47,
   "id": "8cb11554",
   "metadata": {},
   "outputs": [
    {
     "data": {
      "text/plain": [
       "1.19932842803965e+16"
      ]
     },
     "execution_count": 47,
     "metadata": {},
     "output_type": "execute_result"
    }
   ],
   "source": [
    "kmeans.inertia_"
   ]
  },
  {
   "cell_type": "code",
   "execution_count": 48,
   "id": "833bb114",
   "metadata": {},
   "outputs": [
    {
     "data": {
      "text/html": [
       "<div>\n",
       "<style scoped>\n",
       "    .dataframe tbody tr th:only-of-type {\n",
       "        vertical-align: middle;\n",
       "    }\n",
       "\n",
       "    .dataframe tbody tr th {\n",
       "        vertical-align: top;\n",
       "    }\n",
       "\n",
       "    .dataframe thead th {\n",
       "        text-align: right;\n",
       "    }\n",
       "</style>\n",
       "<table border=\"1\" class=\"dataframe\">\n",
       "  <thead>\n",
       "    <tr style=\"text-align: right;\">\n",
       "      <th></th>\n",
       "      <th>Autor</th>\n",
       "      <th>Quantidade de Vídeos</th>\n",
       "      <th>Visualizações totais</th>\n",
       "      <th>Likes totais</th>\n",
       "    </tr>\n",
       "  </thead>\n",
       "  <tbody>\n",
       "    <tr>\n",
       "      <th>340</th>\n",
       "      <td>TED-Ed</td>\n",
       "      <td>7</td>\n",
       "      <td>7065000</td>\n",
       "      <td>212000</td>\n",
       "    </tr>\n",
       "    <tr>\n",
       "      <th>441</th>\n",
       "      <td>A.J. Jacobs</td>\n",
       "      <td>6</td>\n",
       "      <td>11136000</td>\n",
       "      <td>338000</td>\n",
       "    </tr>\n",
       "    <tr>\n",
       "      <th>1582</th>\n",
       "      <td>Adam Carroll</td>\n",
       "      <td>1</td>\n",
       "      <td>5800000</td>\n",
       "      <td>174000</td>\n",
       "    </tr>\n",
       "    <tr>\n",
       "      <th>2488</th>\n",
       "      <td>Adam Driver</td>\n",
       "      <td>1</td>\n",
       "      <td>12000000</td>\n",
       "      <td>362000</td>\n",
       "    </tr>\n",
       "    <tr>\n",
       "      <th>2356</th>\n",
       "      <td>Adam Galinsky</td>\n",
       "      <td>1</td>\n",
       "      <td>7100000</td>\n",
       "      <td>214000</td>\n",
       "    </tr>\n",
       "    <tr>\n",
       "      <th>...</th>\n",
       "      <td>...</td>\n",
       "      <td>...</td>\n",
       "      <td>...</td>\n",
       "      <td>...</td>\n",
       "    </tr>\n",
       "    <tr>\n",
       "      <th>2713</th>\n",
       "      <td>Yves Morieux</td>\n",
       "      <td>2</td>\n",
       "      <td>6100000</td>\n",
       "      <td>185000</td>\n",
       "    </tr>\n",
       "    <tr>\n",
       "      <th>3718</th>\n",
       "      <td>Yves Rossy</td>\n",
       "      <td>1</td>\n",
       "      <td>8700000</td>\n",
       "      <td>262000</td>\n",
       "    </tr>\n",
       "    <tr>\n",
       "      <th>2961</th>\n",
       "      <td>Zak Ebrahim</td>\n",
       "      <td>1</td>\n",
       "      <td>6500000</td>\n",
       "      <td>195000</td>\n",
       "    </tr>\n",
       "    <tr>\n",
       "      <th>2983</th>\n",
       "      <td>Ze Frank</td>\n",
       "      <td>3</td>\n",
       "      <td>14700000</td>\n",
       "      <td>444000</td>\n",
       "    </tr>\n",
       "    <tr>\n",
       "      <th>2091</th>\n",
       "      <td>Zeynep Tufekci</td>\n",
       "      <td>3</td>\n",
       "      <td>6300000</td>\n",
       "      <td>193000</td>\n",
       "    </tr>\n",
       "  </tbody>\n",
       "</table>\n",
       "<p>371 rows × 4 columns</p>\n",
       "</div>"
      ],
      "text/plain": [
       "               Autor  Quantidade de Vídeos  Visualizações totais  Likes totais\n",
       "340           TED-Ed                     7               7065000        212000\n",
       "441      A.J. Jacobs                     6              11136000        338000\n",
       "1582    Adam Carroll                     1               5800000        174000\n",
       "2488     Adam Driver                     1              12000000        362000\n",
       "2356   Adam Galinsky                     1               7100000        214000\n",
       "...              ...                   ...                   ...           ...\n",
       "2713    Yves Morieux                     2               6100000        185000\n",
       "3718      Yves Rossy                     1               8700000        262000\n",
       "2961     Zak Ebrahim                     1               6500000        195000\n",
       "2983        Ze Frank                     3              14700000        444000\n",
       "2091  Zeynep Tufekci                     3               6300000        193000\n",
       "\n",
       "[371 rows x 4 columns]"
      ]
     },
     "execution_count": 48,
     "metadata": {},
     "output_type": "execute_result"
    }
   ],
   "source": [
    "df3[kmeans.labels_ == 4]"
   ]
  },
  {
   "cell_type": "markdown",
   "id": "6cd04faf",
   "metadata": {},
   "source": [
    "# Regressão Linear"
   ]
  },
  {
   "cell_type": "code",
   "execution_count": 49,
   "id": "31bff7a0",
   "metadata": {},
   "outputs": [
    {
     "data": {
      "text/plain": [
       "<AxesSubplot:xlabel='Quantidade de Vídeos', ylabel='Likes'>"
      ]
     },
     "execution_count": 49,
     "metadata": {},
     "output_type": "execute_result"
    },
    {
     "data": {
      "image/png": "[encoded data removed]",
      "text/plain": [
       "<Figure size 1080x576 with 1 Axes>"
      ]
     },
     "metadata": {
      "needs_background": "light"
     },
     "output_type": "display_data"
    }
   ],
   "source": [
    "from scipy.stats import linregress\n",
    "df2.plot.scatter(x='Quantidade de Vídeos', y='Likes')"
   ]
  },
  {
   "cell_type": "code",
   "execution_count": 50,
   "id": "408d9820",
   "metadata": {},
   "outputs": [],
   "source": [
    "coef_angular, coef_linear,_,_,std_err = linregress(df2['Quantidade de Vídeos'], df2['Likes'])"
   ]
  },
  {
   "cell_type": "code",
   "execution_count": 51,
   "id": "4a1e4e68",
   "metadata": {},
   "outputs": [
    {
     "name": "stdout",
     "output_type": "stream",
     "text": [
      "Coeficiente angular = 58867.56\n",
      "Coeficiente linear = 678196.94\n"
     ]
    }
   ],
   "source": [
    "print(f\"Coeficiente angular = {coef_angular:.2f}\")\n",
    "print(f\"Coeficiente linear = {coef_linear:.2f}\")\n",
    "reta = coef_angular*df2['Quantidade de Vídeos']+coef_linear"
   ]
  },
  {
   "cell_type": "code",
   "execution_count": 52,
   "id": "5afaae83",
   "metadata": {},
   "outputs": [
    {
     "data": {
      "image/png": "[encoded data removed]",
      "text/plain": [
       "<Figure size 1080x576 with 1 Axes>"
      ]
     },
     "metadata": {
      "needs_background": "light"
     },
     "output_type": "display_data"
    }
   ],
   "source": [
    "plt.scatter(df2['Quantidade de Vídeos'], df2['Likes'])\n",
    "plt.plot(df2['Quantidade de Vídeos'], reta, color='red')\n",
    "plt.xlabel('Quantidade de Vídeos')\n",
    "plt.ylabel('Likes')\n",
    "plt.show()"
   ]
  },
  {
   "cell_type": "code",
   "execution_count": 53,
   "id": "49ca202f",
   "metadata": {},
   "outputs": [
    {
     "name": "stdout",
     "output_type": "stream",
     "text": [
      "Se a quantidade de vídeos forem 700, pela regressão feita, dará 41.89M likes\n"
     ]
    }
   ],
   "source": [
    "print(f\"Se a quantidade de vídeos forem 700, pela regressão feita, dará {(coef_angular * 700 + coef_linear)/1000000:.2f}M likes\")"
   ]
  },
  {
   "cell_type": "markdown",
   "id": "2b43482e",
   "metadata": {},
   "source": [
    "## Clusterização das palavras mais frequentes nos títulos dos vídeos"
   ]
  },
  {
   "cell_type": "code",
   "execution_count": 54,
   "id": "ea4448b1",
   "metadata": {},
   "outputs": [
    {
     "name": "stdout",
     "output_type": "stream",
     "text": [
      "[[0 0 0 ... 0 0 0]\n",
      " [0 0 0 ... 0 0 0]\n",
      " [0 0 0 ... 0 0 0]\n",
      " ...\n",
      " [0 0 0 ... 0 0 0]\n",
      " [0 0 0 ... 0 0 0]\n",
      " [0 0 0 ... 0 0 0]]\n",
      "5440\n"
     ]
    },
    {
     "data": {
      "text/plain": [
       "5440"
      ]
     },
     "execution_count": 54,
     "metadata": {},
     "output_type": "execute_result"
    }
   ],
   "source": [
    "from sklearn.feature_extraction.text import CountVectorizer\n",
    "\n",
    "vectorizer2 = CountVectorizer()\n",
    "X2 = vectorizer2.fit_transform(df['title'])\n",
    "print(X2.toarray())\n",
    "print(len(X2.toarray()))\n",
    "len(df['title'])"
   ]
  },
  {
   "cell_type": "code",
   "execution_count": 57,
   "id": "7f062825",
   "metadata": {},
   "outputs": [
    {
     "data": {
      "text/plain": [
       "6228"
      ]
     },
     "execution_count": 57,
     "metadata": {},
     "output_type": "execute_result"
    }
   ],
   "source": [
    "len(X2.toarray()[0])"
   ]
  },
  {
   "cell_type": "code",
   "execution_count": 58,
   "id": "838a2782",
   "metadata": {},
   "outputs": [],
   "source": [
    "distortions = []\n",
    "K = range(1, 20)\n",
    "for k in K:\n",
    "    kmeansModel = KMeans(n_clusters=k)\n",
    "    kmeansModel.fit(X2)\n",
    "    distortions.append(kmeansModel.inertia_)"
   ]
  },
  {
   "cell_type": "code",
   "execution_count": 60,
   "id": "2e1ba1c7",
   "metadata": {},
   "outputs": [
    {
     "data": {
      "image/png": "[encoded data removed]",
      "text/plain": [
       "<Figure size 1152x576 with 1 Axes>"
      ]
     },
     "metadata": {
      "needs_background": "light"
     },
     "output_type": "display_data"
    }
   ],
   "source": [
    "plt.figure(figsize=(16,8))\n",
    "plt.plot(K, distortions, 'bx-')\n",
    "plt.xlabel('k')\n",
    "plt.ylabel('Distortion')\n",
    "plt.title('The Elbow Method showing the optimal k')\n",
    "plt.show()"
   ]
  },
  {
   "cell_type": "code",
   "execution_count": 64,
   "id": "7381931d",
   "metadata": {},
   "outputs": [
    {
     "name": "stdout",
     "output_type": "stream",
     "text": [
      "6228\n",
      "[[ 4.79503213e-02  4.22404546e-02]\n",
      " [ 2.50298585e+00 -9.37290080e-01]\n",
      " [ 3.38808531e-01  8.44471348e-01]\n",
      " ...\n",
      " [ 8.39827774e-01 -2.47553474e-01]\n",
      " [ 1.18126069e-04 -1.13278314e-04]\n",
      " [ 8.67159324e-01 -2.21528245e-01]]\n"
     ]
    }
   ],
   "source": [
    "from sklearn.decomposition import TruncatedSVD\n",
    "\n",
    "svd = TruncatedSVD(n_components=2)\n",
    "svd.fit(X2)\n",
    "redut = svd.transform(X2)\n",
    "print(len(X2.toarray()[0]))\n",
    "print(redut)\n"
   ]
  },
  {
   "cell_type": "code",
   "execution_count": 67,
   "id": "678a977a",
   "metadata": {},
   "outputs": [
    {
     "data": {
      "image/png": "[encoded data removed]",
      "text/plain": [
       "<Figure size 1080x576 with 1 Axes>"
      ]
     },
     "metadata": {
      "needs_background": "light"
     },
     "output_type": "display_data"
    }
   ],
   "source": [
    "kmeans = KMeans(n_clusters = 4,                 # Set amount of clusters\n",
    "                init = 'k-means++',             # Initialization method for kmeans\n",
    "                max_iter = 100,                 # MaX2imum number of iterations\n",
    "                n_init = 10,                    # Choose how often algorithm will run with different centroid\n",
    "                random_state = 1)               # Choose random state for reproducibility\n",
    "\n",
    "pred_y = kmeans.fit_predict(X2)\n",
    "\n",
    "plt.scatter(redut[pred_y==0, 0], redut[pred_y==0, 1], s=10, c='red', label ='Cluster 1')\n",
    "plt.scatter(redut[pred_y==1, 0], redut[pred_y==1, 1], s=10, c='purple', label ='Cluster 2')\n",
    "plt.scatter(redut[pred_y==2, 0], redut[pred_y==2, 1], s=10, c='green', label ='Cluster 3')\n",
    "plt.scatter(redut[pred_y==3, 0], redut[pred_y==3, 1], s=10, c='black', label ='Cluster 4')\n",
    "\n",
    "\n",
    "# Plot the clusters \n",
    "plt.scatter(kmeans.cluster_centers_[:, 0], \n",
    "            kmeans.cluster_centers_[:, 1], \n",
    "            s=100,                             # Set centroid size\n",
    "            c='blue')                           # Set centroid color\n",
    "\n",
    "plt.show()"
   ]
  },
  {
   "cell_type": "markdown",
   "id": "47f77013",
   "metadata": {},
   "source": [
    "Criando dataframe para os títulos e o resultado do kmeans"
   ]
  },
  {
   "cell_type": "code",
   "execution_count": 75,
   "id": "4a5d6568",
   "metadata": {},
   "outputs": [],
   "source": [
    "df4 = pd.DataFrame()\n",
    "df4['Titulos'] = df['title']\n",
    "df4['Cluster'] = pred_y"
   ]
  },
  {
   "cell_type": "code",
   "execution_count": 84,
   "id": "cb268ac1",
   "metadata": {},
   "outputs": [
    {
     "data": {
      "text/html": [
       "<div>\n",
       "<style scoped>\n",
       "    .dataframe tbody tr th:only-of-type {\n",
       "        vertical-align: middle;\n",
       "    }\n",
       "\n",
       "    .dataframe tbody tr th {\n",
       "        vertical-align: top;\n",
       "    }\n",
       "\n",
       "    .dataframe thead th {\n",
       "        text-align: right;\n",
       "    }\n",
       "</style>\n",
       "<table border=\"1\" class=\"dataframe\">\n",
       "  <thead>\n",
       "    <tr style=\"text-align: right;\">\n",
       "      <th></th>\n",
       "      <th>Titulos</th>\n",
       "      <th>Cluster</th>\n",
       "    </tr>\n",
       "  </thead>\n",
       "  <tbody>\n",
       "    <tr>\n",
       "      <th>3</th>\n",
       "      <td>Why is China appointing judges to combat clima...</td>\n",
       "      <td>2</td>\n",
       "    </tr>\n",
       "    <tr>\n",
       "      <th>4</th>\n",
       "      <td>Cement's carbon problem — and 2 ways to fix it</td>\n",
       "      <td>2</td>\n",
       "    </tr>\n",
       "    <tr>\n",
       "      <th>7</th>\n",
       "      <td>You deserve the right to repair your stuff</td>\n",
       "      <td>2</td>\n",
       "    </tr>\n",
       "    <tr>\n",
       "      <th>10</th>\n",
       "      <td>A sex therapist's secret to rediscovering your...</td>\n",
       "      <td>2</td>\n",
       "    </tr>\n",
       "    <tr>\n",
       "      <th>28</th>\n",
       "      <td>Smart solutions to decarbonize buildings</td>\n",
       "      <td>2</td>\n",
       "    </tr>\n",
       "    <tr>\n",
       "      <th>...</th>\n",
       "      <td>...</td>\n",
       "      <td>...</td>\n",
       "    </tr>\n",
       "    <tr>\n",
       "      <th>5371</th>\n",
       "      <td>To invent is to give</td>\n",
       "      <td>2</td>\n",
       "    </tr>\n",
       "    <tr>\n",
       "      <th>5402</th>\n",
       "      <td>Why did I ski to the North Pole?</td>\n",
       "      <td>2</td>\n",
       "    </tr>\n",
       "    <tr>\n",
       "      <th>5405</th>\n",
       "      <td>How to rebuild a broken state</td>\n",
       "      <td>2</td>\n",
       "    </tr>\n",
       "    <tr>\n",
       "      <th>5409</th>\n",
       "      <td>A roadmap to end aging</td>\n",
       "      <td>2</td>\n",
       "    </tr>\n",
       "    <tr>\n",
       "      <th>5423</th>\n",
       "      <td>Simple designs to save a life</td>\n",
       "      <td>2</td>\n",
       "    </tr>\n",
       "  </tbody>\n",
       "</table>\n",
       "<p>962 rows × 2 columns</p>\n",
       "</div>"
      ],
      "text/plain": [
       "                                                Titulos  Cluster\n",
       "3     Why is China appointing judges to combat clima...        2\n",
       "4        Cement's carbon problem — and 2 ways to fix it        2\n",
       "7            You deserve the right to repair your stuff        2\n",
       "10    A sex therapist's secret to rediscovering your...        2\n",
       "28             Smart solutions to decarbonize buildings        2\n",
       "...                                                 ...      ...\n",
       "5371                               To invent is to give        2\n",
       "5402                   Why did I ski to the North Pole?        2\n",
       "5405                      How to rebuild a broken state        2\n",
       "5409                             A roadmap to end aging        2\n",
       "5423                      Simple designs to save a life        2\n",
       "\n",
       "[962 rows x 2 columns]"
      ]
     },
     "execution_count": 84,
     "metadata": {},
     "output_type": "execute_result"
    }
   ],
   "source": [
    "df4[df4['Cluster'] == 2]"
   ]
  }
 ],
 "metadata": {
  "kernelspec": {
   "display_name": "Python 3 (ipykernel)",
   "language": "python",
   "name": "python3"
  },
  "language_info": {
   "codemirror_mode": {
    "name": "ipython",
    "version": 3
   },
   "file_extension": ".py",
   "mimetype": "text/x-python",
   "name": "python",
   "nbconvert_exporter": "python",
   "pygments_lexer": "ipython3",
   "version": "3.9.12"
  },
  "vscode": {
   "interpreter": {
    "hash": "3e3763a57b4ffe0d06e963ec4b7f8ef3a748cbfdb342037439726ee83e94c05b"
   }
  }
 },
 "nbformat": 4,
 "nbformat_minor": 5
}
