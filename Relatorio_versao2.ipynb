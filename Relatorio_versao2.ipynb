{
 "cells": [
  {
   "cell_type": "markdown",
   "id": "6e779202",
   "metadata": {},
   "source": [
    "# Passos para o relatório\n",
    "\n",
    "Título e nome dos integrantes;\n",
    "• Introdução: motivação e objetivos da análise;\n",
    "• Dados usados: descrição do(s) dataset(s) e exploração inicial dos dados;\n",
    "\n",
    "• Pré-processamento: limpeza e transformação dos dados necessários, explicando as decisões tomadas;\n",
    "\n",
    "• Perguntas: mostrar cada pergunta e executar o passo a passo para respondê-las (vocês devem utilizar regressão linear ou agrupamento em pelo menos uma pergunta);\n",
    "\n",
    "• Conclusão: resumir os resultados encontrados e explicar por que são importantes. Apontar limitações, trabalhos futuros e melhorias que podem ser feitas.\n",
    "\n",
    "Importar imagens, realizar explicações a respeito dos autores, temas que eles abordam e etc"
   ]
  },
  {
   "cell_type": "markdown",
   "id": "90ea2b1a",
   "metadata": {},
   "source": [
    "# TED TALKS\n",
    "\n",
    "### Uma análise dos vídeos criados ao longo de 52 anos"
   ]
  },
  {
   "cell_type": "markdown",
   "id": "cd6127d7",
   "metadata": {},
   "source": [
    "Desde seu surgimento o TED Talks tem o propósito de disseminar ideias por meio de conferências feitas na Europa, Ásia e Américas, de forma que além das conferências, existem os vídeos, a fim de possibilitar mais ainda a disseminação das ideias que merecem sê-las, conforme seu próprio slogan.\n",
    "\n",
    "Esta análise tem como objetivo verificar como os vídeos do TED Talks se comportaram ao longo dos anos, em relação às visualizações, likes e quantidade de vídeos postados, bem como a progressão dos maiores autores sobre as ditas variáveis.\n",
    "\n",
    "##### Discentes: Luís Henrique Augustoo de Lima e Rafael Barboza de Almeida"
   ]
  },
  {
   "cell_type": "markdown",
   "id": "67f68ca5",
   "metadata": {},
   "source": [
    "Inicialmente vamos importar as bibliotecas necessárias para o projeto e inicializar o dataset original."
   ]
  },
  {
   "cell_type": "code",
   "execution_count": 1,
   "id": "f3446ca2",
   "metadata": {},
   "outputs": [],
   "source": [
    "import pandas as pd\n",
    "import seaborn as sns\n",
    "import numpy as np\n",
    "import matplotlib.pyplot as plt\n",
    "import matplotlib as mpl\n",
    "from sklearn.cluster import KMeans\n",
    "from scipy.stats import linregress"
   ]
  },
  {
   "cell_type": "code",
   "execution_count": 2,
   "id": "9d8d7dfd",
   "metadata": {},
   "outputs": [
    {
     "data": {
      "text/html": [
       "<div>\n",
       "<style scoped>\n",
       "    .dataframe tbody tr th:only-of-type {\n",
       "        vertical-align: middle;\n",
       "    }\n",
       "\n",
       "    .dataframe tbody tr th {\n",
       "        vertical-align: top;\n",
       "    }\n",
       "\n",
       "    .dataframe thead th {\n",
       "        text-align: right;\n",
       "    }\n",
       "</style>\n",
       "<table border=\"1\" class=\"dataframe\">\n",
       "  <thead>\n",
       "    <tr style=\"text-align: right;\">\n",
       "      <th></th>\n",
       "      <th>title</th>\n",
       "      <th>author</th>\n",
       "      <th>date</th>\n",
       "      <th>views</th>\n",
       "      <th>likes</th>\n",
       "    </tr>\n",
       "  </thead>\n",
       "  <tbody>\n",
       "    <tr>\n",
       "      <th>0</th>\n",
       "      <td>Climate action needs new frontline leadership</td>\n",
       "      <td>Ozawa Bineshi Albert</td>\n",
       "      <td>December 2021</td>\n",
       "      <td>404000</td>\n",
       "      <td>12000</td>\n",
       "    </tr>\n",
       "    <tr>\n",
       "      <th>1</th>\n",
       "      <td>The dark history of the overthrow of Hawaii</td>\n",
       "      <td>Sydney Iaukea</td>\n",
       "      <td>February 2022</td>\n",
       "      <td>214000</td>\n",
       "      <td>6400</td>\n",
       "    </tr>\n",
       "    <tr>\n",
       "      <th>2</th>\n",
       "      <td>How play can spark new ideas for your business</td>\n",
       "      <td>Martin Reeves</td>\n",
       "      <td>September 2021</td>\n",
       "      <td>412000</td>\n",
       "      <td>12000</td>\n",
       "    </tr>\n",
       "    <tr>\n",
       "      <th>3</th>\n",
       "      <td>Why is China appointing judges to combat clima...</td>\n",
       "      <td>James K. Thornton</td>\n",
       "      <td>October 2021</td>\n",
       "      <td>427000</td>\n",
       "      <td>12000</td>\n",
       "    </tr>\n",
       "    <tr>\n",
       "      <th>4</th>\n",
       "      <td>Cement's carbon problem — and 2 ways to fix it</td>\n",
       "      <td>Mahendra Singhi</td>\n",
       "      <td>October 2021</td>\n",
       "      <td>2400</td>\n",
       "      <td>72</td>\n",
       "    </tr>\n",
       "  </tbody>\n",
       "</table>\n",
       "</div>"
      ],
      "text/plain": [
       "                                               title                author  \\\n",
       "0      Climate action needs new frontline leadership  Ozawa Bineshi Albert   \n",
       "1        The dark history of the overthrow of Hawaii         Sydney Iaukea   \n",
       "2     How play can spark new ideas for your business         Martin Reeves   \n",
       "3  Why is China appointing judges to combat clima...     James K. Thornton   \n",
       "4     Cement's carbon problem — and 2 ways to fix it       Mahendra Singhi   \n",
       "\n",
       "             date   views  likes  \n",
       "0   December 2021  404000  12000  \n",
       "1   February 2022  214000   6400  \n",
       "2  September 2021  412000  12000  \n",
       "3    October 2021  427000  12000  \n",
       "4    October 2021    2400     72  "
      ]
     },
     "execution_count": 2,
     "metadata": {},
     "output_type": "execute_result"
    }
   ],
   "source": [
    "df= pd.read_csv('TED_TALKS_data.csv').drop(columns =['link'])\n",
    "df.head()"
   ]
  },
  {
   "cell_type": "markdown",
   "id": "3379a018",
   "metadata": {},
   "source": [
    "Para este dataset iremos modificar suas colunas em alguns momentos, além de criar dataframes auxiliares, cada um com seu fim específico, para organizar melhor os dados."
   ]
  },
  {
   "cell_type": "code",
   "execution_count": 3,
   "id": "01538a4c",
   "metadata": {},
   "outputs": [
    {
     "data": {
      "text/html": [
       "<div>\n",
       "<style scoped>\n",
       "    .dataframe tbody tr th:only-of-type {\n",
       "        vertical-align: middle;\n",
       "    }\n",
       "\n",
       "    .dataframe tbody tr th {\n",
       "        vertical-align: top;\n",
       "    }\n",
       "\n",
       "    .dataframe thead th {\n",
       "        text-align: right;\n",
       "    }\n",
       "</style>\n",
       "<table border=\"1\" class=\"dataframe\">\n",
       "  <thead>\n",
       "    <tr style=\"text-align: right;\">\n",
       "      <th></th>\n",
       "      <th>title</th>\n",
       "      <th>author</th>\n",
       "      <th>date</th>\n",
       "      <th>views</th>\n",
       "      <th>likes</th>\n",
       "      <th>anos</th>\n",
       "    </tr>\n",
       "  </thead>\n",
       "  <tbody>\n",
       "    <tr>\n",
       "      <th>0</th>\n",
       "      <td>Climate action needs new frontline leadership</td>\n",
       "      <td>Ozawa Bineshi Albert</td>\n",
       "      <td>2021-12-01</td>\n",
       "      <td>404000</td>\n",
       "      <td>12000</td>\n",
       "      <td>2021</td>\n",
       "    </tr>\n",
       "    <tr>\n",
       "      <th>1</th>\n",
       "      <td>The dark history of the overthrow of Hawaii</td>\n",
       "      <td>Sydney Iaukea</td>\n",
       "      <td>2022-02-01</td>\n",
       "      <td>214000</td>\n",
       "      <td>6400</td>\n",
       "      <td>2022</td>\n",
       "    </tr>\n",
       "    <tr>\n",
       "      <th>2</th>\n",
       "      <td>How play can spark new ideas for your business</td>\n",
       "      <td>Martin Reeves</td>\n",
       "      <td>2021-09-01</td>\n",
       "      <td>412000</td>\n",
       "      <td>12000</td>\n",
       "      <td>2021</td>\n",
       "    </tr>\n",
       "    <tr>\n",
       "      <th>3</th>\n",
       "      <td>Why is China appointing judges to combat clima...</td>\n",
       "      <td>James K. Thornton</td>\n",
       "      <td>2021-10-01</td>\n",
       "      <td>427000</td>\n",
       "      <td>12000</td>\n",
       "      <td>2021</td>\n",
       "    </tr>\n",
       "    <tr>\n",
       "      <th>4</th>\n",
       "      <td>Cement's carbon problem — and 2 ways to fix it</td>\n",
       "      <td>Mahendra Singhi</td>\n",
       "      <td>2021-10-01</td>\n",
       "      <td>2400</td>\n",
       "      <td>72</td>\n",
       "      <td>2021</td>\n",
       "    </tr>\n",
       "  </tbody>\n",
       "</table>\n",
       "</div>"
      ],
      "text/plain": [
       "                                               title                author  \\\n",
       "0      Climate action needs new frontline leadership  Ozawa Bineshi Albert   \n",
       "1        The dark history of the overthrow of Hawaii         Sydney Iaukea   \n",
       "2     How play can spark new ideas for your business         Martin Reeves   \n",
       "3  Why is China appointing judges to combat clima...     James K. Thornton   \n",
       "4     Cement's carbon problem — and 2 ways to fix it       Mahendra Singhi   \n",
       "\n",
       "        date   views  likes  anos  \n",
       "0 2021-12-01  404000  12000  2021  \n",
       "1 2022-02-01  214000   6400  2022  \n",
       "2 2021-09-01  412000  12000  2021  \n",
       "3 2021-10-01  427000  12000  2021  \n",
       "4 2021-10-01    2400     72  2021  "
      ]
     },
     "execution_count": 3,
     "metadata": {},
     "output_type": "execute_result"
    }
   ],
   "source": [
    "#Iicializando os datasets auxiliares e separando o ANO da coluna DATE no dataset original\n",
    "\n",
    "df2 = pd.DataFrame()  # Em relação aos anos\n",
    "df3 = pd.DataFrame()  # Em relação aos autores\n",
    "\n",
    "df['date'] = pd.to_datetime(df['date'])\n",
    "df['anos']= df['date'].dt.year\n",
    "df.head()"
   ]
  },
  {
   "cell_type": "markdown",
   "id": "b6c16d05",
   "metadata": {},
   "source": [
    "Agora iremos começar a coletar os dados mais específicos que serão utilizados para as futuras análises, agrupando-os nos dataframes já inicializados (df2 e df3).\n",
    "\n",
    "### Coletando dados referente aos vídeos\n",
    "##### Agrupando dados no dataframe 2 (df2)"
   ]
  },
  {
   "cell_type": "code",
   "execution_count": 4,
   "id": "b81e0e14",
   "metadata": {},
   "outputs": [],
   "source": [
    "#Agrupando todos os anos (sem repetições) do dataframe original\n",
    "\n",
    "anossemrep = []\n",
    "for c in df['anos']:\n",
    "    if c not in anossemrep:\n",
    "        anossemrep.append(c)\n",
    "anossemrep = pd.DataFrame(anossemrep, columns = ['Ano']).sort_values(by=\"Ano\", ascending=False).reset_index(drop=True)\n",
    "df2['Anos'] = anossemrep"
   ]
  },
  {
   "cell_type": "code",
   "execution_count": 5,
   "id": "d5bcd41f",
   "metadata": {},
   "outputs": [],
   "source": [
    "#Coletando a quantidade de vídeos postados por ano\n",
    "\n",
    "contagemano= []\n",
    "for c in anossemrep['Ano']:\n",
    "    cont = 0\n",
    "    for i in df['anos']:\n",
    "        if c == i:\n",
    "            cont += 1\n",
    "    contagemano.append(cont)\n",
    "contagemano = pd.DataFrame(contagemano, columns=['Quantidade de Vídeos'])\n",
    "df2['Quantidade de Vídeos'] = contagemano"
   ]
  },
  {
   "cell_type": "code",
   "execution_count": 6,
   "id": "ca48a5a7",
   "metadata": {},
   "outputs": [],
   "source": [
    "#Coletando as visualizações por ano\n",
    "\n",
    "viewyear= []\n",
    "for c in anossemrep['Ano']:\n",
    "    total = 0\n",
    "    for n ,i in enumerate(df['anos']):\n",
    "        if c == i:\n",
    "            total += df['views'][n]\n",
    "    viewyear.append(total)\n",
    "viewyear = pd.DataFrame(viewyear, columns=['Visualização']).reset_index().drop(columns=['index'])\n",
    "df2['Visualização'] = viewyear"
   ]
  },
  {
   "cell_type": "code",
   "execution_count": 7,
   "id": "40663212",
   "metadata": {},
   "outputs": [],
   "source": [
    "#Coletando a quantidade de likes por ano\n",
    "\n",
    "likes = []\n",
    "for c in anossemrep['Ano']:\n",
    "    total = 0\n",
    "    for n ,i in enumerate(df['anos']):\n",
    "        if c == i:\n",
    "            total += df['likes'][n]\n",
    "    likes.append(total)\n",
    "likes = pd.DataFrame(likes, columns=['Likes']).reset_index().drop(columns=['index'])\n",
    "df2['Likes'] = likes"
   ]
  },
  {
   "cell_type": "code",
   "execution_count": 8,
   "id": "9c23b0c6",
   "metadata": {},
   "outputs": [],
   "source": [
    "#Calculando a média de visualizações por ano\n",
    "\n",
    "media_views = pd.DataFrame(viewyear['Visualização'] / contagemano['Quantidade de Vídeos'], columns=['Média de visualização']).round(2)\n",
    "df2['Média de visualização'] = media_views"
   ]
  },
  {
   "cell_type": "code",
   "execution_count": 9,
   "id": "61271112",
   "metadata": {},
   "outputs": [],
   "source": [
    "# Calculando a média de likes por ano\n",
    "\n",
    "media_like = pd.DataFrame(df2['Likes'] / df2['Quantidade de Vídeos'], columns=['Média de likes']).round(2)\n",
    "df2['Média de Likes'] = media_like"
   ]
  },
  {
   "cell_type": "markdown",
   "id": "3d0066ce",
   "metadata": {},
   "source": [
    "Agora, podemos ver como ficou o primeiro dataframe auxiliar após a coleta dos dados anteriores."
   ]
  },
  {
   "cell_type": "code",
   "execution_count": 10,
   "id": "1317a2ff",
   "metadata": {},
   "outputs": [
    {
     "data": {
      "text/html": [
       "<div>\n",
       "<style scoped>\n",
       "    .dataframe tbody tr th:only-of-type {\n",
       "        vertical-align: middle;\n",
       "    }\n",
       "\n",
       "    .dataframe tbody tr th {\n",
       "        vertical-align: top;\n",
       "    }\n",
       "\n",
       "    .dataframe thead th {\n",
       "        text-align: right;\n",
       "    }\n",
       "</style>\n",
       "<table border=\"1\" class=\"dataframe\">\n",
       "  <thead>\n",
       "    <tr style=\"text-align: right;\">\n",
       "      <th></th>\n",
       "      <th>Anos</th>\n",
       "      <th>Quantidade de Vídeos</th>\n",
       "      <th>Visualização</th>\n",
       "      <th>Likes</th>\n",
       "      <th>Média de visualização</th>\n",
       "      <th>Média de Likes</th>\n",
       "    </tr>\n",
       "  </thead>\n",
       "  <tbody>\n",
       "    <tr>\n",
       "      <th>0</th>\n",
       "      <td>2022</td>\n",
       "      <td>20</td>\n",
       "      <td>11470000</td>\n",
       "      <td>341254</td>\n",
       "      <td>573500.00</td>\n",
       "      <td>17062.70</td>\n",
       "    </tr>\n",
       "    <tr>\n",
       "      <th>1</th>\n",
       "      <td>2021</td>\n",
       "      <td>390</td>\n",
       "      <td>429728700</td>\n",
       "      <td>13058238</td>\n",
       "      <td>1101868.46</td>\n",
       "      <td>33482.66</td>\n",
       "    </tr>\n",
       "    <tr>\n",
       "      <th>2</th>\n",
       "      <td>2020</td>\n",
       "      <td>501</td>\n",
       "      <td>635944200</td>\n",
       "      <td>19297014</td>\n",
       "      <td>1269349.70</td>\n",
       "      <td>38516.99</td>\n",
       "    </tr>\n",
       "    <tr>\n",
       "      <th>3</th>\n",
       "      <td>2019</td>\n",
       "      <td>544</td>\n",
       "      <td>948119299</td>\n",
       "      <td>28764575</td>\n",
       "      <td>1742866.36</td>\n",
       "      <td>52876.06</td>\n",
       "    </tr>\n",
       "    <tr>\n",
       "      <th>4</th>\n",
       "      <td>2018</td>\n",
       "      <td>473</td>\n",
       "      <td>811857597</td>\n",
       "      <td>24671493</td>\n",
       "      <td>1716400.84</td>\n",
       "      <td>52159.60</td>\n",
       "    </tr>\n",
       "  </tbody>\n",
       "</table>\n",
       "</div>"
      ],
      "text/plain": [
       "   Anos  Quantidade de Vídeos  Visualização     Likes  Média de visualização  \\\n",
       "0  2022                    20      11470000    341254              573500.00   \n",
       "1  2021                   390     429728700  13058238             1101868.46   \n",
       "2  2020                   501     635944200  19297014             1269349.70   \n",
       "3  2019                   544     948119299  28764575             1742866.36   \n",
       "4  2018                   473     811857597  24671493             1716400.84   \n",
       "\n",
       "   Média de Likes  \n",
       "0        17062.70  \n",
       "1        33482.66  \n",
       "2        38516.99  \n",
       "3        52876.06  \n",
       "4        52159.60  "
      ]
     },
     "execution_count": 10,
     "metadata": {},
     "output_type": "execute_result"
    }
   ],
   "source": [
    "df2.head()"
   ]
  },
  {
   "cell_type": "markdown",
   "id": "81ca7701",
   "metadata": {},
   "source": [
    "### Coletando dados referente aos autores\n",
    "##### Agrupando dados no dataframe 3 (df3)"
   ]
  },
  {
   "cell_type": "code",
   "execution_count": 11,
   "id": "44e337d7",
   "metadata": {},
   "outputs": [],
   "source": [
    "#Agrupando o nome de todos os autores (sem repetição)\n",
    "\n",
    "autsemrep = []\n",
    "for a in df['author']:\n",
    "    if a not in autsemrep:\n",
    "        autsemrep.append(a)\n",
    "autsemrep = pd.DataFrame(autsemrep, columns = ['Autor'])\n",
    "df3['Autor'] = autsemrep"
   ]
  },
  {
   "cell_type": "code",
   "execution_count": 12,
   "id": "5de11909",
   "metadata": {},
   "outputs": [],
   "source": [
    "#Coletando a quantidade de vídeos postados por cada autor\n",
    "\n",
    "contagemaut= []\n",
    "for c in autsemrep['Autor']:\n",
    "    cont = 0\n",
    "    for i in df['author']:\n",
    "        if c == i:\n",
    "            cont += 1\n",
    "    contagemaut.append(cont)\n",
    "contagemaut = pd.DataFrame(contagemaut, columns=['Quantidade de Vídeos'])\n",
    "df3['Quantidade de Vídeos'] = contagemaut"
   ]
  },
  {
   "cell_type": "code",
   "execution_count": 13,
   "id": "bd705037",
   "metadata": {},
   "outputs": [],
   "source": [
    "#Coletando a quantidade de visualizações por autor\n",
    "\n",
    "viewaut= []\n",
    "for c in autsemrep['Autor']:\n",
    "    total = 0\n",
    "    for n ,i in enumerate(df['author']):\n",
    "        if c == i:\n",
    "            total += df['views'][n]\n",
    "    viewaut.append(total)\n",
    "viewaut = pd.DataFrame(viewaut, columns=['Visualizações totais']).reset_index().drop(columns=['index'])\n",
    "df3['Visualizações totais'] = viewaut"
   ]
  },
  {
   "cell_type": "code",
   "execution_count": 14,
   "id": "2f13f021",
   "metadata": {},
   "outputs": [],
   "source": [
    "#Coletando a quantidade de likes por autor\n",
    "\n",
    "likesaut = []\n",
    "for c in autsemrep['Autor']:\n",
    "    total = 0\n",
    "    for n ,i in enumerate(df['author']):\n",
    "        if c == i:\n",
    "            total += df['likes'][n]\n",
    "    likesaut.append(total)\n",
    "likesaut = pd.DataFrame(likesaut, columns=['Likes totais']).reset_index().drop(columns=['index'])\n",
    "df3['Likes totais'] = likesaut"
   ]
  },
  {
   "cell_type": "markdown",
   "id": "98ca136a",
   "metadata": {},
   "source": [
    "A seguir vamos utilizar mais alguns dataframes auxiliares para agruparem de forma mais específica alguns dados referentes aos autores, de forma que facilitarão na hora das análises referente a cada grupo."
   ]
  },
  {
   "cell_type": "code",
   "execution_count": 15,
   "id": "cce1d61f",
   "metadata": {},
   "outputs": [],
   "source": [
    "# Agrupando os 10 maiores autores em relação à quantidade de vídeos postados\n",
    "\n",
    "df3_vp = pd.DataFrame()\n",
    "df3_vp = df3.sort_values(by='Quantidade de Vídeos', ascending = False).reset_index().drop(columns=['index']).iloc[0:5]"
   ]
  },
  {
   "cell_type": "code",
   "execution_count": 16,
   "id": "052d7bee",
   "metadata": {},
   "outputs": [],
   "source": [
    "# Agrupando os 10 maiores autores em relação às visualizações totais\n",
    "\n",
    "df3_vt = pd.DataFrame()\n",
    "df3_vt = df3.sort_values(by='Visualizações totais', ascending = False).reset_index().drop(columns=['index']).iloc[0:5]"
   ]
  },
  {
   "cell_type": "code",
   "execution_count": 17,
   "id": "dc931c32",
   "metadata": {},
   "outputs": [],
   "source": [
    "# Agrupando os 10 maiores autores em relação à quantidade de likes totais\n",
    "\n",
    "df3_lt = pd.DataFrame()\n",
    "df3_lt = df3.sort_values(by='Likes totais', ascending = False).reset_index().drop(columns=['index']).iloc[0:5]"
   ]
  },
  {
   "cell_type": "code",
   "execution_count": 18,
   "id": "96e3eb29",
   "metadata": {},
   "outputs": [
    {
     "data": {
      "text/html": [
       "<div>\n",
       "<style scoped>\n",
       "    .dataframe tbody tr th:only-of-type {\n",
       "        vertical-align: middle;\n",
       "    }\n",
       "\n",
       "    .dataframe tbody tr th {\n",
       "        vertical-align: top;\n",
       "    }\n",
       "\n",
       "    .dataframe thead th {\n",
       "        text-align: right;\n",
       "    }\n",
       "</style>\n",
       "<table border=\"1\" class=\"dataframe\">\n",
       "  <thead>\n",
       "    <tr style=\"text-align: right;\">\n",
       "      <th></th>\n",
       "      <th>Autor</th>\n",
       "      <th>Quantidade de Vídeos</th>\n",
       "      <th>Visualizações totais</th>\n",
       "      <th>Likes totais</th>\n",
       "    </tr>\n",
       "  </thead>\n",
       "  <tbody>\n",
       "    <tr>\n",
       "      <th>2645</th>\n",
       "      <td>B.E.A.T. NYC</td>\n",
       "      <td>1</td>\n",
       "      <td>3200</td>\n",
       "      <td>98</td>\n",
       "    </tr>\n",
       "    <tr>\n",
       "      <th>633</th>\n",
       "      <td>Beautyrest</td>\n",
       "      <td>1</td>\n",
       "      <td>60000</td>\n",
       "      <td>1800</td>\n",
       "    </tr>\n",
       "    <tr>\n",
       "      <th>14</th>\n",
       "      <td>Belle and Sebastian</td>\n",
       "      <td>1</td>\n",
       "      <td>23000</td>\n",
       "      <td>690</td>\n",
       "    </tr>\n",
       "    <tr>\n",
       "      <th>800</th>\n",
       "      <td>Butterscotch</td>\n",
       "      <td>1</td>\n",
       "      <td>31000</td>\n",
       "      <td>933</td>\n",
       "    </tr>\n",
       "    <tr>\n",
       "      <th>1186</th>\n",
       "      <td>Climbing PoeTree</td>\n",
       "      <td>1</td>\n",
       "      <td>12000</td>\n",
       "      <td>367</td>\n",
       "    </tr>\n",
       "  </tbody>\n",
       "</table>\n",
       "</div>"
      ],
      "text/plain": [
       "                     Autor  Quantidade de Vídeos  Visualizações totais  \\\n",
       "2645          B.E.A.T. NYC                     1                  3200   \n",
       "633             Beautyrest                     1                 60000   \n",
       "14     Belle and Sebastian                     1                 23000   \n",
       "800           Butterscotch                     1                 31000   \n",
       "1186      Climbing PoeTree                     1                 12000   \n",
       "\n",
       "      Likes totais  \n",
       "2645            98  \n",
       "633           1800  \n",
       "14             690  \n",
       "800            933  \n",
       "1186           367  "
      ]
     },
     "execution_count": 18,
     "metadata": {},
     "output_type": "execute_result"
    }
   ],
   "source": [
    "# Organizando o df3 \n",
    "\n",
    "df3 = df3.sort_values(by='Autor', ascending = True)\n",
    "df3.head()"
   ]
  },
  {
   "cell_type": "markdown",
   "id": "4f0371b2",
   "metadata": {},
   "source": [
    "# GRÁFICOS, REGRESSÃO, AGRUPAMENTO E ETC SERÃO UTILIZADOS PARA RESPONDER AS PERGUNTAS\n",
    "\n"
   ]
  },
  {
   "cell_type": "markdown",
   "id": "b0e4ceea",
   "metadata": {},
   "source": [
    "# Perguntas"
   ]
  },
  {
   "cell_type": "markdown",
   "id": "bca356a0",
   "metadata": {},
   "source": [
    "A partir do processamento dos dados, finalmente podemos começar a analisar o que os dados trazem consigo.\n",
    "\n",
    "Inicialmente foram definidas as seguintes perguntas:\n",
    "\n",
    "• Qual foi o TED Talk mais visualizado?\n",
    "• Qual o TED Talk mais curtido?\n",
    "• Qual o(a) palestrante mais famoso (de acordo com número de likes)?\n",
    "• Qual o ano em que houve mais TED Talks lançados?\n",
    "• Qual palestrante tem mais TED Talks?\n",
    "\n",
    "Perguntas facilmente respondidas através dos DataFrames criados. Porém, à medida que o trabalho evoluiu, podemos perceber que seria possível incluir diversas perguntas, além de buscar mais informações específicas sobre determinados pontos. Sendo assim, a seguir iremos enumerar e demonstrar diversas observações que podemos obter a partir dos dados obtidos."
   ]
  },
  {
   "cell_type": "markdown",
   "id": "8eeb13c4",
   "metadata": {},
   "source": [
    "## O que podemos concluir através das variáveis obtidas pelos vídeos em si?\n",
    "### Análises iniciais"
   ]
  },
  {
   "cell_type": "markdown",
   "id": "4d4ce239",
   "metadata": {},
   "source": [
    "Como foi explicado anteriormente, o DataFrame \"df2\" foi utilizado para coletar dados referentes aos vídeos, o DataFrame \"df3\" para coletar dados referentes aos autores eo DataFrame \"df\" foi a base inicial, que serviu para coletar dados como o número de visualizações por ano, média de visualizações e curtidas, quantidade de vídeos postados, etc. Desta forma, iremos utilizá-los para demonstrar as respostas das perguntas iniciais."
   ]
  },
  {
   "cell_type": "code",
   "execution_count": 19,
   "id": "57f010a2",
   "metadata": {},
   "outputs": [],
   "source": [
    "# Padronização do tamanho dos gráficos\n",
    "\n",
    "plt.rcParams['figure.figsize']=(15,8)"
   ]
  },
  {
   "cell_type": "code",
   "execution_count": 20,
   "id": "e303866f",
   "metadata": {},
   "outputs": [
    {
     "data": {
      "text/html": [
       "<div>\n",
       "<style scoped>\n",
       "    .dataframe tbody tr th:only-of-type {\n",
       "        vertical-align: middle;\n",
       "    }\n",
       "\n",
       "    .dataframe tbody tr th {\n",
       "        vertical-align: top;\n",
       "    }\n",
       "\n",
       "    .dataframe thead th {\n",
       "        text-align: right;\n",
       "    }\n",
       "</style>\n",
       "<table border=\"1\" class=\"dataframe\">\n",
       "  <thead>\n",
       "    <tr style=\"text-align: right;\">\n",
       "      <th></th>\n",
       "      <th>title</th>\n",
       "      <th>author</th>\n",
       "      <th>date</th>\n",
       "      <th>views</th>\n",
       "      <th>likes</th>\n",
       "      <th>anos</th>\n",
       "    </tr>\n",
       "  </thead>\n",
       "  <tbody>\n",
       "    <tr>\n",
       "      <th>5436</th>\n",
       "      <td>Do schools kill creativity?</td>\n",
       "      <td>Sir Ken Robinson</td>\n",
       "      <td>2006-02-01</td>\n",
       "      <td>72000000</td>\n",
       "      <td>2100000</td>\n",
       "      <td>2006</td>\n",
       "    </tr>\n",
       "  </tbody>\n",
       "</table>\n",
       "</div>"
      ],
      "text/plain": [
       "                            title            author       date     views  \\\n",
       "5436  Do schools kill creativity?  Sir Ken Robinson 2006-02-01  72000000   \n",
       "\n",
       "        likes  anos  \n",
       "5436  2100000  2006  "
      ]
     },
     "execution_count": 20,
     "metadata": {},
     "output_type": "execute_result"
    }
   ],
   "source": [
    "# Qual o TED mais curtido?\n",
    "\n",
    "df.sort_values(by=\"likes\", ascending = False).head(1)"
   ]
  },
  {
   "cell_type": "code",
   "execution_count": 21,
   "id": "487f31cb",
   "metadata": {
    "scrolled": true
   },
   "outputs": [
    {
     "data": {
      "text/html": [
       "<div>\n",
       "<style scoped>\n",
       "    .dataframe tbody tr th:only-of-type {\n",
       "        vertical-align: middle;\n",
       "    }\n",
       "\n",
       "    .dataframe tbody tr th {\n",
       "        vertical-align: top;\n",
       "    }\n",
       "\n",
       "    .dataframe thead th {\n",
       "        text-align: right;\n",
       "    }\n",
       "</style>\n",
       "<table border=\"1\" class=\"dataframe\">\n",
       "  <thead>\n",
       "    <tr style=\"text-align: right;\">\n",
       "      <th></th>\n",
       "      <th>title</th>\n",
       "      <th>author</th>\n",
       "      <th>date</th>\n",
       "      <th>views</th>\n",
       "      <th>likes</th>\n",
       "      <th>anos</th>\n",
       "    </tr>\n",
       "  </thead>\n",
       "  <tbody>\n",
       "    <tr>\n",
       "      <th>5436</th>\n",
       "      <td>Do schools kill creativity?</td>\n",
       "      <td>Sir Ken Robinson</td>\n",
       "      <td>2006-02-01</td>\n",
       "      <td>72000000</td>\n",
       "      <td>2100000</td>\n",
       "      <td>2006</td>\n",
       "    </tr>\n",
       "  </tbody>\n",
       "</table>\n",
       "</div>"
      ],
      "text/plain": [
       "                            title            author       date     views  \\\n",
       "5436  Do schools kill creativity?  Sir Ken Robinson 2006-02-01  72000000   \n",
       "\n",
       "        likes  anos  \n",
       "5436  2100000  2006  "
      ]
     },
     "execution_count": 21,
     "metadata": {},
     "output_type": "execute_result"
    }
   ],
   "source": [
    "# Qual o TED mais visualizado?\n",
    "\n",
    "df.sort_values(by=\"views\", ascending = False).head(1)"
   ]
  },
  {
   "cell_type": "code",
   "execution_count": 22,
   "id": "1feceaf5",
   "metadata": {},
   "outputs": [
    {
     "data": {
      "text/plain": [
       "Text(0.5, 1.0, 'Palestrantes com mais likes')"
      ]
     },
     "execution_count": 22,
     "metadata": {},
     "output_type": "execute_result"
    },
    {
     "data": {
      "image/png": "[encoded data removed]",
      "text/plain": [
       "<Figure size 1080x576 with 1 Axes>"
      ]
     },
     "metadata": {
      "needs_background": "light"
     },
     "output_type": "display_data"
    }
   ],
   "source": [
    "# Qual o(a) palestrante mais famoso (de acordo com o número de likes)?\n",
    "\n",
    "sns.barplot(data=df3_lt, x=\"Likes totais\", y=\"Autor\").set_title(\"Palestrantes com mais likes\")"
   ]
  },
  {
   "cell_type": "code",
   "execution_count": 23,
   "id": "c49d1526",
   "metadata": {},
   "outputs": [
    {
     "data": {
      "text/plain": [
       "Text(0.5, 1.0, 'Quantidade de vídeos postados por ano')"
      ]
     },
     "execution_count": 23,
     "metadata": {},
     "output_type": "execute_result"
    },
    {
     "data": {
      "image/png": "[encoded data removed]",
      "text/plain": [
       "<Figure size 1080x576 with 1 Axes>"
      ]
     },
     "metadata": {
      "needs_background": "light"
     },
     "output_type": "display_data"
    }
   ],
   "source": [
    "# Qual o ano em que houve mais TED Talks lançados?\n",
    "\n",
    "sns.barplot(data=df2, x=\"Anos\", y=\"Quantidade de Vídeos\", palette=\"Blues_d\").set_title('Quantidade de vídeos postados por ano')"
   ]
  },
  {
   "cell_type": "code",
   "execution_count": 24,
   "id": "015dabf0",
   "metadata": {},
   "outputs": [
    {
     "data": {
      "text/plain": [
       "Text(0.5, 1.0, 'Palestrantes com mais vídeos postados')"
      ]
     },
     "execution_count": 24,
     "metadata": {},
     "output_type": "execute_result"
    },
    {
     "data": {
      "image/png": "[encoded data removed]",
      "text/plain": [
       "<Figure size 1080x576 with 1 Axes>"
      ]
     },
     "metadata": {
      "needs_background": "light"
     },
     "output_type": "display_data"
    }
   ],
   "source": [
    "# Qual palestrante tem mais TED Talks?\n",
    "\n",
    "sns.barplot(data=df3_vp, x=\"Quantidade de Vídeos\", y=\"Autor\").set_title(\"Palestrantes com mais vídeos postados\")"
   ]
  },
  {
   "cell_type": "markdown",
   "id": "615ce1de",
   "metadata": {},
   "source": [
    "### Análises posteriores\n",
    "\n",
    "A partir de agora iremos tratar de outras variáveis, como também realizar o agrupamento de determinadas icógnitas e realizar os procedimentos requisitados para o relatório final."
   ]
  },
  {
   "cell_type": "markdown",
   "id": "fe1b63f0",
   "metadata": {},
   "source": [
    "### Regressão linear \n",
    "\n",
    " Para a regressão linear utilizamos o gráfico da Quantidade de vídeos x Quantidade de likes como exemplo"
   ]
  },
  {
   "cell_type": "code",
   "execution_count": 29,
   "id": "dcde49ea",
   "metadata": {},
   "outputs": [
    {
     "data": {
      "text/plain": [
       "<AxesSubplot:xlabel='Quantidade de Vídeos', ylabel='Likes'>"
      ]
     },
     "execution_count": 29,
     "metadata": {},
     "output_type": "execute_result"
    },
    {
     "data": {
      "image/png": "[encoded data removed]",
      "text/plain": [
       "<Figure size 1080x576 with 1 Axes>"
      ]
     },
     "metadata": {
      "needs_background": "light"
     },
     "output_type": "display_data"
    }
   ],
   "source": [
    "# Plotando o gráfico Vídeos x Likes\n",
    "\n",
    "df2.plot.scatter(x='Quantidade de Vídeos', y='Likes')"
   ]
  },
  {
   "cell_type": "code",
   "execution_count": 26,
   "id": "ebffbbe3",
   "metadata": {},
   "outputs": [],
   "source": [
    "# Calculando coeficiente angular e linear\n",
    "\n",
    "coef_angular, coef_linear,_,_,std_err = linregress(df2['Quantidade de Vídeos'], df2['Likes'])"
   ]
  },
  {
   "cell_type": "code",
   "execution_count": 27,
   "id": "5e973653",
   "metadata": {},
   "outputs": [],
   "source": [
    "# A equação da reta se dará por:\n",
    "\n",
    "reta = coef_angular * df2['Quantidade de Vídeos'] + coef_linear"
   ]
  },
  {
   "cell_type": "code",
   "execution_count": 28,
   "id": "93819e72",
   "metadata": {},
   "outputs": [
    {
     "data": {
      "image/png": "[encoded data removed]",
      "text/plain": [
       "<Figure size 1080x576 with 1 Axes>"
      ]
     },
     "metadata": {
      "needs_background": "light"
     },
     "output_type": "display_data"
    }
   ],
   "source": [
    "# Plotando o gráfico novamente, mas dessa vez com a reta da regressão linear\n",
    "\n",
    "plt.scatter(df2['Quantidade de Vídeos'], df2['Likes'])\n",
    "plt.plot(df2['Quantidade de Vídeos'], reta, color='red')\n",
    "plt.xlabel('Quantidade de Vídeos')\n",
    "plt.ylabel('Likes')\n",
    "plt.show()"
   ]
  },
  {
   "cell_type": "code",
   "execution_count": 32,
   "id": "5f4f5ca5",
   "metadata": {},
   "outputs": [
    {
     "name": "stdout",
     "output_type": "stream",
     "text": [
      "Se quisermos saber quantidade de likes que 700 vídeos dariam, pela regressão linear feita, a resposta é 41.89M likes\n"
     ]
    }
   ],
   "source": [
    "print(f\"Se quisermos saber quantidade de likes que 700 vídeos dariam, pela regressão linear feita, a resposta é {(coef_angular * 700 + coef_linear)/1000000:.2f}M likes\")"
   ]
  }
 ],
 "metadata": {
  "kernelspec": {
   "display_name": "Python 3.9.7 ('base')",
   "language": "python",
   "name": "python3"
  },
  "language_info": {
   "codemirror_mode": {
    "name": "ipython",
    "version": 3
   },
   "file_extension": ".py",
   "mimetype": "text/x-python",
   "name": "python",
   "nbconvert_exporter": "python",
   "pygments_lexer": "ipython3",
   "version": "3.9.7"
  },
  "vscode": {
   "interpreter": {
    "hash": "f4dad6527d1c4d6db8e8e709b072b8dc4560d9c25600d1551d48ae28d26e06b7"
   }
  }
 },
 "nbformat": 4,
 "nbformat_minor": 5
}
